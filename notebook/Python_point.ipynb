{
 "cells": [
  {
   "cell_type": "markdown",
   "metadata": {},
   "source": [
    "### 深浅拷贝"
   ]
  },
  {
   "cell_type": "code",
   "execution_count": 6,
   "metadata": {
    "scrolled": true
   },
   "outputs": [
    {
     "data": {
      "text/plain": [
       "[1, 2, 3]"
      ]
     },
     "execution_count": 6,
     "metadata": {},
     "output_type": "execute_result"
    }
   ],
   "source": [
    "a = [1,2,3]\n",
    "b = a.copy()\n",
    "a[0] = 88\n",
    "b\n",
    "#浅拷贝"
   ]
  },
  {
   "cell_type": "code",
   "execution_count": 8,
   "metadata": {
    "scrolled": true
   },
   "outputs": [
    {
     "data": {
      "text/plain": [
       "[[88, 2, 3], [4, 5, 6], [7, 8, 9]]"
      ]
     },
     "execution_count": 8,
     "metadata": {},
     "output_type": "execute_result"
    }
   ],
   "source": [
    "m1 = [[1,2,3],[4,5,6],[7,8,9]]\n",
    "m2 = m1.copy()\n",
    "m1[0][0] = 88\n",
    "m2"
   ]
  },
  {
   "cell_type": "markdown",
   "metadata": {},
   "source": [
    "- 赋值是将一个变量的地址给一个新的变量，两者完全相同\n",
    "- 浅拷贝是建立一个新的变量，这个变量有新的地址，但其中元素的地址和原变量相同。 新的对象指向的还是原本的元素。\n",
    "- 浅拷贝中，如果链表中嵌套了列表，新列表的元素依然指向原列表元素指向的地址。"
   ]
  },
  {
   "cell_type": "code",
   "execution_count": 9,
   "metadata": {},
   "outputs": [
    {
     "data": {
      "text/plain": [
       "(4461136712, 4461136712)"
      ]
     },
     "execution_count": 9,
     "metadata": {},
     "output_type": "execute_result"
    }
   ],
   "source": [
    "id(m2[0]),id(m1[0])"
   ]
  },
  {
   "cell_type": "code",
   "execution_count": 10,
   "metadata": {},
   "outputs": [
    {
     "name": "stdout",
     "output_type": "stream",
     "text": [
      "[1, 2, 3] 4412643376 4412643376\n",
      "[1, 2, 3] 4412643376 4460230216\n"
     ]
    }
   ],
   "source": [
    "from copy import deepcopy \n",
    "d1 = [1,2,3]\n",
    "d2 = deepcopy(d1)\n",
    "print(d2,id(d2[0]),id(d1[0]))\n",
    "d1[0] = [[2,2]]\n",
    "d2\n",
    "print(d2,id(d2[0]),id(d1[0]))"
   ]
  },
  {
   "cell_type": "markdown",
   "metadata": {},
   "source": [
    "深拷贝则是完全重新创建了一个列表。"
   ]
  },
  {
   "cell_type": "markdown",
   "metadata": {},
   "source": [
    "### ASCII 码"
   ]
  },
  {
   "cell_type": "code",
   "execution_count": 11,
   "metadata": {},
   "outputs": [
    {
     "data": {
      "text/plain": [
       "(97, 122, 65, 90, 48, 'a', 'A')"
      ]
     },
     "execution_count": 11,
     "metadata": {},
     "output_type": "execute_result"
    }
   ],
   "source": [
    "ord('a'),ord('z'),ord('A'),ord('Z'),ord('0'),chr(97),chr(65)\n"
   ]
  },
  {
   "cell_type": "code",
   "execution_count": 6,
   "metadata": {},
   "outputs": [
    {
     "name": "stdout",
     "output_type": "stream",
     "text": [
      "['a', 'b', 'c', 'd', 'e', 'f', 'g', 'h', 'i', 'j', 'k', 'l', 'm', 'n', 'o', 'p', 'q', 'r', 's', 't', 'u', 'v', 'w', 'x', 'y', 'z']\n"
     ]
    }
   ],
   "source": [
    "letter = [chr(i) for i in range(97,97+26)]\n",
    "print(letter)"
   ]
  },
  {
   "cell_type": "code",
   "execution_count": 7,
   "metadata": {},
   "outputs": [
    {
     "data": {
      "text/plain": [
       "True"
      ]
     },
     "execution_count": 7,
     "metadata": {},
     "output_type": "execute_result"
    }
   ],
   "source": [
    "s_d = '123234'\n",
    "s_d[1].isdigit() "
   ]
  },
  {
   "cell_type": "code",
   "execution_count": 8,
   "metadata": {
    "scrolled": false
   },
   "outputs": [
    {
     "data": {
      "text/plain": [
       "('0b11', '0b10100')"
      ]
     },
     "execution_count": 8,
     "metadata": {},
     "output_type": "execute_result"
    }
   ],
   "source": [
    "bin(3),bin(20)"
   ]
  },
  {
   "cell_type": "markdown",
   "metadata": {},
   "source": [
    "### 或 ，与 ， 异或  "
   ]
  },
  {
   "cell_type": "code",
   "execution_count": 1,
   "metadata": {
    "scrolled": true
   },
   "outputs": [
    {
     "name": "stdout",
     "output_type": "stream",
     "text": [
      "0\n",
      "2\n",
      "6\n",
      "3\n"
     ]
    }
   ],
   "source": [
    "print(2 & 4)\n",
    "print(2 & 3)\n",
    "print(2 | 4)\n",
    "print(2 ^ 1)"
   ]
  },
  {
   "cell_type": "markdown",
   "metadata": {},
   "source": [
    "- 2 : 0010  \n",
    "- 3 : 0011 \n",
    "- & : 与 \n",
    "- | : 或   \n",
    "- ^ : 异或"
   ]
  },
  {
   "cell_type": "markdown",
   "metadata": {
    "collapsed": true
   },
   "source": [
    "### 跳出循环 continue and break "
   ]
  },
  {
   "cell_type": "code",
   "execution_count": 9,
   "metadata": {
    "scrolled": true
   },
   "outputs": [
    {
     "name": "stdout",
     "output_type": "stream",
     "text": [
      "5\n",
      "7\n",
      "9\n"
     ]
    }
   ],
   "source": [
    "n = 0 \n",
    "while n <10: \n",
    "    n = n+1\n",
    "    if  n >3 :\n",
    "        if n%2 == 0 :\n",
    "            continue  #跳出当次循环，continue下方的语句不会被执行\n",
    "        print(n)"
   ]
  },
  {
   "cell_type": "markdown",
   "metadata": {},
   "source": [
    "### main 函数\n",
    "- 每个py文件作为执行文件时，__name__ 就是 __main__ \n",
    "- a.py作为被引用的文件时， __name__ 就是 a.py"
   ]
  },
  {
   "cell_type": "code",
   "execution_count": 303,
   "metadata": {},
   "outputs": [
    {
     "name": "stdout",
     "output_type": "stream",
     "text": [
      "bingo\n"
     ]
    }
   ],
   "source": [
    "if __name__ == '__main__':\n",
    "    print('bingo')"
   ]
  },
  {
   "cell_type": "markdown",
   "metadata": {},
   "source": [
    "### 类\n",
    "同一个类的函数调用 ：  self.fun() \n",
    "\n",
    "所有类内的函数定义都要加self！！ self代表调用者。\n",
    "\n",
    "同一个类内调用函数的时候都要加上self"
   ]
  },
  {
   "cell_type": "code",
   "execution_count": 190,
   "metadata": {
    "scrolled": true
   },
   "outputs": [
    {
     "name": "stdout",
     "output_type": "stream",
     "text": [
      "10\n"
     ]
    }
   ],
   "source": [
    "class Solution:\n",
    "    \n",
    "    def fun1(self,a,b):\n",
    "        if a> 0 and b> 0 :\n",
    "            return a+b\n",
    "        else:\n",
    "            return self.fun1(a+1,b+1)\n",
    "    \n",
    "\n",
    "    def fun2(self,c,d):\n",
    "        return self.fun1(c,d)\n",
    "\n",
    "s = Solution()\n",
    "print(s.fun2(-5,3)) \n",
    "\n"
   ]
  },
  {
   "cell_type": "markdown",
   "metadata": {},
   "source": [
    "### 装饰器"
   ]
  },
  {
   "cell_type": "code",
   "execution_count": 192,
   "metadata": {},
   "outputs": [
    {
     "name": "stdout",
     "output_type": "stream",
     "text": [
      "c\n",
      "a\n"
     ]
    }
   ],
   "source": [
    "def deco(fun):       # 定义装饰器函数，输入类型为一个函数，  输出类型依然是一个函数。\n",
    "    def wrapper():   #  自定义装饰器一定要使用wrapper函数\n",
    "        fun()        # 调用传入的函数\n",
    "        print('a')  #定义新的功能\n",
    "    return wrapper   #返回一个添加了新功能的函数\n",
    "\n",
    "@deco\n",
    "def fun1():\n",
    "    print('b')\n",
    "    \n",
    "@deco\n",
    "def fun2():\n",
    "    print('c')\n",
    "\n",
    "\n",
    "fun2()"
   ]
  },
  {
   "cell_type": "markdown",
   "metadata": {},
   "source": [
    "### 类方法"
   ]
  },
  {
   "cell_type": "markdown",
   "metadata": {},
   "source": [
    "装饰器 classmethod\n",
    "\n",
    "@classmethod就是让实例在调用被@classmethod装饰的方法时，隐式的传入模具（类）本身。\n",
    "\n",
    "一句话总结各种方法的区别：\n",
    "- 所谓实例方法就是第一个参数是self，\n",
    "- 所谓类方法就是第一个参数是class，\n",
    "- 而静态方法不需要额外的参数。\n"
   ]
  },
  {
   "cell_type": "code",
   "execution_count": 193,
   "metadata": {},
   "outputs": [
    {
     "name": "stdout",
     "output_type": "stream",
     "text": [
      "S\n"
     ]
    }
   ],
   "source": [
    "class S: \n",
    "    @classmethod\n",
    "    def cls_name(cls):\n",
    "        print(cls.__name__)\n",
    "s = S() \n",
    "s.cls_name()"
   ]
  },
  {
   "cell_type": "code",
   "execution_count": 207,
   "metadata": {
    "scrolled": true
   },
   "outputs": [
    {
     "name": "stdout",
     "output_type": "stream",
     "text": [
      "8 1 2018\n"
     ]
    }
   ],
   "source": [
    "class Date:\n",
    "    def __init__(self,day,month,year):\n",
    "        self.day = day \n",
    "        self.month = month \n",
    "        self.year = year \n",
    "        \n",
    "    @classmethod \n",
    "    def from_string(cls,date_as_string):\n",
    "        day , month , year  = map(int,date_as_string.split('-'))\n",
    "        date = cls(day,month,year)\n",
    "        return date\n",
    "    \n",
    "date = Date.from_string('08-01-2018')\n",
    "print(date.day,date.month,date.year)"
   ]
  },
  {
   "cell_type": "code",
   "execution_count": 212,
   "metadata": {
    "collapsed": true
   },
   "outputs": [],
   "source": [
    "class Date:\n",
    "    def __init__(self,day,month,year):\n",
    "        self.day = day \n",
    "        self.month = month \n",
    "        self.year = year \n",
    "    def fun(self,a,b,c):\n",
    "        return Date(a,b,c)"
   ]
  },
  {
   "cell_type": "markdown",
   "metadata": {},
   "source": [
    "## 继承\n",
    "- 子类可以继承父类的方法 和 定义自己的方法\n",
    "- 子类也可以有子类\n",
    "- 继承的意义是代码的复用"
   ]
  },
  {
   "cell_type": "markdown",
   "metadata": {},
   "source": [
    "### super（ ）  父类操作\n",
    "在类的继承中，如果重新定义某个方法，父类的方法就会被覆盖\n",
    "有时我们希望同时调用原来的父类功能，这时就要用到super方法。\n"
   ]
  },
  {
   "cell_type": "code",
   "execution_count": 250,
   "metadata": {},
   "outputs": [
    {
     "data": {
      "text/plain": [
       "'tim'"
      ]
     },
     "execution_count": 250,
     "metadata": {},
     "output_type": "execute_result"
    }
   ],
   "source": [
    "##正常的 \n",
    "class Animal:\n",
    "    def __init__(self,name):\n",
    "        self.name = name\n",
    "    def eat(self):\n",
    "        print('eat')\n",
    "\n",
    "class Dog(Animal):\n",
    "    def __init__(self,name,foot):\n",
    "        self.name = name \n",
    "        self.foot = foot\n",
    " \n",
    "    def eat(self):\n",
    "        print('eating')\n",
    "        \n",
    "d = Dog('tim','4')  #初始化时必须传入两个参数\n",
    "\n",
    "d.name"
   ]
  },
  {
   "cell_type": "code",
   "execution_count": 264,
   "metadata": {},
   "outputs": [
    {
     "name": "stdout",
     "output_type": "stream",
     "text": [
      "eat\n",
      "eating\n"
     ]
    }
   ],
   "source": [
    "class Animal:\n",
    "    def __init__(self,name):\n",
    "        self.name = name\n",
    "        \n",
    "    def eat(self):\n",
    "        print('eat')\n",
    "        \n",
    "\n",
    "class Dog(Animal):\n",
    "    def eat(self):\n",
    "        super().eat()   # 加上super使得父类的eat函数也会生效\n",
    "        print('eating')\n",
    "        \n",
    "d = Dog('tim')\n",
    "\n",
    "d.eat()"
   ]
  },
  {
   "cell_type": "code",
   "execution_count": null,
   "metadata": {
    "collapsed": true
   },
   "outputs": [],
   "source": []
  },
  {
   "cell_type": "markdown",
   "metadata": {},
   "source": [
    "### 异常处理"
   ]
  },
  {
   "cell_type": "code",
   "execution_count": 229,
   "metadata": {},
   "outputs": [
    {
     "data": {
      "text/plain": [
       "12"
      ]
     },
     "execution_count": 229,
     "metadata": {},
     "output_type": "execute_result"
    }
   ],
   "source": [
    "nums_dict = {}\n",
    "try : \n",
    "    nums_dict[1]\n",
    "except:\n",
    "    nums_dict[1] = 12\n",
    "nums_dict[1]"
   ]
  },
  {
   "cell_type": "markdown",
   "metadata": {
    "collapsed": true
   },
   "source": [
    "### 字符串"
   ]
  },
  {
   "cell_type": "code",
   "execution_count": 140,
   "metadata": {},
   "outputs": [
    {
     "data": {
      "text/plain": [
       "3"
      ]
     },
     "execution_count": 140,
     "metadata": {},
     "output_type": "execute_result"
    }
   ],
   "source": [
    "'aaabbc'.count('a') #统计字符串中某个字符的个数"
   ]
  },
  {
   "cell_type": "code",
   "execution_count": 141,
   "metadata": {},
   "outputs": [
    {
     "data": {
      "text/plain": [
       "['5.1', '3.5', '1.4', '0.2', 'Iris-setosa']"
      ]
     },
     "execution_count": 141,
     "metadata": {},
     "output_type": "execute_result"
    }
   ],
   "source": [
    "f = '5.1,3.5,1.4,0.2,Iris-setosa\\n'\n",
    "f.strip().split(',')  #排在前面的函数先调用 "
   ]
  },
  {
   "cell_type": "code",
   "execution_count": 302,
   "metadata": {
    "scrolled": false
   },
   "outputs": [
    {
     "name": "stdout",
     "output_type": "stream",
     "text": [
      "\n",
      "adsf \n",
      "asdf\n",
      "adf\n",
      "\n",
      "adfasf adsfd\n"
     ]
    }
   ],
   "source": [
    "#字符串换行 ： 三引号 或是 行尾加斜杠\n",
    "print(\"\"\"\n",
    "adsf \n",
    "asdf\n",
    "adf\n",
    "\"\"\")\n",
    "\n",
    "print('adfasf \\\n",
    "adsf\\\n",
    "d')\n",
    "\n"
   ]
  },
  {
   "cell_type": "markdown",
   "metadata": {
    "collapsed": true
   },
   "source": [
    "### args kwargs \n",
    "当一个函数中要传入的参数个数不定时，就要使用这两个变量\n",
    "- python中的可变参数\n",
    "- *args 是一个tuple， 表示任何多个无名参数  , 把多个传入的变量打包成一个tuple\n",
    "- **kwargs 是一个dict ， 表示关键字参数 ，打包关键字参数成dict给函数体调用\n",
    "- 同时使用时，args在前， kwargs在后 ,参数x、*args、**kwargs三个参数的位置必须是一定的。必须是(x,*args,**kwargs)这个顺序。"
   ]
  },
  {
   "cell_type": "code",
   "execution_count": 290,
   "metadata": {},
   "outputs": [
    {
     "name": "stdout",
     "output_type": "stream",
     "text": [
      "()\n",
      "{}\n",
      "------------------------------\n",
      "(1, 2, 3)\n",
      "{}\n",
      "------------------------------\n",
      "()\n",
      "{'a': 1, 'b': 2, 'c': 3}\n",
      "------------------------------\n",
      "('a', 1, None)\n",
      "{'a': 1, 'b': '2', 'c': 3}\n"
     ]
    }
   ],
   "source": [
    "def foo(*args, **kwargs):\n",
    "    print(args)\n",
    "    print(kwargs)\n",
    "foo()\n",
    "\n",
    "print('-'*30)\n",
    "\n",
    "foo(1,2,3)\n",
    "\n",
    "print('-'*30)\n",
    "\n",
    "foo(a=1,b=2,c=3)\n",
    "\n",
    "print('-'*30)\n",
    "\n",
    "foo('a', 1, None, a=1, b='2', c=3)\n"
   ]
  },
  {
   "cell_type": "markdown",
   "metadata": {},
   "source": [
    "-  args就是所有参数的数组\n",
    "-  kwargs就是当你传入key=value时存储的字典"
   ]
  }
 ],
 "metadata": {
  "kernelspec": {
   "display_name": "Python 3",
   "language": "python",
   "name": "python3"
  },
  "language_info": {
   "codemirror_mode": {
    "name": "ipython",
    "version": 3
   },
   "file_extension": ".py",
   "mimetype": "text/x-python",
   "name": "python",
   "nbconvert_exporter": "python",
   "pygments_lexer": "ipython3",
   "version": "3.6.3"
  }
 },
 "nbformat": 4,
 "nbformat_minor": 2
}
