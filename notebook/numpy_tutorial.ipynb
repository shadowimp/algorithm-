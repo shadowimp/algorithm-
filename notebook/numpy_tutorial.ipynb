{
 "cells": [
  {
   "cell_type": "markdown",
   "metadata": {},
   "source": [
    "# numpy基础"
   ]
  },
  {
   "cell_type": "code",
   "execution_count": 2,
   "metadata": {},
   "outputs": [
    {
     "data": {
      "text/plain": [
       "array([ 0,  1,  2,  3,  4,  5,  6,  7,  8,  9, 10, 11])"
      ]
     },
     "execution_count": 2,
     "metadata": {},
     "output_type": "execute_result"
    }
   ],
   "source": [
    "import numpy as np \n",
    "np.arange(12)"
   ]
  },
  {
   "cell_type": "code",
   "execution_count": 11,
   "metadata": {
    "scrolled": true
   },
   "outputs": [
    {
     "name": "stdout",
     "output_type": "stream",
     "text": [
      "<class 'numpy.ndarray'> , int64\n",
      "2\n"
     ]
    },
    {
     "data": {
      "text/plain": [
       "array([['0', '1', '2', '3'],\n",
       "       ['4', '5', '6', '7'],\n",
       "       ['8', '9', '1', '1']],\n",
       "      dtype='<U1')"
      ]
     },
     "execution_count": 11,
     "metadata": {},
     "output_type": "execute_result"
    }
   ],
   "source": [
    "b = np.arange(12).reshape(3,4)\n",
    "print(type(b),\",\",b.dtype)\n",
    "print(b.ndim)\n",
    "a = np.array(['a','b'])\n",
    "b = b.astype(a.dtype)\n",
    "b"
   ]
  },
  {
   "cell_type": "markdown",
   "metadata": {},
   "source": [
    "astype 将数组中的所有元素都转换类型\n"
   ]
  },
  {
   "cell_type": "code",
   "execution_count": 44,
   "metadata": {},
   "outputs": [
    {
     "data": {
      "text/plain": [
       "array([[-0.03264974,  0.54976008,  0.63772   , -0.51897593],\n",
       "       [-1.45470894,  0.41216185,  0.2121057 , -0.3281198 ],\n",
       "       [-0.3990489 ,  0.29405433,  1.23650282,  0.45526649]])"
      ]
     },
     "execution_count": 44,
     "metadata": {},
     "output_type": "execute_result"
    }
   ],
   "source": [
    "n = np.random.randn(3,4)    # 得到3*4维的随机矩阵 ，数据都是标准正态分布的（均值为0，标准差为1） \n",
    "n"
   ]
  },
  {
   "cell_type": "code",
   "execution_count": 45,
   "metadata": {},
   "outputs": [
    {
     "data": {
      "text/plain": [
       "(array([[-0.03264974, -1.45470894, -0.3990489 ],\n",
       "        [ 0.54976008,  0.41216185,  0.29405433],\n",
       "        [ 0.63772   ,  0.2121057 ,  1.23650282],\n",
       "        [-0.51897593, -0.3281198 ,  0.45526649]]),\n",
       " array([[-0.03264974, -1.45470894, -0.3990489 ],\n",
       "        [ 0.54976008,  0.41216185,  0.29405433],\n",
       "        [ 0.63772   ,  0.2121057 ,  1.23650282],\n",
       "        [-0.51897593, -0.3281198 ,  0.45526649]]))"
      ]
     },
     "execution_count": 45,
     "metadata": {},
     "output_type": "execute_result"
    }
   ],
   "source": [
    "n.transpose(), n.T "
   ]
  },
  {
   "cell_type": "code",
   "execution_count": 49,
   "metadata": {},
   "outputs": [
    {
     "data": {
      "text/plain": [
       "array([[1, 2, 3, 1, 2, 3, 1, 2, 3],\n",
       "       [1, 2, 3, 1, 2, 3, 1, 2, 3]])"
      ]
     },
     "execution_count": 49,
     "metadata": {},
     "output_type": "execute_result"
    }
   ],
   "source": [
    "b = np.array([1,2,3])\n",
    "np.tile(b,(2,3))"
   ]
  },
  {
   "cell_type": "code",
   "execution_count": 22,
   "metadata": {},
   "outputs": [
    {
     "data": {
      "text/plain": [
       "array([[[[ 0.,  0.,  0.,  0.,  0.],\n",
       "         [ 0.,  0.,  0.,  0.,  0.],\n",
       "         [ 0.,  0.,  0.,  0.,  0.],\n",
       "         [ 0.,  0.,  0.,  0.,  0.]],\n",
       "\n",
       "        [[ 0.,  0.,  0.,  0.,  0.],\n",
       "         [ 0.,  0.,  0.,  0.,  0.],\n",
       "         [ 0.,  0.,  0.,  0.,  0.],\n",
       "         [ 0.,  0.,  0.,  0.,  0.]],\n",
       "\n",
       "        [[ 0.,  0.,  0.,  0.,  0.],\n",
       "         [ 0.,  0.,  0.,  0.,  0.],\n",
       "         [ 0.,  0.,  0.,  0.,  0.],\n",
       "         [ 0.,  0.,  0.,  0.,  0.]]],\n",
       "\n",
       "\n",
       "       [[[ 0.,  0.,  0.,  0.,  0.],\n",
       "         [ 0.,  0.,  0.,  0.,  0.],\n",
       "         [ 0.,  0.,  0.,  0.,  0.],\n",
       "         [ 0.,  0.,  0.,  0.,  0.]],\n",
       "\n",
       "        [[ 0.,  0.,  0.,  0.,  0.],\n",
       "         [ 0.,  0.,  0.,  0.,  0.],\n",
       "         [ 0.,  0.,  0.,  0.,  0.],\n",
       "         [ 0.,  0.,  0.,  0.,  0.]],\n",
       "\n",
       "        [[ 0.,  0.,  0.,  0.,  0.],\n",
       "         [ 0.,  0.,  0.,  0.,  0.],\n",
       "         [ 0.,  0.,  0.,  0.,  0.],\n",
       "         [ 0.,  0.,  0.,  0.,  0.]]]])"
      ]
     },
     "execution_count": 22,
     "metadata": {},
     "output_type": "execute_result"
    }
   ],
   "source": [
    "a = np.zeros((2,3,4,5))\n",
    "a"
   ]
  },
  {
   "cell_type": "markdown",
   "metadata": {},
   "source": [
    "- 四维数组（2*3*4*5）由2个三维数组（3 * 4 * 5）组成\n",
    "- 每个三维数组由三个两维数组构成。\n",
    "- 每个两维数组由4个一维数组构成\n",
    "- 每个一维数组由5个数构成"
   ]
  },
  {
   "cell_type": "code",
   "execution_count": 96,
   "metadata": {},
   "outputs": [
    {
     "data": {
      "text/plain": [
       "array([[ 101.39675515,  100.42117259,   98.38668775,   99.52482408],\n",
       "       [ 101.84402276,  100.23928417,   99.37471831,  100.76008043],\n",
       "       [ 100.85240396,  100.47715546,  100.83035737,   99.85276794],\n",
       "       [  99.10033395,  101.08191268,  101.05061614,  100.22719265]])"
      ]
     },
     "execution_count": 96,
     "metadata": {},
     "output_type": "execute_result"
    }
   ],
   "source": [
    "np.random.normal(100,size=(4,4)) #正太分布 以100为中心"
   ]
  },
  {
   "cell_type": "code",
   "execution_count": 97,
   "metadata": {
    "scrolled": true
   },
   "outputs": [
    {
     "data": {
      "text/plain": [
       "array([1, 2, 3, 4])"
      ]
     },
     "execution_count": 97,
     "metadata": {},
     "output_type": "execute_result"
    }
   ],
   "source": [
    "a = np.array([2,3,4,3,3,2,1])\n",
    "np.unique(a)"
   ]
  },
  {
   "cell_type": "markdown",
   "metadata": {},
   "source": [
    "### tolist( ) 将array 类型变成list"
   ]
  },
  {
   "cell_type": "code",
   "execution_count": 5,
   "metadata": {},
   "outputs": [
    {
     "data": {
      "text/plain": [
       "[0, 1, 2, 3, 4, 5, 6, 7, 8, 9]"
      ]
     },
     "execution_count": 5,
     "metadata": {},
     "output_type": "execute_result"
    }
   ],
   "source": [
    "nums = np.arange(10)\n",
    "nums.tolist() "
   ]
  },
  {
   "cell_type": "markdown",
   "metadata": {},
   "source": [
    "相当于set并排序"
   ]
  },
  {
   "cell_type": "markdown",
   "metadata": {},
   "source": [
    "### numpy 读文件\n",
    "读取后的类型是一个array"
   ]
  },
  {
   "cell_type": "code",
   "execution_count": 91,
   "metadata": {},
   "outputs": [
    {
     "name": "stdout",
     "output_type": "stream",
     "text": [
      "<class 'numpy.ndarray'>\n"
     ]
    },
    {
     "data": {
      "text/plain": [
       "'4.9,3.0,1.4,0.2,Iris-setosa'"
      ]
     },
     "execution_count": 91,
     "metadata": {},
     "output_type": "execute_result"
    }
   ],
   "source": [
    "arr_file = np.loadtxt('Iris.txt',dtype= str)\n",
    "print( type(arr_file)  ) \n",
    "arr_file[1] \n",
    "\n"
   ]
  },
  {
   "cell_type": "markdown",
   "metadata": {},
   "source": [
    "###  广播运算\n",
    "numpy的广播，能够对每个元素进行同样的运算"
   ]
  },
  {
   "cell_type": "code",
   "execution_count": 61,
   "metadata": {},
   "outputs": [
    {
     "data": {
      "text/plain": [
       "21"
      ]
     },
     "execution_count": 61,
     "metadata": {},
     "output_type": "execute_result"
    }
   ],
   "source": [
    "arr = np.array([[1,2,3],[4,5,6]])\n",
    "arr.sum()   # 计算所有元素之和"
   ]
  },
  {
   "cell_type": "code",
   "execution_count": 60,
   "metadata": {
    "scrolled": true
   },
   "outputs": [
    {
     "data": {
      "text/plain": [
       "array([[ 1,  4,  9],\n",
       "       [16, 25, 36]])"
      ]
     },
     "execution_count": 60,
     "metadata": {},
     "output_type": "execute_result"
    }
   ],
   "source": [
    "arr*arr  # 元素对应相乘"
   ]
  },
  {
   "cell_type": "code",
   "execution_count": 62,
   "metadata": {},
   "outputs": [
    {
     "data": {
      "text/plain": [
       "array([[ 1.        ,  1.41421356,  1.73205081],\n",
       "       [ 2.        ,  2.23606798,  2.44948974]])"
      ]
     },
     "execution_count": 62,
     "metadata": {},
     "output_type": "execute_result"
    }
   ],
   "source": [
    "np.sqrt(arr)"
   ]
  },
  {
   "cell_type": "markdown",
   "metadata": {},
   "source": [
    "- array 数组使你不用进行循环就能进行批量运算。\n",
    "- 对 array数组直接使用运算符，相当于所有元素对应进行运算。"
   ]
  },
  {
   "cell_type": "code",
   "execution_count": 71,
   "metadata": {
    "scrolled": true
   },
   "outputs": [
    {
     "name": "stdout",
     "output_type": "stream",
     "text": [
      "[[10 13]\n",
      " [22 29]]\n",
      "[[ 2  6]\n",
      " [12 20]]\n"
     ]
    }
   ],
   "source": [
    "arr_1 = np.array([[1,2],[3,4]])\n",
    "arr_2 = np.array([[2,3],[4,5]])\n",
    "print(np.dot(arr_1,arr_2)) # 计算点积\n",
    "print(arr_1*arr_2)  #矩阵中的元素对应相乘"
   ]
  },
  {
   "cell_type": "markdown",
   "metadata": {},
   "source": [
    "### 切片"
   ]
  },
  {
   "cell_type": "code",
   "execution_count": 74,
   "metadata": {},
   "outputs": [
    {
     "name": "stdout",
     "output_type": "stream",
     "text": [
      "3 3\n",
      "[[2 3]\n",
      " [5 6]]\n"
     ]
    }
   ],
   "source": [
    "arr_2 = np.array([[1,2,3],[4,5,6],[7,8,9]])\n",
    "print(arr_2[0][2],arr_2[0,2])\n",
    "print(arr_2[:2,1:])\n",
    "\n"
   ]
  },
  {
   "cell_type": "code",
   "execution_count": 17,
   "metadata": {},
   "outputs": [
    {
     "data": {
      "text/plain": [
       "array([  0,   1,   2,   3,   4, 666, 666, 666,   8,   9])"
      ]
     },
     "execution_count": 17,
     "metadata": {},
     "output_type": "execute_result"
    }
   ],
   "source": [
    "arr = np.arange(10)\n",
    "arr[5:8] = 666\n",
    "arr"
   ]
  },
  {
   "cell_type": "markdown",
   "metadata": {},
   "source": [
    "将一个标量赋值给一个数组切片时，该值会自动广播到整个选区。\n"
   ]
  },
  {
   "cell_type": "code",
   "execution_count": 18,
   "metadata": {},
   "outputs": [
    {
     "data": {
      "text/plain": [
       "array([ 0,  1,  2,  3,  4, 64, 64, 64,  8,  9])"
      ]
     },
     "execution_count": 18,
     "metadata": {},
     "output_type": "execute_result"
    }
   ],
   "source": [
    "arr_slice = arr[5:8]\n",
    "arr_slice[:] = 64\n",
    "arr"
   ]
  },
  {
   "cell_type": "markdown",
   "metadata": {},
   "source": [
    "array类型被切片后不会赋值，只保留一份数据，广播给多个元素"
   ]
  },
  {
   "cell_type": "code",
   "execution_count": 80,
   "metadata": {},
   "outputs": [
    {
     "name": "stdout",
     "output_type": "stream",
     "text": [
      "[[ 0.00997921  0.97857635  0.03615849  0.2049267 ]\n",
      " [ 0.17056042  0.56830557  0.03101884  0.81692513]\n",
      " [ 0.58921704  0.35407485  0.11146701  0.76606199]] \n",
      "\n",
      "[[ 0.00997921  0.97857635  0.03615849  0.2049267 ]\n",
      " [ 0.58921704  0.35407485  0.11146701  0.76606199]]\n"
     ]
    }
   ],
   "source": [
    "arr = np.random.rand(3,4)\n",
    "print(arr,'\\n')\n",
    "print(arr[[True,False,True]])  \n",
    "#用布尔型列表切片数组  取三行中的两行"
   ]
  },
  {
   "cell_type": "code",
   "execution_count": 81,
   "metadata": {},
   "outputs": [
    {
     "data": {
      "text/plain": [
       "array([[ 0.        ,  0.97857635,  0.        ,  0.        ],\n",
       "       [ 0.        ,  0.56830557,  0.        ,  0.81692513],\n",
       "       [ 0.58921704,  0.        ,  0.        ,  0.76606199]])"
      ]
     },
     "execution_count": 81,
     "metadata": {},
     "output_type": "execute_result"
    }
   ],
   "source": [
    "arr[arr<0.5] =  0\n",
    "arr"
   ]
  },
  {
   "cell_type": "markdown",
   "metadata": {},
   "source": [
    "按条件批量改变数组的值"
   ]
  },
  {
   "cell_type": "code",
   "execution_count": 82,
   "metadata": {},
   "outputs": [
    {
     "name": "stdout",
     "output_type": "stream",
     "text": [
      "[[ 0.34887773  0.82997492  0.21689782  0.33073214]\n",
      " [ 0.49979723  0.20711331  0.63031888  0.66401165]\n",
      " [ 0.32898925  0.41261952  0.16592379  0.58345047]\n",
      " [ 0.19054489  0.43052859  0.67575993  0.66862046]]\n"
     ]
    },
    {
     "data": {
      "text/plain": [
       "array([['<0.5', '>0.5', '<0.5', '<0.5'],\n",
       "       ['<0.5', '<0.5', '>0.5', '>0.5'],\n",
       "       ['<0.5', '<0.5', '<0.5', '>0.5'],\n",
       "       ['<0.5', '<0.5', '>0.5', '>0.5']],\n",
       "      dtype='<U4')"
      ]
     },
     "execution_count": 82,
     "metadata": {},
     "output_type": "execute_result"
    }
   ],
   "source": [
    "arr = np.random.rand(4,4)\n",
    "print(arr)\n",
    "np.where(arr>0.5,'>0.5','<0.5')"
   ]
  },
  {
   "cell_type": "code",
   "execution_count": 83,
   "metadata": {},
   "outputs": [
    {
     "data": {
      "text/plain": [
       "array([['0.3488777290040256', '>0.5', '0.21689781625680882',\n",
       "        '0.33073214072721624'],\n",
       "       ['0.49979722790285985', '0.20711331499068508', '>0.5', '>0.5'],\n",
       "       ['0.32898925390008793', '0.41261951893109716',\n",
       "        '0.16592378631846016', '>0.5'],\n",
       "       ['0.19054488851734863', '0.43052859294913737', '>0.5', '>0.5']],\n",
       "      dtype='<U32')"
      ]
     },
     "execution_count": 83,
     "metadata": {},
     "output_type": "execute_result"
    }
   ],
   "source": [
    "np.where(arr>0.5, '>0.5' ,arr)"
   ]
  },
  {
   "cell_type": "markdown",
   "metadata": {},
   "source": [
    "### 线性代数库  linalg   ( linear algebra ) "
   ]
  },
  {
   "cell_type": "code",
   "execution_count": 93,
   "metadata": {},
   "outputs": [
    {
     "data": {
      "text/plain": [
       "array([-13.11474312,   2.75956154,   6.35518158])"
      ]
     },
     "execution_count": 93,
     "metadata": {},
     "output_type": "execute_result"
    }
   ],
   "source": [
    "import numpy as np \n",
    "from numpy import linalg\n",
    "\n",
    "a = np.array([1,2,3])\n",
    "a_mat = np.mat(a)\n",
    "### 将array类型转换成矩阵类型 \n",
    "a_mat.I   #矩阵求逆 \n",
    "\n",
    "m = np.matrix([[1,-2,3],[0,4,5],[7,8,-9]])\n",
    "\n",
    "## 行列式 determinant \n",
    "linalg.det(m)\n",
    "\n",
    "## 特征值 eigenvalues\n",
    "linalg.eigvals(m)"
   ]
  },
  {
   "cell_type": "markdown",
   "metadata": {},
   "source": [
    "# matplotlib "
   ]
  },
  {
   "cell_type": "code",
   "execution_count": 31,
   "metadata": {
    "scrolled": true
   },
   "outputs": [
    {
     "data": {
      "image/png": "[encoded data removed]",
      "text/plain": [
       "<matplotlib.figure.Figure at 0x108afa550>"
      ]
     },
     "metadata": {},
     "output_type": "display_data"
    }
   ],
   "source": [
    "import matplotlib.pyplot as plt\n",
    "import numpy as np \n",
    "\n",
    "x = [1,2,3]\n",
    "y = [2,4,6] \n",
    "plt.plot(x,y)\n",
    "plt.show() "
   ]
  },
  {
   "cell_type": "code",
   "execution_count": 41,
   "metadata": {},
   "outputs": [
    {
     "data": {
      "image/png": "[encoded data removed]",
      "text/plain": [
       "<matplotlib.figure.Figure at 0x11272f7b8>"
      ]
     },
     "metadata": {},
     "output_type": "display_data"
    }
   ],
   "source": [
    "x = [3,4,5]\n",
    "y = [3,4,5]\n",
    "plt.subplot(2,1,1)\n",
    "plt.plot(x,y)\n",
    "\n",
    "x1 = [1,2,3]\n",
    "y1 = [5,6,7]\n",
    "plt.subplot(2,1,2)  # 子图， 两行一列中的第一个 \n",
    "\n",
    "plt.plot(x1,y1)\n",
    "plt.show() "
   ]
  },
  {
   "cell_type": "code",
   "execution_count": 94,
   "metadata": {},
   "outputs": [
    {
     "data": {
      "image/png": "[encoded data removed]",
      "text/plain": [
       "<matplotlib.figure.Figure at 0x1127155f8>"
      ]
     },
     "metadata": {},
     "output_type": "display_data"
    }
   ],
   "source": [
    "import matplotlib.pyplot as plt\n",
    "import numpy as np \n",
    "\n",
    "x = np.array([1,2,3]) \n",
    "y = x \n",
    "y0 = 0*x\n",
    "y1 = 0.5*x \n",
    "y2 = 2*x \n",
    "\n",
    "def loss(y,y1):\n",
    "    s = 0 \n",
    "    for i in range(len(y)):\n",
    "        s += (y1[i] - y[i])**2    \n",
    "    return s/(2*len(y))\n",
    "        \n",
    "l0 = loss(y,y0)\n",
    "l1 = loss(y,y1)\n",
    "l2 = loss(y,y2)\n",
    "\n",
    "plt.plot(x,y,label = 'y = x')\n",
    "plt.plot(x,y0,label = 'y = 0')\n",
    "plt.plot(x,y1,label = 'y = 0.5*x')\n",
    "plt.plot(x,y2,label = 'y=2*x')\n",
    "\n",
    "theta = [0,0.5,2]\n",
    "plt.plot(theta,[l0,l1,l2])\n",
    "\n",
    "\n",
    "plt.show() \n"
   ]
  },
  {
   "cell_type": "markdown",
   "metadata": {},
   "source": [
    "## Scipy库"
   ]
  },
  {
   "cell_type": "code",
   "execution_count": 95,
   "metadata": {},
   "outputs": [
    {
     "name": "stdout",
     "output_type": "stream",
     "text": [
      "(198, 161, 3)\n"
     ]
    }
   ],
   "source": [
    "from scipy.misc import imread,imsave,imresize \n",
    "img = imread('dog.jpg')\n",
    "print(img.shape)\n",
    "# img_re = imresize(img,(300,300))\n",
    "# imsave('dog_re',img_re)\n"
   ]
  },
  {
   "cell_type": "code",
   "execution_count": null,
   "metadata": {
    "collapsed": true
   },
   "outputs": [],
   "source": []
  }
 ],
 "metadata": {
  "kernelspec": {
   "display_name": "Python 3",
   "language": "python",
   "name": "python3"
  },
  "language_info": {
   "codemirror_mode": {
    "name": "ipython",
    "version": 3
   },
   "file_extension": ".py",
   "mimetype": "text/x-python",
   "name": "python",
   "nbconvert_exporter": "python",
   "pygments_lexer": "ipython3",
   "version": "3.6.3"
  }
 },
 "nbformat": 4,
 "nbformat_minor": 2
}
