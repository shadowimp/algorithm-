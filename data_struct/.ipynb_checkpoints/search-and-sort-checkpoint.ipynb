{
 "cells": [
  {
   "cell_type": "markdown",
   "metadata": {},
   "source": [
    "### 1.binary search"
   ]
  },
  {
   "cell_type": "code",
   "execution_count": 3,
   "metadata": {
    "collapsed": true
   },
   "outputs": [],
   "source": [
    "def binary_search(nums, target) : \n",
    "    left , right = 0 , len(nums)-1 \n",
    "    while left <= right :\n",
    "        mid = (left + right)//2 \n",
    "        if nums[mid] == target:\n",
    "            return mid\n",
    "        elif nums[mid] < target:\n",
    "            left = mid + 1 \n",
    "        else: \n",
    "            right = mid - 1 \n",
    "    return -1 "
   ]
  },
  {
   "cell_type": "code",
   "execution_count": 8,
   "metadata": {},
   "outputs": [
    {
     "data": {
      "text/plain": [
       "-1"
      ]
     },
     "execution_count": 8,
     "metadata": {},
     "output_type": "execute_result"
    }
   ],
   "source": [
    "binary_search( [1,2,4,7,8] , 9)"
   ]
  },
  {
   "cell_type": "markdown",
   "metadata": {},
   "source": [
    "### 2.bubble sort"
   ]
  },
  {
   "cell_type": "code",
   "execution_count": 84,
   "metadata": {
    "collapsed": true
   },
   "outputs": [],
   "source": [
    "def bubble_sort(nums):\n",
    "    for j in range(0,len(nums)-1):\n",
    "        for i in range(0 ,len(nums)-1-j):\n",
    "            if nums[i] > nums[i+1]:\n",
    "                nums[i] , nums[i+1] = nums[i+1] , nums[i]\n",
    "    return nums"
   ]
  },
  {
   "cell_type": "code",
   "execution_count": 85,
   "metadata": {},
   "outputs": [
    {
     "data": {
      "text/plain": [
       "[1, 2, 2, 3, 4, 6, 6]"
      ]
     },
     "execution_count": 85,
     "metadata": {},
     "output_type": "execute_result"
    }
   ],
   "source": [
    "bubble_sort( [2,4,6,6,3,1,2])"
   ]
  },
  {
   "cell_type": "markdown",
   "metadata": {},
   "source": [
    "### 3. 分别用for ， while 和 递归 算给定数列的和。"
   ]
  },
  {
   "cell_type": "code",
   "execution_count": 37,
   "metadata": {
    "collapsed": true
   },
   "outputs": [],
   "source": [
    "def sum_for(nums):\n",
    "    s = 0 \n",
    "    for num in nums:\n",
    "        s += num\n",
    "    return s"
   ]
  },
  {
   "cell_type": "code",
   "execution_count": 41,
   "metadata": {},
   "outputs": [
    {
     "data": {
      "text/plain": [
       "63"
      ]
     },
     "execution_count": 41,
     "metadata": {},
     "output_type": "execute_result"
    }
   ],
   "source": [
    "sum_for([1,2,4,56]) "
   ]
  },
  {
   "cell_type": "code",
   "execution_count": 44,
   "metadata": {
    "collapsed": true
   },
   "outputs": [],
   "source": [
    "def sum_while(nums):\n",
    "    i ,s = 0 ,0 \n",
    "    while i < len(nums):\n",
    "        s += nums[i]\n",
    "        i += 1 \n",
    "    return s"
   ]
  },
  {
   "cell_type": "code",
   "execution_count": 45,
   "metadata": {},
   "outputs": [
    {
     "data": {
      "text/plain": [
       "63"
      ]
     },
     "execution_count": 45,
     "metadata": {},
     "output_type": "execute_result"
    }
   ],
   "source": [
    "sum_while([1,2,4,56]) "
   ]
  },
  {
   "cell_type": "code",
   "execution_count": 51,
   "metadata": {
    "collapsed": true
   },
   "outputs": [],
   "source": [
    "def sum_recur(nums):\n",
    "    if not nums:\n",
    "        return \n",
    "    if len(nums) == 1 :\n",
    "        return nums[0]\n",
    "    return nums[0] + sum_recur(nums[1:])"
   ]
  },
  {
   "cell_type": "code",
   "execution_count": 52,
   "metadata": {},
   "outputs": [
    {
     "data": {
      "text/plain": [
       "63"
      ]
     },
     "execution_count": 52,
     "metadata": {},
     "output_type": "execute_result"
    }
   ],
   "source": [
    "sum_recur([1,2,4,56]) "
   ]
  },
  {
   "cell_type": "markdown",
   "metadata": {},
   "source": [
    "### 4.merge sort"
   ]
  },
  {
   "cell_type": "code",
   "execution_count": 81,
   "metadata": {
    "collapsed": true
   },
   "outputs": [],
   "source": [
    "def merge_sort(nums):\n",
    "    if len(nums) < 2 :\n",
    "        return nums\n",
    "    mid = len(nums)//2\n",
    "    return merge(merge_sort(nums[:mid]),  merge_sort(nums[mid:]) ) \n",
    "\n",
    "def merge(nums1 , nums2):\n",
    "    nums3 = []\n",
    "    i , j = 0 ,0 \n",
    "    while  i<len(nums1) and j<len(nums2) :\n",
    "        if nums1[i] < nums2[j]:\n",
    "            nums3.append(nums1[i])\n",
    "            i += 1 \n",
    "        else:\n",
    "            nums3.append(nums2[j])\n",
    "            j += 1 \n",
    "    if i < len(nums1):\n",
    "        nums3.extend(nums1[i:])\n",
    "        return nums3\n",
    "    if j < len(nums2):\n",
    "        nums3.extend(nums2[j:])\n",
    "    return nums3     "
   ]
  },
  {
   "cell_type": "code",
   "execution_count": 83,
   "metadata": {},
   "outputs": [
    {
     "data": {
      "text/plain": [
       "[1, 1, 2, 2, 2, 3, 4, 6, 6, 8]"
      ]
     },
     "execution_count": 83,
     "metadata": {},
     "output_type": "execute_result"
    }
   ],
   "source": [
    "merge_sort( [2,4,6,6,3,1,2,1,8,2])"
   ]
  },
  {
   "cell_type": "markdown",
   "metadata": {},
   "source": [
    "### 5. quick sort"
   ]
  },
  {
   "cell_type": "code",
   "execution_count": 92,
   "metadata": {
    "collapsed": true
   },
   "outputs": [],
   "source": [
    "def quick_sort(nums):\n",
    "    if len(nums) <2 :\n",
    "        return nums\n",
    "    left = [num for num in nums if num<nums[0]]\n",
    "    right = [num for num in nums if num> nums[0]]\n",
    "    middle = [num for num in nums if num == nums[0]]\n",
    "    return quick_sort(left) + middle + quick_sort(right)"
   ]
  },
  {
   "cell_type": "code",
   "execution_count": 93,
   "metadata": {},
   "outputs": [
    {
     "data": {
      "text/plain": [
       "[2, 2, 3, 4, 6, 6]"
      ]
     },
     "execution_count": 93,
     "metadata": {},
     "output_type": "execute_result"
    }
   ],
   "source": [
    "quick_sort( [2,4,6,6,3,2])"
   ]
  },
  {
   "cell_type": "markdown",
   "metadata": {},
   "source": [
    "### 6.select sort"
   ]
  },
  {
   "cell_type": "code",
   "execution_count": 153,
   "metadata": {
    "collapsed": true
   },
   "outputs": [],
   "source": [
    "def select_sort(nums):\n",
    "    for i in range(1,len(nums)):\n",
    "        max_index = 0\n",
    "        for j in range(1,len(nums)-i):  \n",
    "            if nums[j]> nums[max_index] :\n",
    "                max_index = j \n",
    "        nums[max_index] , nums[-i] = nums[-i] , nums[max_index]\n",
    "    return nums"
   ]
  },
  {
   "cell_type": "code",
   "execution_count": 154,
   "metadata": {},
   "outputs": [
    {
     "data": {
      "text/plain": [
       "[1, 2, 2, 3, 4, 6, 6]"
      ]
     },
     "execution_count": 154,
     "metadata": {},
     "output_type": "execute_result"
    }
   ],
   "source": [
    "select_sort([2,4,6,1,6,3,2])"
   ]
  },
  {
   "cell_type": "markdown",
   "metadata": {},
   "source": [
    "### 7.Insert sort"
   ]
  },
  {
   "cell_type": "code",
   "execution_count": 177,
   "metadata": {
    "collapsed": true
   },
   "outputs": [],
   "source": [
    "def insert_sort(nums):\n",
    "    for i in range(1,len(nums)):\n",
    "        j = i\n",
    "        while j > 0 and nums[j] < nums[j-1]:\n",
    "            nums[j] , nums[j-1] = nums[j-1] , nums[j]\n",
    "            j -= 1 \n",
    "    return nums       "
   ]
  },
  {
   "cell_type": "code",
   "execution_count": 178,
   "metadata": {},
   "outputs": [
    {
     "data": {
      "text/plain": [
       "[1, 2, 2, 3, 4, 6, 6]"
      ]
     },
     "execution_count": 178,
     "metadata": {},
     "output_type": "execute_result"
    }
   ],
   "source": [
    "insert_sort([2,4,6,1,6,3,2])"
   ]
  },
  {
   "cell_type": "markdown",
   "metadata": {
    "collapsed": true
   },
   "source": [
    "### 8. linklist "
   ]
  },
  {
   "cell_type": "code",
   "execution_count": 180,
   "metadata": {},
   "outputs": [],
   "source": [
    "class Node:\n",
    "    def __init__(self,val):\n",
    "        self.val = val\n",
    "        self.next = None\n",
    "\n",
    "class LinkList:\n",
    "    def __init__(self):\n",
    "        self.head = None\n",
    "        \n",
    "    def is_empty(self):\n",
    "        if not self.head:\n",
    "            return True\n",
    "        else:\n",
    "            return False\n",
    "    \n",
    "    def traversal(self):\n",
    "        temp = head.next\n",
    "        while temp is not None:\n",
    "            print(temp.val)\n",
    "            temp = temp.next\n",
    "    \n",
    "    def insert_tail(self,item):\n",
    "        if self.head is None:\n",
    "            self.head = Node(item)\n",
    "        temp = self.head\n",
    "        while temp.next :\n",
    "            temp = temp.next\n",
    "        t = Node(item)\n",
    "        temp.next = t\n",
    "    \n",
    "    def insert_head(self,item):\n",
    "        if self.head is None:\n",
    "            self.head = Node(item)\n",
    "        h = Node(item)\n",
    "        h.next = self.head \n",
    "        self.head = h\n",
    "    \n",
    "    def delete_tail(self):\n",
    "        if not self.head :\n",
    "            return \n",
    "        if not self.head.next :\n",
    "            data= self.head.val\n",
    "            self.head = None\n",
    "            return data\n",
    "        temp = self.head \n",
    "        while temp.next :\n",
    "            temp = temp.next\n",
    "        temp.next = None       "
   ]
  },
  {
   "cell_type": "code",
   "execution_count": null,
   "metadata": {
    "collapsed": true
   },
   "outputs": [],
   "source": []
  }
 ],
 "metadata": {
  "kernelspec": {
   "display_name": "Python 3",
   "language": "python",
   "name": "python3"
  },
  "language_info": {
   "codemirror_mode": {
    "name": "ipython",
    "version": 3
   },
   "file_extension": ".py",
   "mimetype": "text/x-python",
   "name": "python",
   "nbconvert_exporter": "python",
   "pygments_lexer": "ipython3",
   "version": "3.6.8"
  }
 },
 "nbformat": 4,
 "nbformat_minor": 2
}
