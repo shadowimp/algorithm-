{
 "cells": [
  {
   "cell_type": "code",
   "execution_count": 2,
   "metadata": {},
   "outputs": [
    {
     "name": "stdout",
     "output_type": "stream",
     "text": [
      "4 5 6 7\n",
      "5.5\n",
      "5.5\n"
     ]
    }
   ],
   "source": [
    "import numpy as np \n",
    "\n",
    "numbers = [int(x) for x in input().split() ] \n",
    "\n",
    "print(np.mean(numbers)) \n",
    "print(np.median(numbers)) \n",
    "\n"
   ]
  },
  {
   "cell_type": "code",
   "execution_count": 1,
   "metadata": {},
   "outputs": [],
   "source": [
    "def EuclideanDistance(x,y):\n",
    "\td = 0\n",
    "\tfor a,b in zip(x,y):\n",
    "\t\td += (a-b)**2\n",
    "\treturn d**0.5"
   ]
  },
  {
   "cell_type": "code",
   "execution_count": 2,
   "metadata": {},
   "outputs": [
    {
     "data": {
      "text/plain": [
       "2.449489742783178"
      ]
     },
     "execution_count": 2,
     "metadata": {},
     "output_type": "execute_result"
    }
   ],
   "source": [
    "EuclideanDistance([1,2,3],[3,3,4])"
   ]
  },
  {
   "cell_type": "code",
   "execution_count": 4,
   "metadata": {},
   "outputs": [],
   "source": [
    "import numpy as np\n",
    "def EuclideanDistance(dataA,dataB):\n",
    "    # np.linalg.norm 用于范数计算，默认是二范数，相当于平方和开根号\n",
    "    return 1.0/(1.0 + np.linalg.norm(dataA - dataB))\n"
   ]
  },
  {
   "cell_type": "code",
   "execution_count": 6,
   "metadata": {},
   "outputs": [],
   "source": [
    "def Cosine(dataA,dataB):\n",
    "    sumData = dataA *dataB.T # 若列为向量则为 dataA.T * dataB\n",
    "    denom = np.linalg.norm(dataA) * np.linalg.norm(dataB)\n",
    "    # 归一化\n",
    "    return 0.5 + 0.5 * (sumData / denom)"
   ]
  },
  {
   "cell_type": "code",
   "execution_count": 7,
   "metadata": {},
   "outputs": [
    {
     "data": {
      "text/plain": [
       "array([0.55669467, 0.65118579, 0.78347335])"
      ]
     },
     "execution_count": 7,
     "metadata": {},
     "output_type": "execute_result"
    }
   ],
   "source": [
    "Cosine(np.array([1,2,3]), np.array([3,4,5]))"
   ]
  },
  {
   "cell_type": "code",
   "execution_count": null,
   "metadata": {},
   "outputs": [],
   "source": []
  }
 ],
 "metadata": {
  "kernelspec": {
   "display_name": "Python 3",
   "language": "python",
   "name": "python3"
  },
  "language_info": {
   "codemirror_mode": {
    "name": "ipython",
    "version": 3
   },
   "file_extension": ".py",
   "mimetype": "text/x-python",
   "name": "python",
   "nbconvert_exporter": "python",
   "pygments_lexer": "ipython3",
   "version": "3.7.4"
  }
 },
 "nbformat": 4,
 "nbformat_minor": 4
}
