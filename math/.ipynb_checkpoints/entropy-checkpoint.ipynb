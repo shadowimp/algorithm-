{
 "cells": [
  {
   "cell_type": "markdown",
   "metadata": {},
   "source": [
    "### 熵"
   ]
  },
  {
   "cell_type": "markdown",
   "metadata": {},
   "source": [
    "$$ H(x) = - \\sum_{i=1}^n p(x_i) log(p(x_i))$$"
   ]
  },
  {
   "cell_type": "code",
   "execution_count": 1,
   "metadata": {},
   "outputs": [
    {
     "name": "stdout",
     "output_type": "stream",
     "text": [
      "0.9709505944546686\n"
     ]
    }
   ],
   "source": [
    "from  math import log\n",
    "\n",
    "def entropy(dataset):\n",
    "\tlabel_dict = {}\n",
    "\n",
    "\tfor feature in dataset :\n",
    "\t\tlabel = feature[-1]\n",
    "\t\tif label not in label_dict.keys():\n",
    "\t\t\tlabel_dict[label] = 0\n",
    "\t\tlabel_dict[label] += 1\n",
    "\t\tentropy = 0\n",
    "\tfor key in label_dict:\n",
    "\t\tprob = float(label_dict[key])/len(dataset)\n",
    "\t\tentropy -= prob * log(prob,2)\n",
    "\treturn entropy\n",
    "\n",
    "dataset  = [ [1,1,'y'],[1,1,'y'],[1,0,'n'],[0,1,'n'],[0,1,'n']]\n",
    "print(entropy(dataset))\n"
   ]
  },
  {
   "cell_type": "code",
   "execution_count": null,
   "metadata": {},
   "outputs": [],
   "source": []
  }
 ],
 "metadata": {
  "kernelspec": {
   "display_name": "Python 3",
   "language": "python",
   "name": "python3"
  },
  "language_info": {
   "codemirror_mode": {
    "name": "ipython",
    "version": 3
   },
   "file_extension": ".py",
   "mimetype": "text/x-python",
   "name": "python",
   "nbconvert_exporter": "python",
   "pygments_lexer": "ipython3",
   "version": "3.7.3"
  }
 },
 "nbformat": 4,
 "nbformat_minor": 2
}
