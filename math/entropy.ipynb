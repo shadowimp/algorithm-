{
 "cells": [
  {
   "cell_type": "markdown",
   "metadata": {},
   "source": [
    "### 熵"
   ]
  },
  {
   "cell_type": "markdown",
   "metadata": {},
   "source": [
    "$$ H(x) = - \\sum_{i=1}^n p(x_i) log(p(x_i))$$"
   ]
  },
  {
   "cell_type": "code",
   "execution_count": null,
   "metadata": {},
   "outputs": [],
   "source": []
  },
  {
   "cell_type": "code",
   "execution_count": 5,
   "metadata": {},
   "outputs": [
    {
     "name": "stdout",
     "output_type": "stream",
     "text": [
      "0.9709505944546686\n"
     ]
    }
   ],
   "source": [
    "from  math import log\n",
    "\n",
    "def entropy(dataset):\n",
    "\tlabel_dict = {}\n",
    "\n",
    "\tfor feature in dataset :\n",
    "\t\tlabel = feature[-1]\n",
    "        \n",
    "\t\tlabel_dict[label] = label_dict.get(label,0) + 1 \n",
    "\t\tentropy = 0\n",
    "\tfor key in label_dict:\n",
    "\t\tprob = float(label_dict[key])/len(dataset)\n",
    "\t\tentropy -= prob * log(prob,2)\n",
    "\treturn entropy\n",
    "\n",
    "dataset  = [ [1,1,'y'],[1,1,'y'],[1,0,'n'],[0,1,'n'],[0,1,'n']]\n",
    "print(entropy(dataset))\n"
   ]
  },
  {
   "cell_type": "code",
   "execution_count": 6,
   "metadata": {},
   "outputs": [
    {
     "name": "stdout",
     "output_type": "stream",
     "text": [
      "<function entropy at 0x1077983b0>\n"
     ]
    }
   ],
   "source": [
    "from  math import log\n",
    "def entropy(dataset):\n",
    "    label_dict = {}\n",
    "    for data_line in dataset:\n",
    "        label = data_line[-1]\n",
    "        label_dict[label] = label_dict.get(label,0) + 1 \n",
    "        entorpy = 0\n",
    "    for key in label_dict:\n",
    "        prob = float(label_dict[key])/len(dataset)\n",
    "        entorpy -= prob * log(prob,2)\n",
    "    return entropy\n",
    "\n",
    "dataset  = [ [1,1,'y'],[1,1,'y'],[1,0,'n'],[0,1,'n'],[0,1,'n']]\n",
    "\n",
    "\n",
    "print(entropy(dataset))"
   ]
  },
  {
   "cell_type": "code",
   "execution_count": null,
   "metadata": {},
   "outputs": [],
   "source": []
  },
  {
   "cell_type": "code",
   "execution_count": 11,
   "metadata": {},
   "outputs": [],
   "source": [
    "from collections import Counter \n",
    "import numpy as np\n",
    "\n",
    "def calculate_entropy(char_list):\n",
    "    \"\"\"\n",
    "    To calculate entropy for  list  of char\n",
    "    input: char list \n",
    "    output: entropy of the list  of char\n",
    "    \"\"\"\n",
    "    char_freq_dic =  dict(Counter(char_list)) \n",
    "    entropy = (-1)*sum([ char_freq_dic.get(i)/len(char_list)*np.log2(char_freq_dic.get(i)/len(char_list)) for i in char_freq_dic])\n",
    "    return entropy\n"
   ]
  },
  {
   "cell_type": "code",
   "execution_count": 13,
   "metadata": {},
   "outputs": [
    {
     "data": {
      "text/plain": [
       "1.0"
      ]
     },
     "execution_count": 13,
     "metadata": {},
     "output_type": "execute_result"
    }
   ],
   "source": [
    "char_list = [\"张渊博\",'a']\n",
    "calculate_entropy(char_list)"
   ]
  },
  {
   "cell_type": "code",
   "execution_count": null,
   "metadata": {},
   "outputs": [],
   "source": []
  }
 ],
 "metadata": {
  "kernelspec": {
   "display_name": "Python 3",
   "language": "python",
   "name": "python3"
  },
  "language_info": {
   "codemirror_mode": {
    "name": "ipython",
    "version": 3
   },
   "file_extension": ".py",
   "mimetype": "text/x-python",
   "name": "python",
   "nbconvert_exporter": "python",
   "pygments_lexer": "ipython3",
   "version": "3.7.4"
  }
 },
 "nbformat": 4,
 "nbformat_minor": 4
}
