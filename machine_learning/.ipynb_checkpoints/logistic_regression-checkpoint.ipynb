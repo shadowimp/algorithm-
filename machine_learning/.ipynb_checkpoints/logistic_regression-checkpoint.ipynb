{
 "cells": [
  {
   "cell_type": "code",
   "execution_count": null,
   "metadata": {
    "collapsed": true
   },
   "outputs": [],
   "source": [
    "import numpy as np \n",
    "import time \n"
   ]
  },
  {
   "cell_type": "code",
   "execution_count": null,
   "metadata": {},
   "outputs": [],
   "source": [
    "def data_load(filename):\n",
    "    data_list = []\n",
    "    label_list = []\n",
    "    fr = open(filename,'r')\n",
    "    for line in fr.readlines():\n",
    "        cur_line = line.strip().split(',') \n",
    "        if int(cur_line[0]) == 0 :\n",
    "            label_list.append(1)\n",
    "        else:\n",
    "            label_list.append(0)\n",
    "        data_list.append([int(num)/255 for num in cur_line[1:]])\n",
    "        "
   ]
  },
  {
   "cell_type": "code",
   "execution_count": 3,
   "metadata": {},
   "outputs": [
    {
     "ename": "FileNotFoundError",
     "evalue": "[Errno 2] No such file or directory: '../mnist_train.csv'",
     "output_type": "error",
     "traceback": [
      "\u001b[0;31m---------------------------------------------------------------------------\u001b[0m",
      "\u001b[0;31mFileNotFoundError\u001b[0m                         Traceback (most recent call last)",
      "\u001b[0;32m<ipython-input-3-0c2d8059a840>\u001b[0m in \u001b[0;36m<module>\u001b[0;34m()\u001b[0m\n\u001b[0;32m----> 1\u001b[0;31m \u001b[0mfr\u001b[0m \u001b[0;34m=\u001b[0m \u001b[0mopen\u001b[0m\u001b[0;34m(\u001b[0m\u001b[0;34m'../mnist_train.csv'\u001b[0m\u001b[0;34m)\u001b[0m\u001b[0;34m\u001b[0m\u001b[0;34m\u001b[0m\u001b[0m\n\u001b[0m",
      "\u001b[0;31mFileNotFoundError\u001b[0m: [Errno 2] No such file or directory: '../mnist_train.csv'"
     ]
    }
   ],
   "source": [
    "fr = open('../mnist_train.csv')\n"
   ]
  },
  {
   "cell_type": "code",
   "execution_count": 2,
   "metadata": {},
   "outputs": [
    {
     "name": "stdout",
     "output_type": "stream",
     "text": [
      "start read transSet\n"
     ]
    },
    {
     "ename": "FileNotFoundError",
     "evalue": "[Errno 2] No such file or directory: '../Mnist/mnist_train.csv'",
     "output_type": "error",
     "traceback": [
      "\u001b[0;31m---------------------------------------------------------------------------\u001b[0m",
      "\u001b[0;31mFileNotFoundError\u001b[0m                         Traceback (most recent call last)",
      "\u001b[0;32m<ipython-input-2-99f6532afa32>\u001b[0m in \u001b[0;36m<module>\u001b[0;34m()\u001b[0m\n\u001b[1;32m    125\u001b[0m     \u001b[0;31m# 获取训练集及标签\u001b[0m\u001b[0;34m\u001b[0m\u001b[0;34m\u001b[0m\u001b[0;34m\u001b[0m\u001b[0m\n\u001b[1;32m    126\u001b[0m     \u001b[0mprint\u001b[0m\u001b[0;34m(\u001b[0m\u001b[0;34m'start read transSet'\u001b[0m\u001b[0;34m)\u001b[0m\u001b[0;34m\u001b[0m\u001b[0;34m\u001b[0m\u001b[0m\n\u001b[0;32m--> 127\u001b[0;31m     \u001b[0mtrainData\u001b[0m\u001b[0;34m,\u001b[0m \u001b[0mtrainLabel\u001b[0m \u001b[0;34m=\u001b[0m \u001b[0mloadData\u001b[0m\u001b[0;34m(\u001b[0m\u001b[0;34m'../Mnist/mnist_train.csv'\u001b[0m\u001b[0;34m)\u001b[0m\u001b[0;34m\u001b[0m\u001b[0;34m\u001b[0m\u001b[0m\n\u001b[0m\u001b[1;32m    128\u001b[0m \u001b[0;34m\u001b[0m\u001b[0m\n\u001b[1;32m    129\u001b[0m     \u001b[0;31m# 获取测试集及标签\u001b[0m\u001b[0;34m\u001b[0m\u001b[0;34m\u001b[0m\u001b[0;34m\u001b[0m\u001b[0m\n",
      "\u001b[0;32m<ipython-input-2-99f6532afa32>\u001b[0m in \u001b[0;36mloadData\u001b[0;34m(fileName)\u001b[0m\n\u001b[1;32m      8\u001b[0m     \u001b[0mdataList\u001b[0m \u001b[0;34m=\u001b[0m \u001b[0;34m[\u001b[0m\u001b[0;34m]\u001b[0m\u001b[0;34m;\u001b[0m \u001b[0mlabelList\u001b[0m \u001b[0;34m=\u001b[0m \u001b[0;34m[\u001b[0m\u001b[0;34m]\u001b[0m\u001b[0;34m\u001b[0m\u001b[0;34m\u001b[0m\u001b[0m\n\u001b[1;32m      9\u001b[0m     \u001b[0;31m# 打开文件\u001b[0m\u001b[0;34m\u001b[0m\u001b[0;34m\u001b[0m\u001b[0;34m\u001b[0m\u001b[0m\n\u001b[0;32m---> 10\u001b[0;31m     \u001b[0mfr\u001b[0m \u001b[0;34m=\u001b[0m \u001b[0mopen\u001b[0m\u001b[0;34m(\u001b[0m\u001b[0mfileName\u001b[0m\u001b[0;34m,\u001b[0m \u001b[0;34m'r'\u001b[0m\u001b[0;34m)\u001b[0m\u001b[0;34m\u001b[0m\u001b[0;34m\u001b[0m\u001b[0m\n\u001b[0m\u001b[1;32m     11\u001b[0m     \u001b[0;31m# 将文件按行读取\u001b[0m\u001b[0;34m\u001b[0m\u001b[0;34m\u001b[0m\u001b[0;34m\u001b[0m\u001b[0m\n\u001b[1;32m     12\u001b[0m     \u001b[0;32mfor\u001b[0m \u001b[0mline\u001b[0m \u001b[0;32min\u001b[0m \u001b[0mfr\u001b[0m\u001b[0;34m.\u001b[0m\u001b[0mreadlines\u001b[0m\u001b[0;34m(\u001b[0m\u001b[0;34m)\u001b[0m\u001b[0;34m:\u001b[0m\u001b[0;34m\u001b[0m\u001b[0;34m\u001b[0m\u001b[0m\n",
      "\u001b[0;31mFileNotFoundError\u001b[0m: [Errno 2] No such file or directory: '../Mnist/mnist_train.csv'"
     ]
    }
   ],
   "source": [
    "def loadData(fileName):\n",
    "    '''\n",
    "    加载Mnist数据集\n",
    "    :param fileName:要加载的数据集路径\n",
    "    :return: list形式的数据集及标记\n",
    "    '''\n",
    "    # 存放数据及标记的list\n",
    "    dataList = []; labelList = []\n",
    "    # 打开文件\n",
    "    fr = open(fileName, 'r')\n",
    "    # 将文件按行读取\n",
    "    for line in fr.readlines():\n",
    "        # 对每一行数据按切割福','进行切割，返回字段列表\n",
    "        curLine = line.strip().split(',')\n",
    "\n",
    "        # Mnsit有0-9是个标记，由于是二分类任务，所以将标记0的作为1，其余为0\n",
    "        # 验证过<5为1 >5为0时正确率在90%左右，猜测是因为数多了以后，可能不同数的特征较乱，不能有效地计算出一个合理的超平面\n",
    "        # 查看了一下之前感知机的结果，以5为分界时正确率81，重新修改为0和其余数时正确率98.91%\n",
    "        # 看来如果样本标签比较杂的话，对于是否能有效地划分超平面确实存在很大影响\n",
    "        if int(curLine[0]) == 0:\n",
    "            labelList.append(1)\n",
    "        else:\n",
    "            labelList.append(0)\n",
    "        #存放标记\n",
    "        #[int(num) for num in curLine[1:]] -> 遍历每一行中除了以第一哥元素（标记）外将所有元素转换成int类型\n",
    "        #[int(num)/255 for num in curLine[1:]] -> 将所有数据除255归一化(非必须步骤，可以不归一化)\n",
    "        dataList.append([int(num)/255 for num in curLine[1:]])\n",
    "        # dataList.append([int(num) for num in curLine[1:]])\n",
    "\n",
    "    #返回data和label\n",
    "    return dataList, labelList\n",
    "\n",
    "def predict(w, x):\n",
    "    '''\n",
    "    预测标签\n",
    "    :param w:训练过程中学到的w\n",
    "    :param x: 要预测的样本\n",
    "    :return: 预测结果\n",
    "    '''\n",
    "    #dot为两个向量的点积操作，计算得到w * x\n",
    "    wx = np.dot(w, x)\n",
    "    #计算标签为1的概率\n",
    "    #该公式参考“6.1.2 二项逻辑斯蒂回归模型”中的式6.5\n",
    "    P1 = np.exp(wx) / (1 + np.exp(wx))\n",
    "    #如果为1的概率大于0.5，返回1\n",
    "    if P1 >= 0.5:\n",
    "        return 1\n",
    "    #否则返回0\n",
    "    return 0\n",
    "\n",
    "def logisticRegression(trainDataList, trainLabelList, iter = 200):\n",
    "    '''\n",
    "    逻辑斯蒂回归训练过程\n",
    "    :param trainDataList:训练集\n",
    "    :param trainLabelList: 标签集\n",
    "    :param iter: 迭代次数\n",
    "    :return: 习得的w\n",
    "    '''\n",
    "    #按照书本“6.1.2 二项逻辑斯蒂回归模型”中式6.5的规则，将w与b合在一起，\n",
    "    #此时x也需要添加一维，数值为1\n",
    "    #循环遍历每一个样本，并在其最后添加一个1\n",
    "    for i in range(len(trainDataList)):\n",
    "        trainDataList[i].append(1)\n",
    "\n",
    "    #将数据集由列表转换为数组形式，主要是后期涉及到向量的运算，统一转换成数组形式比较方便\n",
    "    trainDataList = np.array(trainDataList)\n",
    "    #初始化w，维数为样本x维数+1，+1的那一位是b，初始为0\n",
    "    w = np.zeros(trainDataList.shape[1])\n",
    "\n",
    "    #设置步长\n",
    "    h = 0.001\n",
    "\n",
    "    #迭代iter次进行随机梯度下降\n",
    "    for i in range(iter):\n",
    "        #每次迭代冲遍历一次所有样本，进行随机梯度下降\n",
    "        for j in range(trainDataList.shape[0]):\n",
    "            #随机梯度上升部分\n",
    "            #在“6.1.3 模型参数估计”一章中给出了似然函数，我们需要极大化似然函数\n",
    "            #但是似然函数由于有求和项，并不能直接对w求导得出最优w，所以针对似然函数求和\n",
    "            #部分中每一项进行单独地求导w，得到针对该样本的梯度，并进行梯度上升（因为是\n",
    "            #要求似然函数的极大值，所以是梯度上升，如果是极小值就梯度下降。梯度上升是\n",
    "            #加号，下降是减号）\n",
    "            #求和式中每一项单独对w求导结果为：xi * yi - (exp(w * xi) * xi) / (1 + exp(w * xi))\n",
    "            #如果对于该求导式有疑问可查看我的博客 www.pkudodo.com\n",
    "\n",
    "            #计算w * xi，因为后式中要计算两次该值，为了节约时间这里提前算出\n",
    "            #其实也可直接算出exp(wx)，为了读者能看得方便一点就这么写了，包括yi和xi都提前列出了\n",
    "            wx = np.dot(w, trainDataList[j])\n",
    "            yi = trainLabelList[j]\n",
    "            xi = trainDataList[j]\n",
    "            #梯度上升\n",
    "            w +=  h * (xi * yi - (np.exp(wx) * xi) / ( 1 + np.exp(wx)))\n",
    "\n",
    "    #返回学到的w\n",
    "    return w\n",
    "\n",
    "def test(testDataList, testLabelList, w):\n",
    "    '''\n",
    "    验证\n",
    "    :param testDataList:测试集\n",
    "    :param testLabelList: 测试集标签\n",
    "    :param w: 训练过程中学到的w\n",
    "    :return: 正确率\n",
    "    '''\n",
    "\n",
    "    #与训练过程一致，先将所有的样本添加一维，值为1，理由请查看训练函数\n",
    "    for i in range(len(testDataList)):\n",
    "        testDataList[i].append(1)\n",
    "\n",
    "    #错误值计数\n",
    "    errorCnt = 0\n",
    "    #对于测试集中每一个测试样本进行验证\n",
    "    for i in range(len(testDataList)):\n",
    "        #如果标记与预测不一致，错误值加1\n",
    "        if testLabelList[i] != predict(w, testDataList[i]):\n",
    "            errorCnt += 1\n",
    "    #返回准确率\n",
    "    return 1 - errorCnt / len(testDataList)\n",
    "\n",
    "\n",
    "\n",
    "if __name__ == '__main__':\n",
    "    start = time.time()\n",
    "\n",
    "    # 获取训练集及标签\n",
    "    print('start read transSet')\n",
    "    trainData, trainLabel = loadData('../Mnist/mnist_train.csv')\n",
    "\n",
    "    # 获取测试集及标签\n",
    "    print('start read testSet')\n",
    "    testData, testLabel = loadData('../Mnist/mnist_test.csv')\n",
    "\n",
    "    # 开始训练，学习w\n",
    "    print('start to train')\n",
    "    w = logisticRegression(trainData, trainLabel)\n",
    "\n",
    "    #验证正确率\n",
    "    print('start to test')\n",
    "    accuracy = test(testData, testLabel, w)\n",
    "\n",
    "    # 打印准确率\n",
    "    print('the accuracy is:', accuracy)\n",
    "    # 打印时间\n",
    "    print('time span:', time.time() - start)"
   ]
  },
  {
   "cell_type": "code",
   "execution_count": null,
   "metadata": {
    "collapsed": true
   },
   "outputs": [],
   "source": []
  }
 ],
 "metadata": {
  "kernelspec": {
   "display_name": "Python 3",
   "language": "python",
   "name": "python3"
  },
  "language_info": {
   "codemirror_mode": {
    "name": "ipython",
    "version": 3
   },
   "file_extension": ".py",
   "mimetype": "text/x-python",
   "name": "python",
   "nbconvert_exporter": "python",
   "pygments_lexer": "ipython3",
   "version": "3.6.8"
  }
 },
 "nbformat": 4,
 "nbformat_minor": 2
}
