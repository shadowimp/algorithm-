{
 "cells": [
  {
   "cell_type": "code",
   "execution_count": 89,
   "metadata": {},
   "outputs": [],
   "source": [
    "from sklearn.cluster import KMeans\n",
    "import jieba\n",
    "import numpy as np\n",
    "from sklearn.decomposition import PCA\n",
    "from sklearn.manifold import TSNE\n",
    "import matplotlib.pyplot as plt\n",
    "import numpy as np \n",
    "import pandas as pd \n",
    "\n",
    "%matplotlib inline "
   ]
  },
  {
   "cell_type": "code",
   "execution_count": 48,
   "metadata": {},
   "outputs": [],
   "source": [
    "stop_words = [w.strip() for w in open('./哈工大停用词表.txt', 'r', encoding='UTF-8').readlines()]\n",
    "stop_words.extend(['\\n', '\\t', ' ','\\u200b','http', 'com', 'cn','t'])"
   ]
  },
  {
   "cell_type": "code",
   "execution_count": 49,
   "metadata": {
    "scrolled": true
   },
   "outputs": [
    {
     "data": {
      "text/plain": [
       "775"
      ]
     },
     "execution_count": 49,
     "metadata": {},
     "output_type": "execute_result"
    }
   ],
   "source": [
    "len(stop_words)"
   ]
  },
  {
   "cell_type": "code",
   "execution_count": 50,
   "metadata": {},
   "outputs": [],
   "source": [
    "text  = ['？？？ \\u200b\\u200b\\u200b',\n",
    " '#小说中最扯淡的情节#\\n女主带球离开，携孩归来。小孩才四五岁就收到了各个名校的offer，而且还是世界顶级的黑/客。。。这孩子到底是吃啥长大的[二哈] \\u200b\\u200b\\u200b',\n",
    " '同事画的我和老杨过分可爱了哈哈哈（我们的裙子和裤子都好短哦🙈） \\u200b\\u200b\\u200b',\n",
    " '【#意大利留学生辗转28小时回国# ：一路不吃不喝不摘口罩】3月10日下午，意大利留学生瑶瑶（化名）乘坐的飞机降落在深圳。此前，她在意大利已经自我隔离了20天。从意大利时间9日早上6时登上飞机至此，她已经在路上辗转了近30个小时，是平时的近3倍。一路上不敢吃饭喝水、不敢摘下口罩，',\n",
    " '#成田机场新冠病毒检测室遭污染#【日本#成田机场新冠病毒检测室试剂泄漏#，两名员工检测呈阳性[吃惊]】日媒17日报道，3月11日，成田机场检疫所职员将检测试剂玻璃管打碎，新冠病毒检测室遭污染，检测已暂停。负责清扫的职员接受检测，结果呈阳性。厚生劳动省称呈阳性是因无感染性试剂粘在鼻',\n",
    " '【#武汉某小区阻止一线护士回家#[怒]】武汉某小区阻止隔离期满一线护士回家，中南医院某科室所有的人隔离期都满14天，并且有抗体抽血结果和通行证，其中有一个护士隔离期满回家要进小区被阻拦，丈夫哽咽求助！目前住在同事家。令人寒心！#湖北无新增确诊病例#http://t.cn/A6zH',\n",
    " '🐰:  因为我睡不着,所以想让大家帮我给上次画的这个作品起个名字吧:> \\n\\n小小艺术家[赞][赞] \\u200b\\u200b\\u200b',\n",
    " '疫情下，为何中国如此大规模援助意大利？\\n\\n意大利已经成为中国之外，疫情最严重的国家，而中国也成为了，第一个援助意大利的外国国家，而且，是“极高规格”的援助。\\n\\n为什么呢？这就说来话长了。\\n\\n1969年，对于中国来说，是一个雪上加霜的年头，当时中美关系还没有解冻，西方国家也还没有承',\n",
    " '#广西全力抗击疫情#【重磅！广西高三、初三年级于4月7日正式开学】为切实做好高三、初三年级2020年春季学期开学工作，结合我区疫情防控实际情况，特制定本工作方案。\\n\\n一、总体要求\\n各地各学校要严格按照“疫情没有得到基本控制前不开学，学校基本防控条件不具备不开学，师生和校园公共卫生',\n",
    " '#高云翔涉嫌性侵案宣判# 3月19日，高云翔涉嫌性侵案终于宣判，法官当庭宣判高云翔、王晶所有罪名不成立。从2018年3月被控性侵到无罪释放，高云翔案历时整整两年。来一起梳理一下时间线↓\\n1、2018年3月29日，高云翔和35岁男子王晶在悉尼因涉嫌性侵被捕，随后高云翔工作室表示“澳',\n",
    " '我不爱你的时候\\n你最爱我\\n\\n#小朋友你是否有很多问号的出处# http://t.cn/RMJI3lO \\u200b\\u200b\\u200b',\n",
    " '【#意大利留学生辗转28小时回国# ：一路不吃不喝不摘口罩】3月10日下午，意大利留学生瑶瑶（化名）乘坐的飞机降落在深圳。此前，她在意大利已经自我隔离了20天。从意大利时间9日早上6时登上飞机至此，她已经在路上辗转了近30个小时，是平时的近3倍。一路上不敢吃饭喝水、不敢摘下口罩，',\n",
    " '#广西全力抗击疫情#【重磅！广西高三、初三年级于4月7日正式开学】为切实做好高三、初三年级2020年春季学期开学工作，结合我区疫情防控实际情况，特制定本工作方案。\\n\\n一、总体要求\\n各地各学校要严格按照“疫情没有得到基本控制前不开学，学校基本防控条件不具备不开学，师生和校园公共卫生',\n",
    " '【#武汉某小区阻止一线护士回家#[怒]】武汉某小区阻止隔离期满一线护士回家，中南医院某科室所有的人隔离期都满14天，并且有抗体抽血结果和通行证，其中有一个护士隔离期满回家要进小区被阻拦，丈夫哽咽求助！目前住在同事家。令人寒心！#湖北无新增确诊病例#http://t.cn/A6zH',\n",
    " '发现这个视频唱歌不是重点，重点是我长出了好多新头发！看这一头小碎发 oh yeah! http://t.cn/A6zH9oPG \\u200b\\u200b\\u200b',\n",
    " '#安家预告# 【闪闪亮亮分手！！季明亮看不起闪闪的职业不愿意跟闪闪做回朋友！！】 \\n闪闪说自己没有女主人的感觉，证明她不爱他！\\n季明亮：“我堂堂数据挖掘工程师，我都不嫌弃你房产中介，你倒嫌弃我？我不会跟你做朋友的，浪费我时间！” \\n\\n分手见人品，闪闪还是早离开早好！赶紧奔向王子的',\n",
    " '挂单已经全部成交！',\n",
    " '意大利一名市长已经被市民随意外出给气得快疯了。。。#欧洲新冠肺炎死亡人数超过亚洲##特朗普宣称将关闭美加边境#  http://t.cn/A6zTKmBl \\u200b\\u200b\\u200b',\n",
    " '我睡前上线搜索一点东西在广场看见这个整个人笑傻掉\\n刘文不愧是你 \\u200b\\u200b\\u200b',\n",
    " '林一和徐璐的《明枪易躲暗恋难防》来了，看预告剧情很甜，但是林一和徐璐毫无西皮感吧？ \\u200b\\u200b\\u200b',\n",
    " '庚子年，己卯月，辛酉日。\\n辛金坐酉，干支一气都是金。\\n哇奥，地支有卯的或有酉的都卯酉冲，终于动了，回家了，复工了。\\n地支有辰的辰酉六合。\\n地支有酉的酉酉刑。\\n\\n甲木正官日，多好的利恋爱结婚，利工作的日子呀。由于卯酉冲，走动才有机会。\\n\\n乙木七杀日，累，防范小人，得有丙火透干合住辛',\n",
    " '在日落时分造梦才是正经事  /7.28\\n\\n。 \\u200b\\u200b\\u200b',\n",
    " '#广西全力抗击疫情#【重磅！广西高三、初三年级于4月7日正式开学】为切实做好高三、初三年级2020年春季学期开学工作，结合我区疫情防控实际情况，特制定本工作方案。\\n\\n一、总体要求\\n各地各学校要严格按照“疫情没有得到基本控制前不开学，学校基本防控条件不具备不开学，师生和校园公共卫生',\n",
    " '#吴亦凡[超话]#【积分贴】\\nI like you as before喜你如前 \\u200b\\u200b\\u200b',\n",
    " '【日本副首相直言奥运会被诅咒 被批有损选手热情】#日本副首相称奥运会被诅咒# 据日本时事通信社18日报道，日本副首相麻生太郎当天在国会回答有关东京奥运会提问时，使用了“被诅咒的奥运会”的说法，此言论随引发争议，被指有可能伤害正在全力备战奥运选手们的热情。麻生称，自己出生于1940',\n",
    " '肥爸教你如何呼唤肥肥头[ok]\\n\\n#花样宅家挑战##萌系宅##菇冬怎么肥四[超话]# http://t.cn/A6zHcSx5 \\u200b\\u200b\\u200b',\n",
    " '【试用】达喜铝碳酸镁片0.5g*10粒，符合0.01 \\n（万万没想到，这个也有试用） \\u200b\\u200b\\u200b',\n",
    " '对啊，这微博是我发的啊，不过哪双标了？您给具体说说呗？我看应该是您选择性失明还差不多吧？不过没事，您可以点这个话题#陈震的蔚来es8# 进去看看，我几乎在随时提出任何我在使用过程中感觉到的好与不好，只不过是您选择性的看不见好罢了……[摊手] \\u200b\\u200b\\u200b',\n",
    " '#木村拓哉大女儿出道# @木村拓哉 与工藤静香的大女儿木村心美以艺名Cocomi正式出道，与妹妹木村光希一样，Cocomi将率先在时尚圈发展，她的初亮相《Vogue Japan》五月刊封面也随之曝光。姐姐果然更像妈妈一些呢！[憧憬]#木村拓哉大女儿将出道# http://t.cn',\n",
    " '#广西全力抗击疫情#【重磅！广西高三、初三年级于4月7日正式开学】为切实做好高三、初三年级2020年春季学期开学工作，结合我区疫情防控实际情况，特制定本工作方案。\\n\\n一、总体要求\\n各地各学校要严格按照“疫情没有得到基本控制前不开学，学校基本防控条件不具备不开学，师生和校园公共卫生',\n",
    " '美国民众爆料：早在中国新冠病毒发生之前，美国已经开始对本国民众做新冠病毒测试！ http://t.cn/A6zW9sXZ \\u200b\\u200b\\u200b',\n",
    " '5万买的华为折叠手机？这都怎么了？钱不是钱吗？最惨的是还坏了[允悲][允悲] \\u200b\\u200b\\u200b',\n",
    " '#张檬金恩圣公布恋情# 19日，@金恩圣official 正式公布与@张檬 恋情：“我想晴天陪你散步， 雨天为你撑伞”，并回应网传爆料，表示自己确实和吴女士有过一段感情，但早已和平分开，“感情本是私事，有选择不公开的权利”。张檬转发甜蜜回应：“你是我的男子汉，也是我的小王子，我终',\n",
    " '肥爸教你如何呼唤肥肥头[ok]\\n\\n#花样宅家挑战##萌系宅##菇冬怎么肥四[超话]# http://t.cn/A6zHcSx5 \\u200b\\u200b\\u200b',\n",
    " '【29.9】海威特 I39运动蓝牙耳机\\n送耳帽+数据线，前2个选项，毛不易带盐的，看反馈好坏参半吧，性价比挺高的，跑步运动的时候很方便，免去线的缠绕~ [佩奇]对音质没太高要求的可以考虑下，买过的可以来反馈说说鸭[爱你] \\u200b\\u200b\\u200b',\n",
    " '柳俊烈 for Arena Homme+[憧憬] \\u200b\\u200b\\u200b',\n",
    " '#芭蕾舞演员隔离期间出国被开除# 据韩媒，芭蕾舞演员罗大韩因在疫情期间违反自主隔离规定被韩国国立芭蕾舞团开除，成为该舞团历史上首个被开除的成员。据悉，该舞团2月在大邱举行演出后因大邱疫情扩散对所有演员下达了自主隔离通知，而罗大韩在隔离期间违规与女友一同去日本旅行并晒照，引发争议。',\n",
    " 'YoYo娃厂复工啦，开车又发福利，上车喽。[鼓掌][鼓掌][鼓掌]\\n  转发本条微博，@两名好友。关注本微博号。抽取3位娃妈，免费打样一只裸娃（10 15 20厘米当然图一定要适合做娃娃，30天左右出样，可以免费改两次）开奖时间为http://t.cn/A6zct9Ji .大家踊',\n",
    " '🐒19号10点猫超活动精选\\n（猫超88-5劵http://t.cn/Aikcf6KD  猫超140-10劵http://t.cn/A6v8x2Zy）\\n\\n【第2件0元┆79.00】米舍.五常稻花香10斤 http://t.cn/A6zYJJ10\\n【第2件0元┆59.90】黄小厨.长',\n",
    " '#金泰亨[超话]# \\n控评发晚了‼️重要 点内赞‼️\\n哎一股 melon http://t.cn/A6zHoe3d \\n\\n目标 【300卡】 \\u200b\\u200b\\u200b',\n",
    " '#成田机场新冠病毒检测室遭污染#【日本#成田机场新冠病毒检测室试剂泄漏#，两名员工检测呈阳性[吃惊]】日媒17日报道，3月11日，成田机场检疫所职员将检测试剂玻璃管打碎，新冠病毒检测室遭污染，检测已暂停。负责清扫的职员接受检测，结果呈阳性。厚生劳动省称呈阳性是因无感染性试剂粘在鼻',\n",
    " '【因疫情2个月没开门 ，男子回店里发现菜摊变成“小森林”】近日，湖北一男子回到了因为疫情2个月没开张的蔬菜店里，发现菜摊上出现了意想不到的一幕：大蒜洋葱都窜出了嫩芽，萝卜更是长出了近半米高的绿苗，放眼望去犹如一座小森林。#菜摊变成了森林# http://t.cn/A6zY6LwL',\n",
    " '【#武汉某小区阻止一线护士回家#[怒]】武汉某小区阻止隔离期满一线护士回家，中南医院某科室所有的人隔离期都满14天，并且有抗体抽血结果和通行证，其中有一个护士隔离期满回家要进小区被阻拦，丈夫哽咽求助！目前住在同事家。令人寒心！http://t.cn/A6zH579c \\u200b\\u200b\\u200b',\n",
    " '这腿，这腰线，这肩膀，这脖颈，这脸………😇😇😇#肖战# \\u200b\\u200b\\u200b',\n",
    " '【#故宫东华门受损部位已修复# 驾车男子被控制】3月18日，北京警方通报称，16日，一男子驾车顶开故宫东华门，导致一枚门钉及金属门销脱落。3月17日，@紧急呼叫 发现，门钉受损痕迹较明显，工作人员已对受损位置进行了修复。警方通报显示，该男子3月15日驾车来京，无违法犯罪前科，排除',\n",
    " 'YoYo娃厂复工啦，开车又发福利，上车喽。[鼓掌][鼓掌][鼓掌]\\n  转发本条微博，@两名好友。关注本微博号。抽取3位娃妈，免费打样一只裸娃（10 15 20厘米当然图一定要适合做娃娃，30天左右出样，可以免费改两次）开奖时间为http://t.cn/A6zct9Ji .大家踊',\n",
    " '一位特别的朋友偷偷潜入了公共游泳池，经过多方位侦查，原来还是个惯犯....... http://t.cn/A6zHWhoL \\u200b\\u200b\\u200b',\n",
    " '#高云翔涉嫌性侵案宣判# 3月19日，高云翔涉嫌性侵案终于宣判，法官当庭宣判高云翔、王晶所有罪名不成立。从2018年3月被控性侵到无罪释放，高云翔案历时整整两年。来一起梳理一下时间线↓\\n1、2018年3月29日，高云翔和35岁男子王晶在悉尼因涉嫌性侵被捕，随后高云翔工作室表示“澳',\n",
    " 'YoYo娃厂复工啦，开车又发福利，上车喽。[鼓掌][鼓掌][鼓掌]\\n  转发本条微博，@两名好友。关注本微博号。抽取3位娃妈，免费打样一只裸娃（10 15 20厘米当然图一定要适合做娃娃，30天左右出样，可以免费改两次）开奖时间为http://t.cn/A6zct9Ji .大家踊',\n",
    " '#范丞丞朋友请听好# 🌟#范丞丞灵域# \\n    ✨多人控评✨\\n【朋友请听好】http://t.cn/A6zTWkCM\\n积极点赞自家❗禁止回复楼中楼❌\\n评论打卡艾特两位好友✅\\n\\n@范丞丞Adam0616 \\u200b\\u200b\\u200b',\n",
    " '我心中的博叽造型top，令羡羡醉溺的，就该是这样着襟裙、抚长袂的含光君，满眼情丝，泛着涟漪，惊起岁月的陈香。 \\n「既见君子，云胡不喜？」 \\u200b\\u200b\\u200b',\n",
    " '#特朗普称美国经济可能走向衰退#【特朗普：美国经济可能会由于新冠肺炎疫情走向衰退】特朗普周一在新闻发布会上称，美国经济可能会由于新冠肺炎疫情走向衰退。特朗普表示，最糟糕的情况是新冠病毒疫情可能在7月、8月或者更晚结束。病毒消失之后，美国经济可能出现巨大反弹。#美股两周内第三次熔断',\n",
    " '【#特朗普致谢美国医护人员遭吐槽# ：光说不做！】 18日，美国总统特朗普发推特向美国的医护工作者致敬。他写道：“今天，我和美国的医生和护士做了交流，感谢他们不知疲倦的工作。医生和护士奋战在这场战役的第一线，他们是真正的美国英雄！在他们的帮助下，美国将取得胜利。” 然而，网友却并',\n",
    " '空调皮太郎转',\n",
    " 'Racheal：在亚当肖华刚担任NBA主席任期的第六个月，他得处理快船老板唐纳德斯特林犯下的罪行。在那之后，联盟虽然也面对了很多其他重要的问题，但是没有一个比目前面对的问题更值得注意的。亚当，很高兴你来到这。一开始我想先问你，在过去的一周里是什么样子的，我知道有七名球员被确诊为新',\n",
    " '这是一个“前窗摆孔”的时代。\\n\\n我其实非常理解大家对于真全面屏的执念，因为我也有这个执念。 无孔、无刘海、无水滴确实能给用户带来完整全面屏的视觉体验，但研发难度实在太大，所以弹出式全面屏设计在2020年成为孤独的风景。\\n\\n难度在哪里？\\n\\n1、5G手机元器件数量大幅度增加，以Red',\n",
    " '【#巴菲特谈国际油价暴跌#：航班减少了，开车的人少了】巴菲特近日在接受采访时表示，现在人们出行方式变化导致石油需求变少，航班减少了，开车的人少了，大家在家工作。油价暴跌对沙特的石油公司影响不是很大，对美国页岩油生产商而言，也只是数字发生了可怕的变化。石油价格在一定时间内会自我修正',\n",
    " '#全球35个国家进入紧急状态#【全球确诊超20万！35个国家进入紧急状态】#全球累计确诊病例超过20万# 据新华社，美国约翰斯·霍普金斯大学发布的最新实时统计数据显示，截至美国东部时间18日7时（北京时间18日19时），全球新冠肺炎确诊病例超过20万例，达到201436例。死亡病',\n",
    " '受不了 和朋友打完牌又在回忆杀了 我还是需要现充生活 不喜欢每天躺着虚度 去年要毕业那个学期真的是我最最最快乐的一个学期 朋友相伴 学业顺利 跟男孩子也是一场接一场的美丽感情 每天都抱着终结青春的心态在做不同的浪漫的好玩的事 现在回忆起来好像做了一场梦 感觉好遥远又好熟悉 我憋不',\n",
    " '【#世卫回应特朗普称新冠病毒为中国病毒#：不应把病毒同种族联系】当地时间18日，世卫组织在日内瓦总部召开新冠肺炎发布会。世卫组织卫生紧急项目负责人迈克尔·瑞安回应特朗普称新冠病毒为“中国病毒”时说：病毒没有国界，不区分种族肤色和财富，2009年H1N1流感大流行始于北美，并没把它',\n",
    " '#广西全力抗击疫情#【重磅！广西高三、初三年级于4月7日正式开学】为切实做好高三、初三年级2020年春季学期开学工作，结合我区疫情防控实际情况，特制定本工作方案。\\n\\n一、总体要求\\n各地各学校要严格按照“疫情没有得到基本控制前不开学，学校基本防控条件不具备不开学，师生和校园公共卫生',\n",
    " '#张檬回应张萌##刘雨欣#张萌在《安家》网友提问环节时候，有人问她是否整容时，回复了“我是萌，不是檬。” 随后张萌发博回应了这件事情，只不过怎么把刘雨欣又扯进来了[疑问] \\u200b\\u200b\\u200b',\n",
    " '今日小臭在线 http://t.cn/A6zHoD3J \\u200b\\u200b\\u200b',\n",
    " '恍惚之间，手里这台realme X50 Pro成真旗舰了？90Hz的三星AMOLED屏幕，你想要的样子我都有[吃瓜] \\u200b\\u200b\\u200b',\n",
    " '#美股第五次熔断#【#道指跌破20000点#！市场担忧失业率前景 希望白宫出台更激进措施】当地时间18日，美股下跌，标普500指数跌逾7%，再次熔断停盘15分钟。这也是美股两周内第四次熔断。再次交易后，三大股指继续下探，标普500指数一度下跌逼近10%，一度抹去了自特朗普上任来的',\n",
    " '今天早起了 不夸人家一下吗[害羞]\\n.\\n\\n#rita小雨桑[超话]# \\u200b\\u200b\\u200b',\n",
    " '我可能是18年的时候为了买哥哥的赫拉套盒，加了一个xfx拼单，从那天起每天她都为我实时播报该买东西了，没有一次漏报过……（换过一次手机，之前的聊天记录没了）是真人肉定时器，勤勤恳恳，兢兢业业…… \\u200b\\u200b\\u200b',\n",
    " '【Theqoo】令粉丝们为之疯狂的爱豆单品--性感大针织！确实遭不住！[抓狂] \\u200b\\u200b\\u200b',\n",
    " '#全球35个国家进入紧急状态#【全球确诊超20万！35个国家进入紧急状态】#全球累计确诊病例超过20万# 据新华社，美国约翰斯·霍普金斯大学发布的最新实时统计数据显示，截至美国东部时间18日7时（北京时间18日19时），全球新冠肺炎确诊病例超过20万例，达到201436例。死亡病',\n",
    " '【转发提醒！#外交部提醒中国公民暂勿前往这15国#】3月17日，外交部“领事直通车”微信公众号发布提醒称，新冠肺炎疫情在全球范围持续蔓延，部分国家和地区疫情严重。提醒中国公民充分评估出国旅行引发的感染风险，暂勿前往意大利、西班牙、法国、德国、美国、瑞士、英国、荷兰、瑞典、挪威、丹',\n",
    " '#成田机场新冠病毒检测室遭污染#【日本#成田机场新冠病毒检测室试剂泄漏#，两名员工检测呈阳性[吃惊]】日媒17日报道，3月11日，成田机场检疫所职员将检测试剂玻璃管打碎，新冠病毒检测室遭污染，检测已暂停。负责清扫的职员接受检测，结果呈阳性。厚生劳动省称呈阳性是因无感染性试剂粘在鼻',\n",
    " '有什么问题吗',\n",
    " '有某大粉冒充迪丽热巴粉丝利用“肖战事件”让热巴粉去举报优酷，这种风气可不能在饭圈蔓延起来啊！ \\u200b\\u200b\\u200b',\n",
    " '【#世卫回应特朗普称新冠病毒为中国病毒#：不应把病毒同种族联系】当地时间18日，世卫组织在日内瓦总部召开新冠肺炎发布会。世卫组织卫生紧急项目负责人迈克尔·瑞安回应特朗普称新冠病毒为“中国病毒”时说：病毒没有国界，不区分种族肤色和财富，2009年H1N1流感大流行始于北美，并没把它',\n",
    " '哈哈哈哈哈哈哈 \\u200b\\u200b\\u200b',\n",
    " '【#天津机场证实抵京国际航班将分流#】日前，网传消息称首都机场入境国际航班将分流至周边机场，旅客测新冠确认健康才允许转飞。消息称，该措施将从18日晚间开始实施，分流地包括天津、太原、石家庄、呼和浩特等。18日，天津滨海国际机场客服人员证实此事，并表示暂未接收此类航班，且航班会提前',\n",
    " '#DOTA2[超话]#第100条微博[哈哈][哈哈][哈哈]\\n昨日份的小练习，画的不太好，有点上头了。不知道能不能骗鱼总一个好友位那[污][污][污]\\n鱼总美美哒，比心jpg[太开心][太开心][太开心]@1895西西鱼 \\u200b\\u200b\\u200b',\n",
    " '【#蔚来汽车2019年净亏114亿#】蔚来汽车发布了2019年财务数据。数据显示，在2019年，蔚来共计交付了新车20565辆，净亏损114.13亿元。不过相比2018年233.28亿的巨额亏损，已经少不少了……细看经营数据，蔚来成立至今4年未曾盈利，坊间更是传言其“4年亏400',\n",
    " '【东亚体育】[美国福布斯“NCT 127正规2辑《NCT 127 Neo Zone》主打曲《英雄》独一无二”]当地时间3月11日，美国福布斯通过官方网站发表了题为“NCT 127凭借正规2辑《NCT 127 Neo Zone》拓宽了音乐领域，给K-POP带来了新的变化”的报道，表',\n",
    " '【#美国出现首位确诊感染国会议员# 曾参加国会投票】据国会山报报道，美国佛罗里达州众议员马里奥·巴拉特（Mario Díaz-Balart） 18日宣布，自己的新冠病毒检测结果呈阳性。#美国首位国会议员感染新冠肺炎#\\n巴拉特13日在参加完国会投票后进行了自我隔离，14日出现发烧、',\n",
    " '你明白吗？ \\u200b\\u200b\\u200b',\n",
    " '#美股第五次熔断#【#道指跌破20000点#！市场担忧失业率前景 希望白宫出台更激进措施】当地时间18日，美股下跌，标普500指数跌逾7%，再次熔断停盘15分钟。这也是美股两周内第四次熔断。再次交易后，三大股指继续下探，标普500指数一度下跌逼近10%，一度抹去了自特朗普上任来的',\n",
    " '#肖战# ✨#肖战余生请多指教# ✨#肖战斗罗大陆# \\n\\n肖战 | 王子\\n\\n我的王子🌠\\n@X玖少年团肖战DAYTOY \\u200b\\u200b\\u200b',\n",
    " '【#婺源一滑翔机试飞时失事两人遇难#，逝者生前画面曝光】3月17日，江西上饶。10时许，婺源县江湾镇一架滑翔机试飞时坠落，两人遇难。据报道，机上两人分别为河北籍驾驶人王某（男，1989年出生）；婺源籍工作人员詹某（女，2000年出生）。据天眼查，出事飞机所属公司2019年10月成',\n",
    " '我有两个男朋友，其中一个是外国人，为什么我还想自己动手... \\u200b\\u200b\\u200b',\n",
    " '事情挺严重的 我作为直接当事人 稍微解释一下 一群外国人歧视我们带口罩primark一直跟我们到Vincent 其中包含各种言语攻击 包括 中国病毒 滚回中国等言语 跟到vincent后把我们的reception砸了 并且闯进我们公寓大门由于我一个人站在一个角落那边 三四个女生直',\n",
    " '#光热CP[超话]# 【佳作推荐】来自@不喜欢去婚礼 （B站名：乐意挽）（已获得转载许可）\\n《真相是真-光热双人视角》\\n我不是为了满足个人私欲才YY他们，我是真真实实地看到了他们眼中的爱意，是他们选择了彼此，而我恰好想守护他们而已。\\nB站🔗：http://t.cn/A6zO8kq',\n",
    " '【#世卫回应特朗普称新冠病毒为中国病毒#：不应把病毒同种族联系】当地时间18日，世卫组织在日内瓦总部召开新冠肺炎发布会。世卫组织卫生紧急项目负责人迈克尔·瑞安回应特朗普称新冠病毒为“中国病毒”时说：病毒没有国界，不区分种族肤色和财富，2009年H1N1流感大流行始于北美，并没把它',\n",
    " '【#世卫回应特朗普称新冠病毒为中国病毒#：不应把病毒同种族相联系】当地时间18号，世卫组织在日内瓦总部召开新冠肺炎例行发布会，会上，世卫组织卫生紧急项目负责人迈克尔·瑞安针对媒体关注的美国总统特朗普称新冠病毒为“中国病毒”做出回应。一直以来我们传递的信息就很清晰，病毒没有国界，不',\n",
    " '#李现代言康师傅茉莉品牌# lx #李现 2020清香营业# \\n最近咱家美工技术组神神秘秘的产出，还拐跑了文案组小姐姐，小数听说是关于“V榜”的科普，还有神秘嘉宾惊喜客串，omg，天现宝宝，快点来（友情提示：横屏观看效果更佳）！！求夸！\\n\\n🔔V榜介绍·重要性🔔\\nVlinkage：',\n",
    " '小米10 VS 华为P30的菠萝，上一个微博视频的图片#ark的手机摄影# \\u200b\\u200b\\u200b',\n",
    " '安排一下接下来的行程，接下来是碎碎念，嫌啰嗦可以跳过！\\n\\n《恐怖谷漫游指南》我会争取近期完结，这本我从去年写到今年，中途多灾多难，停更近两个月，完了我还用这俩月时间多挤出来一本《逆转》，今年我真的承受了太多…………\\n\\n这本完了就是…………我不知道大家还记不记得《我一定要写完一篇文',\n",
    " '【#意大利又一名市长因新冠肺炎去世#，居家休养后病情恶化】当地时间18日，在意大利疫情严重的贝尔加莫省，又有一名市长因感染新冠病毒不幸去世。据当地媒体报道，梅佐尔多市市长拉伊蒙多·巴利科早前因感染病毒而在家中休养了两周，近几日他的病情恶化，于18日凌晨在家中病逝。巴利科曾是意大利',\n",
    " '#新iPad Pro搭载浴霸摄像头#有喜欢的小可爱嘛🙋，戳个赞，人多的话考虑送一台[来] \\u200b\\u200b\\u200b',\n",
    " '#木村心美木村光希合照##木村拓哉大女儿将出道#日媒爆料木村拓哉18岁大女儿木村心美将以艺名Cocomi出道，感觉长得更像妈妈工藤静香，网友：借父之名，承母之颜，羡慕！ \\u200b\\u200b\\u200b',\n",
    " '#电视剧完美关系#【完美直播】#斯黛拉叶东烈分手#\\n“没有一起看日出，一起看个日落也挺好的。”\\n“玉龙雪山我会去的，但不是跟你。”\\n斯黛拉终究发现她和叶东烈并不合适，众叛亲离的爱情长痛不如短痛。@陈数@王森w http://t.cn/A6zWjIYx \\u200b\\u200b\\u200b',\n",
    " '#张檬金恩圣公布恋情#大家一定要看好是张檬，不是张萌哦[doge]小五全名金恩圣，不叫金圣恩，唉，小五还是太年轻感觉[酸]你们觉得张檬配得上小五吗 \\u200b\\u200b\\u200b',\n",
    " '我也是才发现！！\\n“倒数到5的时候，王那个啵就没动作了，听到战哥说完生日快乐他才继续，是不是可以理解为他其实也很期待很珍重”\\ndy@🐰M http://t.cn/A6zjl5JY \\u200b\\u200b\\u200b',\n",
    " '【因疫情2个月没开门 ，男子回店里发现菜摊变成“小森林”】近日，湖北一男子回到了因为疫情2个月没开张的蔬菜店里，发现菜摊上出现了意想不到的一幕：大蒜洋葱都窜出了嫩芽，萝卜更是长出了近半米高的绿苗，放眼望去犹如一座小森林。#菜摊变成了森林# http://t.cn/A6zY6LwL',\n",
    " '【#世卫回应特朗普称新冠病毒为中国病毒#：不应把病毒同种族联系】当地时间18日，世卫组织在日内瓦总部召开新冠肺炎发布会。世卫组织卫生紧急项目负责人迈克尔·瑞安回应特朗普称新冠病毒为“中国病毒”时说：病毒没有国界，不区分种族肤色和财富，2009年H1N1流感大流行始于北美，并没把它']\n"
   ]
  },
  {
   "cell_type": "code",
   "execution_count": 51,
   "metadata": {},
   "outputs": [
    {
     "data": {
      "text/plain": [
       "100"
      ]
     },
     "execution_count": 51,
     "metadata": {},
     "output_type": "execute_result"
    }
   ],
   "source": [
    "len(text)"
   ]
  },
  {
   "cell_type": "code",
   "execution_count": 52,
   "metadata": {},
   "outputs": [],
   "source": [
    "def Sent2Word(sentence):\n",
    "    \"\"\"Turn a sentence into tokenized word list and remove stop-word\n",
    "    Using jieba to tokenize Chinese.\n",
    "    Args:\n",
    "        sentence: A string.\n",
    "    Returns:\n",
    "        words: A tokenized word list.\n",
    "    \"\"\"\n",
    "    words = jieba.cut(sentence)\n",
    "    words = [w for w in words if w not in stop_words]\n",
    "    return words"
   ]
  },
  {
   "cell_type": "code",
   "execution_count": 69,
   "metadata": {},
   "outputs": [],
   "source": [
    "l = []\n",
    "corpus = [] \n",
    "for sentence in text:\n",
    "    l.append(Sent2Word(sentence))\n",
    "    corpus += Sent2Word(sentence)"
   ]
  },
  {
   "cell_type": "code",
   "execution_count": 56,
   "metadata": {},
   "outputs": [],
   "source": [
    "### TFIDF"
   ]
  },
  {
   "cell_type": "code",
   "execution_count": 72,
   "metadata": {},
   "outputs": [],
   "source": [
    "from sklearn.feature_extraction.text import TfidfVectorizer\n",
    "from sklearn.feature_extraction.text import TfidfTransformer\n",
    "from sklearn.feature_extraction.text import CountVectorizer\n",
    "from sklearn.feature_extraction.text import HashingVectorizer"
   ]
  },
  {
   "cell_type": "code",
   "execution_count": 74,
   "metadata": {},
   "outputs": [],
   "source": [
    "# 将文本中的词语转换为词频矩阵 矩阵元素a[i][j] 表示j词在i类文本下的词频\n",
    "vectorizer = CountVectorizer()"
   ]
  },
  {
   "cell_type": "code",
   "execution_count": 75,
   "metadata": {},
   "outputs": [],
   "source": [
    "# 该类会统计每个词语的tf-idf权值\n",
    "transformer = TfidfTransformer()"
   ]
  },
  {
   "cell_type": "code",
   "execution_count": 76,
   "metadata": {},
   "outputs": [],
   "source": [
    "tfidf = transformer.fit_transform(vectorizer.fit_transform(corpus))"
   ]
  },
  {
   "cell_type": "code",
   "execution_count": 127,
   "metadata": {
    "scrolled": true
   },
   "outputs": [
    {
     "data": {
      "text/plain": [
       "<3698x1350 sparse matrix of type '<class 'numpy.float64'>'\n",
       "\twith 2896 stored elements in Compressed Sparse Row format>"
      ]
     },
     "execution_count": 127,
     "metadata": {},
     "output_type": "execute_result"
    }
   ],
   "source": [
    "tfidf"
   ]
  },
  {
   "cell_type": "code",
   "execution_count": 77,
   "metadata": {},
   "outputs": [],
   "source": [
    "word = vectorizer.get_feature_names()"
   ]
  },
  {
   "cell_type": "code",
   "execution_count": 81,
   "metadata": {},
   "outputs": [],
   "source": [
    "weight = tfidf.toarray()"
   ]
  },
  {
   "cell_type": "code",
   "execution_count": 82,
   "metadata": {},
   "outputs": [
    {
     "name": "stdout",
     "output_type": "stream",
     "text": [
      "Features length: 1350\n"
     ]
    }
   ],
   "source": [
    "print('Features length: ' + str(len(word)))"
   ]
  },
  {
   "cell_type": "code",
   "execution_count": 121,
   "metadata": {},
   "outputs": [],
   "source": [
    "## kmeans\n",
    "clf = KMeans(n_clusters=3)\n",
    "s = clf.fit(weight)"
   ]
  },
  {
   "cell_type": "code",
   "execution_count": 122,
   "metadata": {},
   "outputs": [
    {
     "data": {
      "text/plain": [
       "KMeans(algorithm='auto', copy_x=True, init='k-means++', max_iter=300,\n",
       "       n_clusters=3, n_init=10, n_jobs=None, precompute_distances='auto',\n",
       "       random_state=None, tol=0.0001, verbose=0)"
      ]
     },
     "execution_count": 122,
     "metadata": {},
     "output_type": "execute_result"
    }
   ],
   "source": [
    "s"
   ]
  },
  {
   "cell_type": "code",
   "execution_count": 123,
   "metadata": {},
   "outputs": [
    {
     "name": "stdout",
     "output_type": "stream",
     "text": [
      "[0 0 0 ... 0 0 0]\n"
     ]
    }
   ],
   "source": [
    "label = []  # 存储1000个类标 4个类\n",
    "print(clf.labels_)"
   ]
  },
  {
   "cell_type": "code",
   "execution_count": 124,
   "metadata": {},
   "outputs": [
    {
     "name": "stdout",
     "output_type": "stream",
     "text": [
      "2864.6490275913475\n"
     ]
    }
   ],
   "source": [
    "i = 1\n",
    "while i <= len(clf.labels_):\n",
    "#     print(i, clf.labels_[i - 1])\n",
    "    label.append(clf.labels_[i - 1])\n",
    "    i = i + 1\n",
    "\n",
    "# 用来评估簇的个数是否合适，距离越小说明簇分的越好，选取临界点的簇个数  958.137281791\n",
    "print(clf.inertia_)"
   ]
  },
  {
   "cell_type": "code",
   "execution_count": 125,
   "metadata": {},
   "outputs": [
    {
     "name": "stdout",
     "output_type": "stream",
     "text": [
      "3698\n"
     ]
    }
   ],
   "source": [
    "### plot\n",
    "pca = PCA(n_components=2)  # 输出两维\n",
    "newData = pca.fit_transform(weight)  # 载入N维\n",
    "# print(newData)\n",
    "print(len(newData))"
   ]
  },
  {
   "cell_type": "code",
   "execution_count": 126,
   "metadata": {},
   "outputs": [
    {
     "name": "stderr",
     "output_type": "stream",
     "text": [
      "/Users/yuanbo6/opt/anaconda3/lib/python3.7/site-packages/matplotlib/backends/backend_agg.py:211: RuntimeWarning: Glyph 29305 missing from current font.\n",
      "  font.set_text(s, 0.0, flags=flags)\n",
      "/Users/yuanbo6/opt/anaconda3/lib/python3.7/site-packages/matplotlib/backends/backend_agg.py:211: RuntimeWarning: Glyph 24449 missing from current font.\n",
      "  font.set_text(s, 0.0, flags=flags)\n",
      "/Users/yuanbo6/opt/anaconda3/lib/python3.7/site-packages/matplotlib/backends/backend_agg.py:211: RuntimeWarning: Glyph 32858 missing from current font.\n",
      "  font.set_text(s, 0.0, flags=flags)\n",
      "/Users/yuanbo6/opt/anaconda3/lib/python3.7/site-packages/matplotlib/backends/backend_agg.py:211: RuntimeWarning: Glyph 31867 missing from current font.\n",
      "  font.set_text(s, 0.0, flags=flags)\n",
      "/Users/yuanbo6/opt/anaconda3/lib/python3.7/site-packages/matplotlib/backends/backend_agg.py:211: RuntimeWarning: Glyph 25928 missing from current font.\n",
      "  font.set_text(s, 0.0, flags=flags)\n",
      "/Users/yuanbo6/opt/anaconda3/lib/python3.7/site-packages/matplotlib/backends/backend_agg.py:211: RuntimeWarning: Glyph 26524 missing from current font.\n",
      "  font.set_text(s, 0.0, flags=flags)\n",
      "/Users/yuanbo6/opt/anaconda3/lib/python3.7/site-packages/matplotlib/backends/backend_agg.py:180: RuntimeWarning: Glyph 29305 missing from current font.\n",
      "  font.set_text(s, 0, flags=flags)\n",
      "/Users/yuanbo6/opt/anaconda3/lib/python3.7/site-packages/matplotlib/backends/backend_agg.py:180: RuntimeWarning: Glyph 24449 missing from current font.\n",
      "  font.set_text(s, 0, flags=flags)\n",
      "/Users/yuanbo6/opt/anaconda3/lib/python3.7/site-packages/matplotlib/backends/backend_agg.py:180: RuntimeWarning: Glyph 32858 missing from current font.\n",
      "  font.set_text(s, 0, flags=flags)\n",
      "/Users/yuanbo6/opt/anaconda3/lib/python3.7/site-packages/matplotlib/backends/backend_agg.py:180: RuntimeWarning: Glyph 31867 missing from current font.\n",
      "  font.set_text(s, 0, flags=flags)\n",
      "/Users/yuanbo6/opt/anaconda3/lib/python3.7/site-packages/matplotlib/backends/backend_agg.py:180: RuntimeWarning: Glyph 25928 missing from current font.\n",
      "  font.set_text(s, 0, flags=flags)\n",
      "/Users/yuanbo6/opt/anaconda3/lib/python3.7/site-packages/matplotlib/backends/backend_agg.py:180: RuntimeWarning: Glyph 26524 missing from current font.\n",
      "  font.set_text(s, 0, flags=flags)\n"
     ]
    },
    {
     "data": {
      "image/png": "[encoded data removed]",
      "text/plain": [
       "<Figure size 1800x1200 with 1 Axes>"
      ]
     },
     "metadata": {
      "needs_background": "light"
     },
     "output_type": "display_data"
    }
   ],
   "source": [
    "x1 = []\n",
    "y1 = []\n",
    "\n",
    "x2 = []\n",
    "y2 = []\n",
    "\n",
    "x3 = []\n",
    "y3 = []\n",
    "\n",
    "x4 = []\n",
    "y4 = []\n",
    "\n",
    "for index, value in enumerate(label):\n",
    "    if value == 0:\n",
    "        x1.append(newData[index][0])\n",
    "        y1.append(newData[index][1])\n",
    "    elif value == 1:\n",
    "        x2.append(newData[index][0])\n",
    "        y2.append(newData[index][1])\n",
    "    elif value == 2:\n",
    "        x3.append(newData[index][0])\n",
    "        y3.append(newData[index][1])\n",
    "    elif value == 3:\n",
    "        x4.append(newData[index][0])\n",
    "        y4.append(newData[index][1])\n",
    "\n",
    "# 四种颜色 红 绿 蓝 黑\n",
    "# path = os.path.join(os.path.dirname(__file__), 'cluster_1')\n",
    "# if not os.path.exists(path):\n",
    "#     os.mkdir(path)\n",
    "# os.chdir(path)\n",
    "plt.rcParams['savefig.dpi'] = 300 # 图片像素\n",
    "plt.rcParams['figure.dpi'] = 300 # 分辨率\n",
    "plt.rcParams['font.sans-serif']=['SimHei']  # 用来正常显示中文标签\n",
    "# 服务器上貌似还是不能很好地显示中文，于是：\n",
    "# myfont = FontProperties(fname='../msyh.ttc')\n",
    "plt.rcParams['axes.unicode_minus']=False  # 用来正常显示负号\n",
    "plt.plot(x1, y1, 'or')\n",
    "plt.plot(x2, y2, 'og')\n",
    "plt.plot(x3, y3, 'ob')\n",
    "plt.plot(x4, y4, 'ok')\n",
    "plt.title('Tf-idf特征聚类效果')\n",
    "# plt.savefig('cluster_tfidf',dpi=300)\n",
    "plt.show()\n"
   ]
  },
  {
   "cell_type": "code",
   "execution_count": null,
   "metadata": {},
   "outputs": [],
   "source": []
  },
  {
   "cell_type": "code",
   "execution_count": null,
   "metadata": {},
   "outputs": [],
   "source": []
  }
 ],
 "metadata": {
  "kernelspec": {
   "display_name": "Python 3",
   "language": "python",
   "name": "python3"
  },
  "language_info": {
   "codemirror_mode": {
    "name": "ipython",
    "version": 3
   },
   "file_extension": ".py",
   "mimetype": "text/x-python",
   "name": "python",
   "nbconvert_exporter": "python",
   "pygments_lexer": "ipython3",
   "version": "3.7.4"
  }
 },
 "nbformat": 4,
 "nbformat_minor": 2
}
