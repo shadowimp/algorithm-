{
 "cells": [
  {
   "cell_type": "code",
   "execution_count": 1,
   "metadata": {},
   "outputs": [],
   "source": [
    "import jieba \n",
    "import jieba.analyse"
   ]
  },
  {
   "cell_type": "code",
   "execution_count": 2,
   "metadata": {},
   "outputs": [],
   "source": [
    "#关键词提取\n",
    "content = u'#瑞幸咖啡伪造交易22亿#【否认业绩造假两个月之后 瑞幸承认虚假交易22亿元】继此前否认浑水的造假指控之后，瑞幸官方今日发布公告，承认虚假交易22亿元。\\n\\n\\u3000\\u3000公告中称，瑞幸内部调查显示，从2019年第二季度到2019年第四季度与虚假交易相关的总销售金额约为22亿元。\\n\\n\\u3000\\u3000今年1月底，浑水公司发布沽空 \\u200b'"
   ]
  },
  {
   "cell_type": "code",
   "execution_count": 3,
   "metadata": {},
   "outputs": [
    {
     "name": "stderr",
     "output_type": "stream",
     "text": [
      "Building prefix dict from the default dictionary ...\n",
      "Dumping model to file cache /var/folders/t4/rm36wrgn0v5b2520m_7d2t380000gn/T/jieba.cache\n",
      "Loading model cost 0.799 seconds.\n",
      "Prefix dict has been built successfully.\n"
     ]
    },
    {
     "name": "stdout",
     "output_type": "stream",
     "text": [
      "瑞幸 2.812886471270588\n",
      "浑水 1.2566825678941176\n",
      "交易 1.1557310941647059\n",
      "咖啡 0.4576694254717647\n",
      "发布公告 0.43806192076941175\n"
     ]
    }
   ],
   "source": [
    "#基于TF-IDF\n",
    "keywords = jieba.analyse.extract_tags(content,topK = 5,withWeight = True,allowPOS = ('n','nr','ns'))\n",
    "for item in keywords:    \n",
    "    print(item[0],item[1])"
   ]
  },
  {
   "cell_type": "code",
   "execution_count": 4,
   "metadata": {},
   "outputs": [
    {
     "name": "stdout",
     "output_type": "stream",
     "text": [
      "瑞幸 1.0\n",
      "交易 0.6460613370115079\n",
      "浑水 0.5104272830477476\n",
      "公司 0.5071254214187028\n",
      "发布公告 0.5019347923330433\n"
     ]
    }
   ],
   "source": [
    "#基于TextRank\n",
    "keywords = jieba.analyse.textrank(content,topK = 5,withWeight = True,allowPOS = ('n','nr','ns'))\n",
    "for item in keywords:    \n",
    "    print(item[0],item[1])   #基于TextRank结果："
   ]
  },
  {
   "cell_type": "code",
   "execution_count": 10,
   "metadata": {},
   "outputs": [
    {
     "name": "stdout",
     "output_type": "stream",
     "text": [
      "全模式： 用/刀尖/入水/，/用/显微/显微镜/看/雪/，/就算/反复/如此/，/还是/忍不住/不住/问一问/，/你/数/过天/天上/的/星星/吗/？/它们/和/小鸟/一样/，/总/在/我/胸口/跳伞/。\n",
      "精确模式： 用/刀尖/入/水/，/用/显微镜/看雪/，/就算/反复/如此/，/还是/忍不住/问一问/，/你/数过/天上/的/星星/吗/？/它们/和/小鸟/一样/，/总在/我/胸口/跳伞/。\n",
      "默认精确模式： 用/刀尖/入/水/，/用/显微镜/看雪/，/就算/反复/如此/，/还是/忍不住/问一问/，/你/数过/天上/的/星星/吗/？/它们/和/小鸟/一样/，/总在/我/胸口/跳伞/。\n",
      "搜索引擎模式： 用/刀尖/入/水/，/用/显微/显微镜/看雪/，/就算/反复/如此/，/还是/不住/忍不住/问一问/，/你/数过/天上/的/星星/吗/？/它们/和/小鸟/一样/，/总在/我/胸口/跳伞/。\n"
     ]
    }
   ],
   "source": [
    "sent = '用刀尖入水，用显微镜看雪，就算反复如此，还是忍不住问一问，你数过天上的星星吗？它们和小鸟一样，总在我胸口跳伞。'\n",
    "seg_list1 = jieba.cut(sent,cut_all=True)\n",
    "print('全模式：','/'.join(seg_list1))\n",
    "seg_list2 = jieba.cut(sent,cut_all=False)\n",
    "print('精确模式：','/'.join(seg_list2))\n",
    "seg_list3 = jieba.cut(sent)\n",
    "print('默认精确模式：','/'.join(seg_list3))\n",
    "seg_list4 = jieba.cut_for_search(sent)\n",
    "print('搜索引擎模式：','/'.join(seg_list4))"
   ]
  },
  {
   "cell_type": "code",
   "execution_count": 11,
   "metadata": {},
   "outputs": [],
   "source": []
  },
  {
   "cell_type": "code",
   "execution_count": 12,
   "metadata": {},
   "outputs": [],
   "source": []
  }
 ],
 "metadata": {
  "kernelspec": {
   "display_name": "Python 3",
   "language": "python",
   "name": "python3"
  },
  "language_info": {
   "codemirror_mode": {
    "name": "ipython",
    "version": 3
   },
   "file_extension": ".py",
   "mimetype": "text/x-python",
   "name": "python",
   "nbconvert_exporter": "python",
   "pygments_lexer": "ipython3",
   "version": "3.7.4"
  }
 },
 "nbformat": 4,
 "nbformat_minor": 4
}
