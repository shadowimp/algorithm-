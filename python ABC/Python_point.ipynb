{
 "cells": [
  {
   "cell_type": "markdown",
   "metadata": {},
   "source": [
    "### 深浅拷贝"
   ]
  },
  {
   "cell_type": "code",
   "execution_count": 25,
   "metadata": {
    "scrolled": true
   },
   "outputs": [
    {
     "data": {
      "text/plain": [
       "[1, 2, 3]"
      ]
     },
     "execution_count": 25,
     "metadata": {},
     "output_type": "execute_result"
    }
   ],
   "source": [
    "a = [1,2,3]\n",
    "b = a.copy()\n",
    "a[0] = 88\n",
    "b\n",
    "#浅拷贝"
   ]
  },
  {
   "cell_type": "code",
   "execution_count": 27,
   "metadata": {
    "scrolled": true
   },
   "outputs": [
    {
     "data": {
      "text/plain": [
       "[[88, 2, 3], [4, 5, 6], [7, 8, 9]]"
      ]
     },
     "execution_count": 27,
     "metadata": {},
     "output_type": "execute_result"
    }
   ],
   "source": [
    "m1 = [[1,2,3],[4,5,6],[7,8,9]]\n",
    "m2 = m1.copy()\n",
    "m1[0][0] = 88\n",
    "m2"
   ]
  },
  {
   "cell_type": "markdown",
   "metadata": {},
   "source": [
    "- 赋值是将一个变量的地址给一个新的变量，两者完全相同\n",
    "- 浅拷贝是建立一个新的变量，这个变量有新的地址，但其中元素的地址和原变量相同。 新的对象指向的还是原本的元素。\n",
    "- 浅拷贝中，如果链表中嵌套了列表，新列表的元素依然指向原列表元素指向的地址。"
   ]
  },
  {
   "cell_type": "code",
   "execution_count": 26,
   "metadata": {},
   "outputs": [
    {
     "data": {
      "text/plain": [
       "(4374007624, 4374007624)"
      ]
     },
     "execution_count": 26,
     "metadata": {},
     "output_type": "execute_result"
    }
   ],
   "source": [
    "id(m2[0]),id(m1[0])"
   ]
  },
  {
   "cell_type": "code",
   "execution_count": 36,
   "metadata": {},
   "outputs": [
    {
     "name": "stdout",
     "output_type": "stream",
     "text": [
      "[1, 2, 3] 4325787696 4325787696\n",
      "[1, 2, 3] 4325787696 4374242440\n"
     ]
    }
   ],
   "source": [
    "from copy import deepcopy \n",
    "d1 = [1,2,3]\n",
    "d2 = deepcopy(d1)\n",
    "print(d2,id(d2[0]),id(d1[0]))\n",
    "d1[0] = [[2,2]]\n",
    "d2\n",
    "print(d2,id(d2[0]),id(d1[0]))"
   ]
  },
  {
   "cell_type": "markdown",
   "metadata": {},
   "source": [
    "深拷贝则是完全重新创建了一个列表。"
   ]
  },
  {
   "cell_type": "markdown",
   "metadata": {},
   "source": [
    "### ASCII 码"
   ]
  },
  {
   "cell_type": "code",
   "execution_count": 19,
   "metadata": {},
   "outputs": [
    {
     "data": {
      "text/plain": [
       "(97, 122, 65, 90, 48, 'a', 'A')"
      ]
     },
     "execution_count": 19,
     "metadata": {},
     "output_type": "execute_result"
    }
   ],
   "source": [
    "ord('a'),ord('z'),ord('A'),ord('Z'),ord('0'),chr(97),chr(65)\n"
   ]
  },
  {
   "cell_type": "code",
   "execution_count": 13,
   "metadata": {},
   "outputs": [
    {
     "name": "stdout",
     "output_type": "stream",
     "text": [
      "['a', 'b', 'c', 'd', 'e', 'f', 'g', 'h', 'i', 'j', 'k', 'l', 'm', 'n', 'o', 'p', 'q', 'r', 's', 't', 'u', 'v', 'w', 'x', 'y', 'z']\n"
     ]
    }
   ],
   "source": [
    "letter = [chr(i) for i in range(97,97+26)]\n",
    "print(letter)"
   ]
  },
  {
   "cell_type": "code",
   "execution_count": 15,
   "metadata": {},
   "outputs": [
    {
     "data": {
      "text/plain": [
       "True"
      ]
     },
     "execution_count": 15,
     "metadata": {},
     "output_type": "execute_result"
    }
   ],
   "source": [
    "s_d = '123234'\n",
    "s_d[1].isdigit() "
   ]
  },
  {
   "cell_type": "markdown",
   "metadata": {
    "collapsed": true
   },
   "source": [
    "### 跳出循环 continue and break "
   ]
  },
  {
   "cell_type": "code",
   "execution_count": 29,
   "metadata": {},
   "outputs": [
    {
     "name": "stdout",
     "output_type": "stream",
     "text": [
      "5\n",
      "7\n",
      "9\n"
     ]
    }
   ],
   "source": [
    "n = 0 \n",
    "while n <10: \n",
    "    n = n+1\n",
    "    if  n >3 :\n",
    "        if n%2 == 0 :\n",
    "            continue  #跳出当次循环，continue下方的语句不会被执行\n",
    "        print(n)"
   ]
  },
  {
   "cell_type": "markdown",
   "metadata": {},
   "source": [
    "### 类"
   ]
  },
  {
   "cell_type": "code",
   "execution_count": 1,
   "metadata": {
    "collapsed": true
   },
   "outputs": [],
   "source": [
    "class Solution:\n",
    "    \n",
    "    def fun1(self,a,b):\n",
    "        if a> 0 and b> 0 :\n",
    "            return a+b\n",
    "        else:\n",
    "            return self.fun1(a+1,b+1)\n",
    "\n",
    "    def fun2(self,c,d):\n",
    "        return self.fun1(c,d)\n"
   ]
  },
  {
   "cell_type": "markdown",
   "metadata": {},
   "source": [
    "同一个类的函数调用 ：  self.fun() \n",
    "\n",
    "同一个类内调用函数的时候都要加上self"
   ]
  },
  {
   "cell_type": "markdown",
   "metadata": {},
   "source": [
    "### 异常处理"
   ]
  },
  {
   "cell_type": "code",
   "execution_count": 1,
   "metadata": {},
   "outputs": [
    {
     "data": {
      "text/plain": [
       "12"
      ]
     },
     "execution_count": 1,
     "metadata": {},
     "output_type": "execute_result"
    }
   ],
   "source": [
    "nums_dict = {}\n",
    "try : \n",
    "    nums_dict[1]\n",
    "except:\n",
    "    nums_dict[1] = 12\n",
    "nums_dict[1]"
   ]
  },
  {
   "cell_type": "code",
   "execution_count": null,
   "metadata": {
    "collapsed": true
   },
   "outputs": [],
   "source": []
  }
 ],
 "metadata": {
  "kernelspec": {
   "display_name": "Python 3",
   "language": "python",
   "name": "python3"
  },
  "language_info": {
   "codemirror_mode": {
    "name": "ipython",
    "version": 3
   },
   "file_extension": ".py",
   "mimetype": "text/x-python",
   "name": "python",
   "nbconvert_exporter": "python",
   "pygments_lexer": "ipython3",
   "version": "3.6.3"
  }
 },
 "nbformat": 4,
 "nbformat_minor": 2
}
