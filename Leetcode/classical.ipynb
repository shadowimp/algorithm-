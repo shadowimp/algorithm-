{
 "cells": [
  {
   "cell_type": "markdown",
   "metadata": {},
   "source": [
    "### 找数组中第k大的数\n",
    "```\n",
    "维护一个k大的最小堆，堆中是数组中最大的k个数。\n",
    "第一个元素（nums[0])是堆顶元素\n",
    "```"
   ]
  },
  {
   "cell_type": "code",
   "execution_count": 3,
   "metadata": {},
   "outputs": [],
   "source": [
    "import heapq\n",
    "def kthLargestElement( k, nums):\n",
    "    if len(nums) <k :\n",
    "        return \n",
    "    nums_k = nums[0:k] \n",
    "    heapq.heapify(nums_k)\n",
    "    for num in nums[k : len(nums) ]:\n",
    "        item = max(num , heapq.heappop(nums_k))\n",
    "        heapq.heappush(nums_k,item)\n",
    "\n",
    "    return nums_k[0]"
   ]
  },
  {
   "cell_type": "code",
   "execution_count": 4,
   "metadata": {},
   "outputs": [
    {
     "data": {
      "text/plain": [
       "4"
      ]
     },
     "execution_count": 4,
     "metadata": {},
     "output_type": "execute_result"
    }
   ],
   "source": [
    "k = 3\n",
    "nums = [9,3,2,4,8]\n",
    "kthLargestElement(k, nums)"
   ]
  },
  {
   "attachments": {},
   "cell_type": "markdown",
   "metadata": {},
   "source": [
    "### 调整数组顺序使奇数位于偶数前面"
   ]
  },
  {
   "cell_type": "code",
   "execution_count": 6,
   "metadata": {},
   "outputs": [
    {
     "name": "stdout",
     "output_type": "stream",
     "text": [
      "a\n",
      "[1, 3, 2, 4]\n"
     ]
    }
   ],
   "source": [
    "def reOrderArray(nums):\n",
    "    left , right =  0  , len(nums)-1\n",
    "    while left < right:\n",
    "        if nums[left] %2 == 0 and nums[right] %2 ==1 :\n",
    "            nums[left] , nums[right] = nums[right] , nums[left]\n",
    "            left += 1\n",
    "            right -= 1\n",
    "        if nums[left] % 2 == 1:\n",
    "            left += 1\n",
    "        if nums[right] %2 == 0:\n",
    "            right -= 1\n",
    "    return nums\n",
    "\n",
    "print('a')\n",
    "print(reOrderArray([1,2,3,4]) )"
   ]
  },
  {
   "cell_type": "code",
   "execution_count": null,
   "metadata": {},
   "outputs": [],
   "source": []
  }
 ],
 "metadata": {
  "kernelspec": {
   "display_name": "Python 3",
   "language": "python",
   "name": "python3"
  },
  "language_info": {
   "codemirror_mode": {
    "name": "ipython",
    "version": 3
   },
   "file_extension": ".py",
   "mimetype": "text/x-python",
   "name": "python",
   "nbconvert_exporter": "python",
   "pygments_lexer": "ipython3",
   "version": "3.7.3"
  }
 },
 "nbformat": 4,
 "nbformat_minor": 2
}
