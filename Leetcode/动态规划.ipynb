{
 "cells": [
  {
   "cell_type": "markdown",
   "metadata": {},
   "source": [
    "### 152. 乘积最大连续子序列\n",
    "```\n",
    "给定一个整数数组 nums ，找出一个序列中乘积最大的连续子序列（该序列至少包含一个数）。\n",
    "输入: [2,3,-2,4]\n",
    "输出: 6\n",
    "解释: 子数组 [2,3] 有最大乘积 6。\n",
    "思路：由于有负数的存在，所以同时记录两个值：一个最大值，一个最小值\n",
    "```"
   ]
  },
  {
   "cell_type": "code",
   "execution_count": 18,
   "metadata": {},
   "outputs": [],
   "source": [
    "def maxProduct(nums):\n",
    "    res, cur_max , cur_min =nums[0], nums[0], nums[0]\n",
    "    for num in nums[1:]:\n",
    "        cur_max,cur_min = cur_max*num, cur_min*num\n",
    "        cur_max,cur_min = max(cur_max,cur_min,num),\\\n",
    "        min(cur_max,cur_min,num)\n",
    "        res = max(res, cur_max)\n",
    "        return res"
   ]
  },
  {
   "cell_type": "code",
   "execution_count": 19,
   "metadata": {},
   "outputs": [
    {
     "name": "stdout",
     "output_type": "stream",
     "text": [
      "0\n"
     ]
    }
   ],
   "source": [
    "nums = [-2,0,-1]\n",
    "print(maxProduct(nums))"
   ]
  },
  {
   "cell_type": "markdown",
   "metadata": {},
   "source": [
    "### 300.最长递增子序列\n",
    "```\n",
    "输入: [10,9,2,5,3,7,101,18]\n",
    "输出: 4 \n",
    "解释: 最长的上升子序列是 [2,3,7,101]，它的长度是 4\n",
    "```"
   ]
  },
  {
   "cell_type": "code",
   "execution_count": 2,
   "metadata": {},
   "outputs": [],
   "source": [
    "def LIS(nums):\n",
    "    if not nums:\n",
    "        return 0\n",
    "    dp = [1 for i in range(len(nums))]\n",
    "    for i in range(len(nums)):\n",
    "        for j in range(i):\n",
    "            if nums[i] > nums[j]:\n",
    "                dp[i] = max(dp[i], dp[j]+1)\n",
    "            else:\n",
    "                pass\n",
    "    return max(dp)"
   ]
  },
  {
   "cell_type": "code",
   "execution_count": 3,
   "metadata": {},
   "outputs": [
    {
     "data": {
      "text/plain": [
       "4"
      ]
     },
     "execution_count": 3,
     "metadata": {},
     "output_type": "execute_result"
    }
   ],
   "source": [
    "nums = [10,9,2,5,3,7,101,18]\n",
    "LIS(nums)"
   ]
  },
  {
   "cell_type": "code",
   "execution_count": null,
   "metadata": {},
   "outputs": [],
   "source": []
  }
 ],
 "metadata": {
  "kernelspec": {
   "display_name": "Python 3",
   "language": "python",
   "name": "python3"
  },
  "language_info": {
   "codemirror_mode": {
    "name": "ipython",
    "version": 3
   },
   "file_extension": ".py",
   "mimetype": "text/x-python",
   "name": "python",
   "nbconvert_exporter": "python",
   "pygments_lexer": "ipython3",
   "version": "3.7.3"
  }
 },
 "nbformat": 4,
 "nbformat_minor": 2
}
