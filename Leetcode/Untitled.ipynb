{
 "cells": [
  {
   "cell_type": "markdown",
   "metadata": {},
   "source": [
    "### 非连续和最大"
   ]
  },
  {
   "cell_type": "code",
   "execution_count": 113,
   "metadata": {},
   "outputs": [],
   "source": [
    "n = 4\n",
    "nums = [1,2,3,4]\n"
   ]
  },
  {
   "cell_type": "code",
   "execution_count": 114,
   "metadata": {},
   "outputs": [
    {
     "name": "stdout",
     "output_type": "stream",
     "text": [
      "1 1\n",
      "2 2\n",
      "4 3\n",
      "6 4\n"
     ]
    }
   ],
   "source": [
    "v1, v2 = 0 ,0  \n",
    "res1 = []\n",
    "res2 = []\n",
    "for i in range(len(nums)):  \n",
    "    v1, v2 = v2, max(v1+nums[i], v2)\n",
    "    if v2 > v1:\n",
    "        res.append(nums[i])\n",
    "    else:\n",
    "        res2\n",
    "    "
   ]
  },
  {
   "cell_type": "code",
   "execution_count": 23,
   "metadata": {},
   "outputs": [],
   "source": [
    "n = 4\n",
    "nums = [1,2,3,1]\n",
    "v1, v2 = 0 ,0 \n",
    "res = 0 "
   ]
  },
  {
   "cell_type": "code",
   "execution_count": 28,
   "metadata": {},
   "outputs": [
    {
     "name": "stdout",
     "output_type": "stream",
     "text": [
      "4\n",
      "1 2 3 1\n"
     ]
    }
   ],
   "source": [
    "n = int(input())\n",
    "nums = list(map(int, input().split()))\n"
   ]
  },
  {
   "cell_type": "code",
   "execution_count": 107,
   "metadata": {},
   "outputs": [],
   "source": [
    "n = 4\n",
    "nums = [1,2,3,4]"
   ]
  },
  {
   "cell_type": "code",
   "execution_count": 108,
   "metadata": {},
   "outputs": [
    {
     "name": "stdout",
     "output_type": "stream",
     "text": [
      "1 1\n",
      "2 2\n",
      "4 3\n",
      "6 4\n"
     ]
    }
   ],
   "source": [
    "v1, v2 = 0 ,0 \n",
    "res_index = 0 \n",
    "res = 0 \n",
    "for i in range(len(nums)):\n",
    "    cur_sum = v1\n",
    "    v1 = v2 \n",
    "    if v2 < cur_sum + nums[i]:\n",
    "        v2 = cur_sum + nums[i]\n",
    "        res += 1 \n",
    "    else:\n",
    "        res -= 1\n",
    "    print(v2, res)"
   ]
  },
  {
   "cell_type": "code",
   "execution_count": 103,
   "metadata": {},
   "outputs": [],
   "source": [
    "n = 4\n",
    "nums = [1,2,3,4]\n"
   ]
  },
  {
   "cell_type": "code",
   "execution_count": 104,
   "metadata": {},
   "outputs": [
    {
     "name": "stdout",
     "output_type": "stream",
     "text": [
      "0\n",
      "6\n"
     ]
    }
   ],
   "source": [
    "dp = [0 for i in range(n)]\n",
    "dp[0] = nums[0]\n",
    "dp[1] = max(nums[0], nums[1] )\n",
    "for i in range(2,n):\n",
    "    if dp[i-2] +nums[i] > dp[i-1]:\n",
    "        dp[i] = dp[i-2] +nums[i]\n",
    "    else:\n",
    "        dp[i] = dp[i-1]\n",
    "    print(dp[-1])"
   ]
  },
  {
   "cell_type": "code",
   "execution_count": 84,
   "metadata": {},
   "outputs": [
    {
     "data": {
      "text/plain": [
       "[1, 3, 1]"
      ]
     },
     "execution_count": 84,
     "metadata": {},
     "output_type": "execute_result"
    }
   ],
   "source": []
  },
  {
   "cell_type": "code",
   "execution_count": null,
   "metadata": {},
   "outputs": [],
   "source": []
  }
 ],
 "metadata": {
  "kernelspec": {
   "display_name": "Python 3",
   "language": "python",
   "name": "python3"
  },
  "language_info": {
   "codemirror_mode": {
    "name": "ipython",
    "version": 3
   },
   "file_extension": ".py",
   "mimetype": "text/x-python",
   "name": "python",
   "nbconvert_exporter": "python",
   "pygments_lexer": "ipython3",
   "version": "3.7.3"
  }
 },
 "nbformat": 4,
 "nbformat_minor": 2
}
