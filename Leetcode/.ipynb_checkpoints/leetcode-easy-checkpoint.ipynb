{
 "cells": [
  {
   "cell_type": "markdown",
   "metadata": {},
   "source": [
    "### 1. Two Sum\n",
    "\n",
    "Given an array of integers, return indices of the two numbers such that they add up to a specific target.\n",
    "\n",
    "You may assume that each input would have exactly one solution, and you may not use the same element twice.\n",
    "\n",
    "Example:\n",
    "\n",
    "Given nums = [2, 7, 11, 15], target = 9,\n",
    "\n",
    "Because nums[0] + nums[1] = 2 + 7 = 9,\n",
    "return [0, 1].\n"
   ]
  },
  {
   "cell_type": "code",
   "execution_count": 54,
   "metadata": {
    "collapsed": true
   },
   "outputs": [],
   "source": [
    "def two_sum(nums,target):\n",
    "    nums_dict = { }\n",
    "    for i in range(len(nums)):\n",
    "        if nums[i] not in nums_dict:\n",
    "            nums_dict[target-nums[i]]  = i\n",
    "        else:\n",
    "            return [nums_dict[nums[i]],i]\n",
    "\n",
    "    "
   ]
  },
  {
   "cell_type": "code",
   "execution_count": 56,
   "metadata": {},
   "outputs": [
    {
     "data": {
      "text/plain": [
       "[0, 2]"
      ]
     },
     "execution_count": 56,
     "metadata": {},
     "output_type": "execute_result"
    }
   ],
   "source": [
    "two_sum([2,5,7,11,15],9)"
   ]
  },
  {
   "cell_type": "markdown",
   "metadata": {},
   "source": [
    "### 20.Valid Parentheses  \n",
    "Given a string containing just the characters '(', ')', '{', '}', '[' and ']', determine if the input string is valid."
   ]
  },
  {
   "cell_type": "code",
   "execution_count": 22,
   "metadata": {
    "collapsed": true
   },
   "outputs": [],
   "source": [
    "def valid_parent(s):\n",
    "    if not s :\n",
    "        return True \n",
    "    s_dict = {']':'[',')':'(','}':'{'}\n",
    "    s_list = [ ]\n",
    "    for _ in s : \n",
    "        if _ not in s_dict:\n",
    "            s_list.append(_)\n",
    "        elif s_list == [] or s_list.pop() is not s_dict[_] :\n",
    "            return False\n",
    "    return False if s_list  else True\n",
    "    "
   ]
  },
  {
   "cell_type": "code",
   "execution_count": 21,
   "metadata": {},
   "outputs": [
    {
     "data": {
      "text/plain": [
       "False"
      ]
     },
     "execution_count": 21,
     "metadata": {},
     "output_type": "execute_result"
    }
   ],
   "source": [
    "valid_parent('()()(')"
   ]
  },
  {
   "cell_type": "markdown",
   "metadata": {
    "collapsed": true
   },
   "source": [
    "### 21. Merge Two Sorted Lists"
   ]
  },
  {
   "cell_type": "code",
   "execution_count": 50,
   "metadata": {
    "collapsed": true
   },
   "outputs": [],
   "source": [
    "class LinkNode:\n",
    "    def __init__(self,x):\n",
    "        self.val = x\n",
    "        self.next = None\n",
    "\n",
    "def merge_list(l1,l2):\n",
    "    s = l = LinkNode(0)\n",
    "    while l1 and l2 :\n",
    "        if l1.val < l2.val:\n",
    "            l.next = LinkNode(l1.val)\n",
    "            l1 = l1.next \n",
    "        else:\n",
    "            l.next = LinkNode(l2.val)\n",
    "            l2 = l2.next \n",
    "        l = l.next \n",
    "    \n",
    "    while l1:\n",
    "        l.next = LinkNode(l1.val)\n",
    "        l = l.next \n",
    "        l1 = l1.next\n",
    "    while l2:\n",
    "        l.next = LinkNode(l2.val)\n",
    "        l = l.next \n",
    "        l2 = l2.next \n",
    "    return s.next \n"
   ]
  },
  {
   "cell_type": "code",
   "execution_count": 51,
   "metadata": {
    "scrolled": true
   },
   "outputs": [
    {
     "data": {
      "text/plain": [
       "1"
      ]
     },
     "execution_count": 51,
     "metadata": {},
     "output_type": "execute_result"
    }
   ],
   "source": [
    "l1 = LinkNode(1)\n",
    "l1.next = LinkNode(4)\n",
    "l2 = LinkNode(2)\n",
    "l2.next = LinkNode(3)\n",
    "\n",
    "merge_list(l1,l2).val\n"
   ]
  },
  {
   "cell_type": "markdown",
   "metadata": {},
   "source": [
    "### 53. Maximum Subarray\n",
    "Given an integer array nums, find the contiguous subarray (containing at least one number) which has the largest sum and return its sum.\n",
    "\n",
    "Input: [-2,1,-3,4,-1,2,1,-5,4]\n",
    "\n",
    "Output: 6\n",
    "\n",
    "Explanation: [4,-1,2,1] has the largest sum = 6."
   ]
  },
  {
   "cell_type": "code",
   "execution_count": 57,
   "metadata": {
    "collapsed": true
   },
   "outputs": [],
   "source": [
    "def max_subarray(nums):\n",
    "    if not nums:\n",
    "        return None \n",
    "    max_sum = current_sum = nums[0]\n",
    "    for num in nums[1:]: \n",
    "        current_sum = max(current_sum+num,num)\n",
    "        max_sum = max(current_sum,max_sum)\n",
    "    return max_sum   "
   ]
  },
  {
   "cell_type": "code",
   "execution_count": 58,
   "metadata": {
    "scrolled": true
   },
   "outputs": [
    {
     "data": {
      "text/plain": [
       "6"
      ]
     },
     "execution_count": 58,
     "metadata": {},
     "output_type": "execute_result"
    }
   ],
   "source": [
    "nums= [ -2,1,-3,4,-1,2,1,-5,4]\n",
    "max_subarray(nums)"
   ]
  },
  {
   "cell_type": "markdown",
   "metadata": {},
   "source": [
    "### 70. Climbing Stairs\n",
    "You are climbing a stair case. It takes n steps to reach to the top.\n",
    "\n",
    "Each time you can either climb 1 or 2 steps. In how many distinct ways can you climb to the top?"
   ]
  },
  {
   "cell_type": "code",
   "execution_count": 1,
   "metadata": {
    "collapsed": true
   },
   "outputs": [],
   "source": [
    "def climb_stairs(n):\n",
    "    if n == 1 :\n",
    "        return 1 \n",
    "    if n == 2 :\n",
    "        return 2 \n",
    "    \n",
    "    steps = [ 0 for i in range(n) ]\n",
    "    steps[0] , steps[1] = 1,2\n",
    "    for i in range(2,n):\n",
    "        steps[i] = steps[i-1] + steps[i-2]\n",
    "    return steps[-1] \n"
   ]
  },
  {
   "cell_type": "code",
   "execution_count": 2,
   "metadata": {},
   "outputs": [
    {
     "data": {
      "text/plain": [
       "89"
      ]
     },
     "execution_count": 2,
     "metadata": {},
     "output_type": "execute_result"
    }
   ],
   "source": [
    "climb_stairs(10)"
   ]
  },
  {
   "cell_type": "markdown",
   "metadata": {},
   "source": [
    "### 101. Symmetric Tree\n",
    "Given a binary tree, check whether it is a mirror of itself (ie, symmetric around its center).\n",
    "\n",
    "For example, this binary tree [1,2,2,3,4,4,3] is symmetric:"
   ]
  },
  {
   "cell_type": "code",
   "execution_count": 116,
   "metadata": {
    "collapsed": true
   },
   "outputs": [],
   "source": [
    "class TreeNode:\n",
    "    def __init__(self,x):\n",
    "        self.val = x\n",
    "        self.left = None \n",
    "        self.right = None"
   ]
  },
  {
   "cell_type": "code",
   "execution_count": 92,
   "metadata": {
    "collapsed": true
   },
   "outputs": [],
   "source": [
    "def symmetric_tree(root):\n",
    "    if root is None :\n",
    "        return True \n",
    "    else :\n",
    "        return fun(root.left,root.right)\n",
    "def fun(left,right):\n",
    "    if left is None and right is None :\n",
    "        return True \n",
    "    if left is None or right is None:\n",
    "        return False\n",
    "    if left.val != right.val:\n",
    "        return False\n",
    "    else:\n",
    "        flag1 = fun(left.left,right.right)\n",
    "        flag2 = fun(left.right,right.left)\n",
    "        return flag1 and flag2"
   ]
  },
  {
   "cell_type": "code",
   "execution_count": 11,
   "metadata": {
    "collapsed": true
   },
   "outputs": [],
   "source": [
    "t = TreeNode(1)\n",
    "t.left , t.right  = TreeNode(2),TreeNode(2)\n",
    "t.left.left , t.left.right , t.right.left , t.right.right = TreeNode(3),TreeNode(4),TreeNode(4),TreeNode(3)"
   ]
  },
  {
   "cell_type": "code",
   "execution_count": 117,
   "metadata": {},
   "outputs": [
    {
     "data": {
      "text/plain": [
       "True"
      ]
     },
     "execution_count": 117,
     "metadata": {},
     "output_type": "execute_result"
    }
   ],
   "source": [
    "symmetric_tree(t)"
   ]
  },
  {
   "cell_type": "markdown",
   "metadata": {
    "collapsed": true
   },
   "source": [
    "### 104. Maximum Depth of Binary Tree\n",
    "Given a binary tree, find its maximum depth.\n",
    "\n",
    "The maximum depth is the number of nodes along the longest path from the root node down to the farthest leaf node."
   ]
  },
  {
   "cell_type": "markdown",
   "metadata": {},
   "source": [
    "当前父亲节点的Maximum Depth = 最大的子节点的Maximum Depth +1"
   ]
  },
  {
   "cell_type": "code",
   "execution_count": 8,
   "metadata": {
    "collapsed": true
   },
   "outputs": [],
   "source": [
    "class TreeNode:\n",
    "    def __init__(self,x):\n",
    "        self.val = x\n",
    "        self.left = None \n",
    "        self.right = None "
   ]
  },
  {
   "cell_type": "code",
   "execution_count": 10,
   "metadata": {
    "collapsed": true
   },
   "outputs": [],
   "source": [
    "def max_depth(root): \n",
    "    if root:\n",
    "        return 1+ max( max_depth(root.left) , max_depth(root.right) )\n",
    "    else:\n",
    "        return 0 \n",
    "    \n",
    "    \n",
    "    "
   ]
  },
  {
   "cell_type": "code",
   "execution_count": 12,
   "metadata": {},
   "outputs": [
    {
     "data": {
      "text/plain": [
       "3"
      ]
     },
     "execution_count": 12,
     "metadata": {},
     "output_type": "execute_result"
    }
   ],
   "source": [
    "max_depth(t)"
   ]
  },
  {
   "cell_type": "markdown",
   "metadata": {},
   "source": [
    "### 121. Best Time to Buy and Sell Stock\n",
    "Say you have an array for which the ith element is the price of a given stock on day i.\n",
    "\n",
    "If you were only permitted to complete at most one transaction (i.e., buy one and sell one share of the stock), design an algorithm to find the maximum profit.\n",
    "\n",
    "Note that you cannot sell a stock before you buy one.\n",
    "\n",
    "Input: [7,1,5,3,6,4]\n",
    "\n",
    "Output: 5\n"
   ]
  },
  {
   "cell_type": "code",
   "execution_count": 24,
   "metadata": {
    "collapsed": true
   },
   "outputs": [],
   "source": [
    "def max_profit(nums):\n",
    "    if not nums:\n",
    "        return 0\n",
    "    max_profit = 0 \n",
    "    min_price = nums[0]\n",
    "    for price in nums[1:]:\n",
    "        current_profit = max(0,price - min_price )\n",
    "        min_price = min(min_price,price)\n",
    "        max_profit = max(max_profit, current_profit)\n",
    "    return max_profit"
   ]
  },
  {
   "cell_type": "code",
   "execution_count": 28,
   "metadata": {},
   "outputs": [
    {
     "data": {
      "text/plain": [
       "0"
      ]
     },
     "execution_count": 28,
     "metadata": {},
     "output_type": "execute_result"
    }
   ],
   "source": [
    "nums = []\n",
    "max_profit(nums)"
   ]
  },
  {
   "cell_type": "markdown",
   "metadata": {},
   "source": [
    "### 136. Single Number\n",
    "Given a non-empty array of integers, every element appears twice except for one. Find that single one."
   ]
  },
  {
   "cell_type": "code",
   "execution_count": null,
   "metadata": {
    "collapsed": true
   },
   "outputs": [],
   "source": [
    "def single_number(nums):\n",
    "    a = nums[0]\n",
    "    for num in nums[1:]:\n",
    "        a = num^a\n",
    "    return a \n",
    "    "
   ]
  },
  {
   "cell_type": "markdown",
   "metadata": {},
   "source": [
    "### 141. Linked List Cycle\n",
    "Given a linked list, determine if it has a cycle in it.\n",
    "\n",
    "To represent a cycle in the given linked list, we use an integer pos which represents the position (0-indexed) in the linked list where tail connects to. If pos is -1, then there is no cycle in the linked list."
   ]
  },
  {
   "cell_type": "code",
   "execution_count": 55,
   "metadata": {
    "collapsed": true
   },
   "outputs": [],
   "source": [
    "class LinkNode:\n",
    "    def __init__(self,x):\n",
    "        self.val = x\n",
    "        self.next = None\n",
    "\n",
    "def has_cycle(head):\n",
    "    try:\n",
    "        slower = head \n",
    "        faster = head.next \n",
    "        while slower is not faster: #可以理解为，只要无环一定会报错，从而跳出循环， 只要有环while条件一定会终止，从而跳出循环。\n",
    "            slower = slower.next \n",
    "            faster = faster.next.next \n",
    "        return True \n",
    "    except:\n",
    "        return False "
   ]
  },
  {
   "cell_type": "code",
   "execution_count": 57,
   "metadata": {
    "scrolled": true
   },
   "outputs": [
    {
     "data": {
      "text/plain": [
       "False"
      ]
     },
     "execution_count": 57,
     "metadata": {},
     "output_type": "execute_result"
    }
   ],
   "source": [
    "l1 = LinkNode(1)\n",
    "has_cycle(l1)"
   ]
  },
  {
   "cell_type": "markdown",
   "metadata": {},
   "source": [
    "### 155. Min Stack\n",
    "Design a stack that supports push, pop, top, and retrieving the minimum element in constant time."
   ]
  },
  {
   "cell_type": "code",
   "execution_count": 61,
   "metadata": {
    "collapsed": true
   },
   "outputs": [],
   "source": [
    "class MinStack:\n",
    "    def __init__(self):\n",
    "        self.s = []\n",
    "    \n",
    "    def push(self,x):\n",
    "        if not self.s or x<self.s[-1][1]:\n",
    "            self.s.append((x,x))\n",
    "        else:\n",
    "            self.s.append((x,self.s[-1][1]))\n",
    "            \n",
    "    def pop(self):\n",
    "        return self.s.pop()\n",
    "    \n",
    "    def top(self):\n",
    "        return self.s[-1][0]\n",
    "    \n",
    "    def getMin(self):\n",
    "        return self.s[-1][1]\n",
    "    "
   ]
  },
  {
   "cell_type": "markdown",
   "metadata": {
    "collapsed": true
   },
   "source": [
    "### 160. Intersection of Two Linked Lists\n",
    "Write a program to find the node at which the intersection of two singly linked lists begins.\n",
    "\n",
    "找到两个单向链表的交点"
   ]
  },
  {
   "cell_type": "code",
   "execution_count": 62,
   "metadata": {
    "collapsed": true
   },
   "outputs": [],
   "source": [
    "class LinkNode:\n",
    "    def __init__(self,x):\n",
    "        self.val = x\n",
    "        self.next = None"
   ]
  },
  {
   "cell_type": "code",
   "execution_count": 69,
   "metadata": {
    "collapsed": true
   },
   "outputs": [],
   "source": [
    "def get_Intersection1(headA, headB):\n",
    "    \"\"\"\n",
    "    :type head1, head1: ListNode\n",
    "    :rtype: ListNode\n",
    "    \"\"\"\n",
    "    flag1 = flag2 =0  #找到最后一个节点，\n",
    "    A , B= headA , headB\n",
    "\n",
    "    while headA :\n",
    "        headA = headA.next\n",
    "        flag1 += 1 \n",
    "    while headB :\n",
    "        headB = headB.next\n",
    "        flag2 += 1 \n",
    "    if headA is not headB :\n",
    "        return null\n",
    "    if flag1> flag2:\n",
    "        i = 0\n",
    "        while i < abs(flag1-flag2):\n",
    "            A = A.next\n",
    "            i += 1 \n",
    "    else:\n",
    "        i = 0\n",
    "        while i < abs(flag2-flag1):\n",
    "            B = B.next\n",
    "            i += 1 \n",
    "    while A is not B :\n",
    "        A = A.next\n",
    "        B = B.next \n",
    "    return A"
   ]
  },
  {
   "cell_type": "code",
   "execution_count": 68,
   "metadata": {
    "collapsed": true
   },
   "outputs": [],
   "source": [
    "def get_intersection2(headA,headB):\n",
    "    if not headA or not headB :\n",
    "        return None    \n",
    "    A , B = headA , headB \n",
    "    while A is not  B:\n",
    "        A = A.next if A else headB #哪一个多走的在下一轮少走，\n",
    "        B = B.next if B else headA  \n",
    "    return A "
   ]
  },
  {
   "cell_type": "code",
   "execution_count": null,
   "metadata": {
    "collapsed": true
   },
   "outputs": [],
   "source": []
  },
  {
   "cell_type": "code",
   "execution_count": null,
   "metadata": {
    "collapsed": true
   },
   "outputs": [],
   "source": []
  }
 ],
 "metadata": {
  "kernelspec": {
   "display_name": "Python 3",
   "language": "python",
   "name": "python3"
  },
  "language_info": {
   "codemirror_mode": {
    "name": "ipython",
    "version": 3
   },
   "file_extension": ".py",
   "mimetype": "text/x-python",
   "name": "python",
   "nbconvert_exporter": "python",
   "pygments_lexer": "ipython3",
   "version": "3.6.8"
  }
 },
 "nbformat": 4,
 "nbformat_minor": 2
}
