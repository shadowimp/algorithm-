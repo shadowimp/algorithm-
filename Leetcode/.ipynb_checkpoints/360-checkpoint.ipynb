{
 "cells": [
  {
   "cell_type": "markdown",
   "metadata": {},
   "source": [
    "### 立方体表面积"
   ]
  },
  {
   "cell_type": "code",
   "execution_count": 11,
   "metadata": {},
   "outputs": [
    {
     "name": "stdout",
     "output_type": "stream",
     "text": [
      "2 1\n",
      "1 1\n"
     ]
    }
   ],
   "source": [
    "n = 2\n",
    "grids= []\n",
    "for row in range(n):\n",
    "    grids.append(list(map(int,input().split())))"
   ]
  },
  {
   "cell_type": "code",
   "execution_count": 12,
   "metadata": {},
   "outputs": [
    {
     "data": {
      "text/plain": [
       "[[2, 1], [1, 1]]"
      ]
     },
     "execution_count": 12,
     "metadata": {},
     "output_type": "execute_result"
    }
   ],
   "source": [
    "grids"
   ]
  },
  {
   "cell_type": "code",
   "execution_count": 1,
   "metadata": {},
   "outputs": [],
   "source": [
    "grid = [[ 2,1] ,[1,1]] "
   ]
  },
  {
   "cell_type": "code",
   "execution_count": 21,
   "metadata": {},
   "outputs": [],
   "source": [
    "def fun(grid):\n",
    "    N = len(grid)\n",
    "    M = len(grid[0])\n",
    "    \n",
    "    res = 0\n",
    "    for row in range(N):\n",
    "        for col in range(M):\n",
    "            if grid[row][col]:\n",
    "                res += 2\n",
    "                for i, j in ((row-1, col), (row+1, col), (row, col-1), (row,col+1)):\n",
    "                    if 0 <= i < N and 0 <= j < N:\n",
    "                        v = grid[i][j]\n",
    "                    else:\n",
    "                        v = 0\n",
    "                    res += max(grid[row][col] - v, 0)\n",
    "    return res"
   ]
  },
  {
   "cell_type": "code",
   "execution_count": 22,
   "metadata": {},
   "outputs": [
    {
     "data": {
      "text/plain": [
       "20"
      ]
     },
     "execution_count": 22,
     "metadata": {},
     "output_type": "execute_result"
    }
   ],
   "source": [
    "fun(grid)"
   ]
  },
  {
   "cell_type": "code",
   "execution_count": 18,
   "metadata": {},
   "outputs": [
    {
     "ename": "IndentationError",
     "evalue": "unindent does not match any outer indentation level (<tokenize>, line 4)",
     "output_type": "error",
     "traceback": [
      "\u001b[0;36m  File \u001b[0;32m\"<tokenize>\"\u001b[0;36m, line \u001b[0;32m4\u001b[0m\n\u001b[0;31m    for row in range(n):\u001b[0m\n\u001b[0m    ^\u001b[0m\n\u001b[0;31mIndentationError\u001b[0m\u001b[0;31m:\u001b[0m unindent does not match any outer indentation level\n"
     ]
    }
   ],
   "source": [
    "def fun(grids,n,m):\n",
    "\tres = 0 \n",
    "    \n",
    "    for row in range(n):\n",
    "    \tfor col in range(m):\n",
    "        \tif grid[row][col] :\n",
    "            \tres += 2\n",
    "                for i,j in (row-1,col), (row+1,col), (row,col-1), (row,col+1)):\n",
    "                \tif 0 <= i <n and  0<= j <m:\n",
    "                    \tv = grids[i][j]\n",
    "                    else:\n",
    "                    \tv = 0\n",
    "                \tres += max(grids[row][col]- v , 0 )"
   ]
  },
  {
   "cell_type": "code",
   "execution_count": null,
   "metadata": {},
   "outputs": [],
   "source": []
  }
 ],
 "metadata": {
  "kernelspec": {
   "display_name": "Python 3",
   "language": "python",
   "name": "python3"
  },
  "language_info": {
   "codemirror_mode": {
    "name": "ipython",
    "version": 3
   },
   "file_extension": ".py",
   "mimetype": "text/x-python",
   "name": "python",
   "nbconvert_exporter": "python",
   "pygments_lexer": "ipython3",
   "version": "3.7.3"
  }
 },
 "nbformat": 4,
 "nbformat_minor": 2
}
