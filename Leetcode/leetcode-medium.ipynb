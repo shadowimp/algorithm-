{
 "cells": [
  {
   "cell_type": "markdown",
   "metadata": {
    "collapsed": true
   },
   "source": [
    "### 15. 3Sum \n",
    "Given an array nums of n integers, are there elements a, b, c in nums such that a + b + c = 0? Find all unique triplets in the array which gives the sum of zero.\n",
    "\n",
    "The solution set must not contain duplicate triplets.\n",
    "\n",
    "a,b,c三个数之和为0，不包含重复数组。\n",
    "\n",
    "Given array nums = [-1, 0, 1, 2, -1, -4],\n",
    "\n",
    "A solution set is:\n",
    "[\n",
    "  [-1, 0, 1],\n",
    "  [-1, -1, 2]\n",
    "]"
   ]
  },
  {
   "cell_type": "code",
   "execution_count": 1,
   "metadata": {},
   "outputs": [],
   "source": [
    "def threesum(nums):\n",
    "    if len(nums) < 3:\n",
    "        return []\n",
    "    nums.sort()\n",
    "    result = []\n",
    "    i = 0 \n",
    "    for a in nums:\n",
    "        i = i+1 \n",
    "        nums_dict = {}\n",
    "        for b in nums[i:] :\n",
    "            if b not in nums_dict:\n",
    "                nums_dict[-a-b] = 1 \n",
    "            else:\n",
    "                result.append([a,b,-a-b])\n",
    "    result = set(map(tuple , result))\n",
    "    return list(result) "
   ]
  },
  {
   "cell_type": "code",
   "execution_count": 2,
   "metadata": {},
   "outputs": [
    {
     "data": {
      "text/plain": [
       "[(-1, 1, 0), (-1, 2, -1)]"
      ]
     },
     "execution_count": 2,
     "metadata": {},
     "output_type": "execute_result"
    }
   ],
   "source": [
    "nums = [-1, 0, 1, 2, -1, -4]\n",
    "threesum(nums)"
   ]
  },
  {
   "cell_type": "markdown",
   "metadata": {
    "collapsed": true
   },
   "source": [
    "### 50. Pow(x, n)\n",
    "```\n",
    "Input: 2.00000, 10\n",
    "Output: 1024.00000\n",
    "\n",
    "Input: 2.00000, -2\n",
    "Output: 0.25000\n",
    "\n",
    "```\n"
   ]
  },
  {
   "cell_type": "markdown",
   "metadata": {},
   "source": [
    "分治思想求指数 ，T(n) = logn"
   ]
  },
  {
   "cell_type": "code",
   "execution_count": 20,
   "metadata": {
    "collapsed": true
   },
   "outputs": [],
   "source": [
    "def pow(x,n):\n",
    "    if n == 0 :\n",
    "        return 1\n",
    "    if n == 1 :\n",
    "        return x \n",
    "    if n < 1 :\n",
    "        return 1 / pow(x,-n)\n",
    "    if n % 2 == 0:\n",
    "        return pow(x*x,n/2)\n",
    "    else:\n",
    "        return x * pow(x , n-1 )"
   ]
  },
  {
   "cell_type": "code",
   "execution_count": 22,
   "metadata": {},
   "outputs": [
    {
     "data": {
      "text/plain": [
       "512"
      ]
     },
     "execution_count": 22,
     "metadata": {},
     "output_type": "execute_result"
    }
   ],
   "source": [
    "pow(2,9)"
   ]
  },
  {
   "cell_type": "code",
   "execution_count": null,
   "metadata": {
    "collapsed": true
   },
   "outputs": [],
   "source": []
  }
 ],
 "metadata": {
  "kernelspec": {
   "display_name": "Python 3",
   "language": "python",
   "name": "python3"
  },
  "language_info": {
   "codemirror_mode": {
    "name": "ipython",
    "version": 3
   },
   "file_extension": ".py",
   "mimetype": "text/x-python",
   "name": "python",
   "nbconvert_exporter": "python",
   "pygments_lexer": "ipython3",
   "version": "3.7.3"
  }
 },
 "nbformat": 4,
 "nbformat_minor": 2
}
