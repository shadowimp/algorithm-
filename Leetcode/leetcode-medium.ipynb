{
 "cells": [
  {
   "cell_type": "code",
   "execution_count": null,
   "metadata": {},
   "outputs": [],
   "source": []
  },
  {
   "cell_type": "markdown",
   "metadata": {},
   "source": [
    "### 5 LPS"
   ]
  },
  {
   "cell_type": "code",
   "execution_count": 3,
   "metadata": {},
   "outputs": [
    {
     "name": "stdout",
     "output_type": "stream",
     "text": [
      "bab\n",
      "bb\n"
     ]
    }
   ],
   "source": [
    "# 中间扩散法 ，遍历每个元素， 每个元素都从中间向两遍走\n",
    "def longestPalindrome(s):\n",
    "    res = \"\" #初值，相当于max_sum = 0 \n",
    "    for i in range(len(s)):        \n",
    "        odd  = palindromeAt(s, i, i) # abcba \n",
    "        even = palindromeAt(s, i, i+1) # baccab\n",
    "        res = max(res, odd, even, key=len) #以长度作为key比较\n",
    "    return res\n",
    " \n",
    "# starting at l,r expand outwards to find the biggest palindrome\n",
    "def palindromeAt( s, left, right):    \n",
    "    while left >= 0 and right < len(s) and s[left] == s[right]:  \n",
    "        #如果中间是两个数，第一次就要判断 , 两个如果不等，就return s[i:i] 为空字符\n",
    "        left -= 1\n",
    "        right += 1\n",
    "    return s[left+1:right]\n",
    "\n",
    "print(longestPalindrome(\"babad\"))\n",
    "print(longestPalindrome(\"cbbd\"))"
   ]
  },
  {
   "cell_type": "markdown",
   "metadata": {
    "collapsed": true
   },
   "source": [
    "### 15. 3Sum \n",
    "Given an array nums of n integers, are there elements a, b, c in nums such that a + b + c = 0? Find all unique triplets in the array which gives the sum of zero.\n",
    "\n",
    "The solution set must not contain duplicate triplets.\n",
    "\n",
    "a,b,c三个数之和为0，不包含重复数组。\n",
    "\n",
    "Given array nums = [-1, 0, 1, 2, -1, -4],\n",
    "\n",
    "A solution set is:\n",
    "[\n",
    "  [-1, 0, 1],\n",
    "  [-1, -1, 2]\n",
    "]"
   ]
  },
  {
   "cell_type": "code",
   "execution_count": 1,
   "metadata": {},
   "outputs": [],
   "source": [
    "def threesum(nums):\n",
    "    if len(nums) < 3:\n",
    "        return []\n",
    "    nums.sort()\n",
    "    result = []\n",
    "    i = 0 \n",
    "    for a in nums:\n",
    "        i = i+1 \n",
    "        nums_dict = {}\n",
    "        for b in nums[i:] :\n",
    "            if b not in nums_dict:\n",
    "                nums_dict[-a-b] = 1 \n",
    "            else:\n",
    "                result.append([a,b,-a-b])\n",
    "    result = set(map(tuple , result))\n",
    "    return list(result) "
   ]
  },
  {
   "cell_type": "code",
   "execution_count": 2,
   "metadata": {},
   "outputs": [
    {
     "data": {
      "text/plain": [
       "[(-1, 1, 0), (-1, 2, -1)]"
      ]
     },
     "execution_count": 2,
     "metadata": {},
     "output_type": "execute_result"
    }
   ],
   "source": [
    "nums = [-1, 0, 1, 2, -1, -4]\n",
    "threesum(nums)"
   ]
  },
  {
   "cell_type": "markdown",
   "metadata": {
    "collapsed": true
   },
   "source": [
    "### 50. Pow(x, n)\n",
    "```\n",
    "Input: 2.00000, 10\n",
    "Output: 1024.00000\n",
    "\n",
    "Input: 2.00000, -2\n",
    "Output: 0.25000\n",
    "\n",
    "```\n"
   ]
  },
  {
   "cell_type": "markdown",
   "metadata": {},
   "source": [
    "分治思想求指数 ，T(n) = logn"
   ]
  },
  {
   "cell_type": "code",
   "execution_count": 20,
   "metadata": {
    "collapsed": true
   },
   "outputs": [],
   "source": [
    "def pow(x,n):\n",
    "    if n == 0 :\n",
    "        return 1\n",
    "    if n == 1 :\n",
    "        return x \n",
    "    if n < 1 :\n",
    "        return 1 / pow(x,-n)\n",
    "    if n % 2 == 0:\n",
    "        return pow(x*x,n/2)\n",
    "    else:\n",
    "        return x * pow(x , n-1 )"
   ]
  },
  {
   "cell_type": "code",
   "execution_count": 22,
   "metadata": {
    "scrolled": true
   },
   "outputs": [
    {
     "data": {
      "text/plain": [
       "512"
      ]
     },
     "execution_count": 22,
     "metadata": {},
     "output_type": "execute_result"
    }
   ],
   "source": [
    "pow(2,9)"
   ]
  },
  {
   "cell_type": "markdown",
   "metadata": {},
   "source": [
    "### 54 螺旋矩阵"
   ]
  },
  {
   "cell_type": "code",
   "execution_count": 16,
   "metadata": {},
   "outputs": [],
   "source": [
    "def spiralOrder( matrix):\n",
    "    \"\"\"\n",
    "    :type matrix: List[List[int]]\n",
    "    :rtype: List[int]\n",
    "    \"\"\"\n",
    "    # 取首行，去除首行后，对矩阵翻转来创建新的矩阵，\n",
    "    # 再递归直到新矩阵为[],退出并将取到的数据返回\n",
    "    ret = []\n",
    "    if matrix == []:\n",
    "        return ret\n",
    "    ret.extend(matrix[0]) # 上侧\n",
    "    new = [reversed(i) for i in matrix[1:]]\n",
    "    if new == []:\n",
    "        return ret\n",
    "    r = spiralOrder([i for i in zip(*new)])\n",
    "    ret.extend(r)\n",
    "    return ret"
   ]
  },
  {
   "cell_type": "code",
   "execution_count": 17,
   "metadata": {},
   "outputs": [
    {
     "data": {
      "text/plain": [
       "[1, 2, 3, 6, 9, 8, 7, 4, 5]"
      ]
     },
     "execution_count": 17,
     "metadata": {},
     "output_type": "execute_result"
    }
   ],
   "source": [
    "m= [[1,2,3],[4,5,6],[7,8,9]]\n",
    "spiralOrder(m)"
   ]
  },
  {
   "cell_type": "markdown",
   "metadata": {},
   "source": [
    "### 152. Maximum Product Subarray\n",
    "连续子串乘积最大,有正数也有负数"
   ]
  },
  {
   "cell_type": "code",
   "execution_count": 8,
   "metadata": {},
   "outputs": [],
   "source": [
    "def max_product_subarray(nums):\n",
    "    cur_max , cur_min , res = nums[0] , nums[0] ,nums[0]\n",
    "    for num in nums[1:]:\n",
    "        cur_max = cur_max*num\n",
    "        cur_min = cur_min*num\n",
    "        temp = cur_max\n",
    "        cur_max = max(cur_max , cur_min, num)\n",
    "        cur_min = min(temp , cur_min, num)\n",
    "        res = max(res , cur_max)\n",
    "    return res"
   ]
  },
  {
   "cell_type": "code",
   "execution_count": 9,
   "metadata": {},
   "outputs": [
    {
     "data": {
      "text/plain": [
       "108"
      ]
     },
     "execution_count": 9,
     "metadata": {},
     "output_type": "execute_result"
    }
   ],
   "source": [
    "nums = [-1, -2 ,-9 , -6]\n",
    "max_product_subarray(nums)"
   ]
  },
  {
   "cell_type": "markdown",
   "metadata": {
    "collapsed": true
   },
   "source": [
    "### 347. 前 K 个高频元素"
   ]
  },
  {
   "cell_type": "code",
   "execution_count": null,
   "metadata": {},
   "outputs": [],
   "source": []
  },
  {
   "cell_type": "code",
   "execution_count": null,
   "metadata": {},
   "outputs": [],
   "source": []
  }
 ],
 "metadata": {
  "kernelspec": {
   "display_name": "Python 3",
   "language": "python",
   "name": "python3"
  },
  "language_info": {
   "codemirror_mode": {
    "name": "ipython",
    "version": 3
   },
   "file_extension": ".py",
   "mimetype": "text/x-python",
   "name": "python",
   "nbconvert_exporter": "python",
   "pygments_lexer": "ipython3",
   "version": "3.7.3"
  }
 },
 "nbformat": 4,
 "nbformat_minor": 2
}
