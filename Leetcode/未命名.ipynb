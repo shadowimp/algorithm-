{
 "cells": [
  {
   "cell_type": "code",
   "execution_count": 83,
   "metadata": {},
   "outputs": [],
   "source": [
    "nums = 'zai lai yi bian'.split()"
   ]
  },
  {
   "cell_type": "code",
   "execution_count": 84,
   "metadata": {},
   "outputs": [
    {
     "data": {
      "text/plain": [
       "['zai', 'lai', 'yi', 'bian']"
      ]
     },
     "execution_count": 84,
     "metadata": {},
     "output_type": "execute_result"
    }
   ],
   "source": [
    "nums"
   ]
  },
  {
   "cell_type": "code",
   "execution_count": 85,
   "metadata": {},
   "outputs": [
    {
     "name": "stdout",
     "output_type": "stream",
     "text": [
      "iaz\n",
      "ial\n"
     ]
    }
   ],
   "source": [
    "new = ''\n",
    "for num in nums:\n",
    "\n",
    "    if len(num)%2 ==1 :\n",
    "        new_num = num[::-1]\n",
    "        print(new_num)\n",
    "        new = new+ \" \"+ new_num\n",
    "    else:\n",
    "        new = new+ \" \" + num\n",
    "        "
   ]
  },
  {
   "cell_type": "code",
   "execution_count": 86,
   "metadata": {},
   "outputs": [
    {
     "data": {
      "text/plain": [
       "'iaz ial yi bian'"
      ]
     },
     "execution_count": 86,
     "metadata": {},
     "output_type": "execute_result"
    }
   ],
   "source": [
    "new.strip()"
   ]
  },
  {
   "cell_type": "code",
   "execution_count": null,
   "metadata": {},
   "outputs": [],
   "source": []
  },
  {
   "cell_type": "code",
   "execution_count": 88,
   "metadata": {},
   "outputs": [
    {
     "ename": "SyntaxError",
     "evalue": "invalid syntax (<ipython-input-88-9c2ed44f5c41>, line 15)",
     "output_type": "error",
     "traceback": [
      "\u001b[0;36m  File \u001b[0;32m\"<ipython-input-88-9c2ed44f5c41>\"\u001b[0;36m, line \u001b[0;32m15\u001b[0m\n\u001b[0;31m    if(i>1 and int(s[i-1] <=6 and int(s[i-2]) ==2) or(i>1 and int(s[i2])==1):\u001b[0m\n\u001b[0m                                                                            ^\u001b[0m\n\u001b[0;31mSyntaxError\u001b[0m\u001b[0;31m:\u001b[0m invalid syntax\n"
     ]
    }
   ],
   "source": [
    "def fun(s):\n",
    "    s = s.lstrip('0')\n",
    "    l = len(s)\n",
    "    if l== 0:\n",
    "        return 0 \n",
    "    li = list(range(l+1))\n",
    "    li[0] =1 \n",
    "    for i in range(l+1):\n",
    "        if i == 0 :\n",
    "            continue\n",
    "        if s[i-1] == '0':\n",
    "            li[i] = 1\n",
    "        else:\n",
    "            l[i] = li[i-1]\n",
    "    if(i>1 and int(s[i-1] <=6 and int(s[i-2]) ==2) or\\\n",
    "       (i>1 and int(s[i2])==1):\n",
    "                    li += li[i-2]\n",
    "        return li[l]"
   ]
  },
  {
   "cell_type": "code",
   "execution_count": 81,
   "metadata": {},
   "outputs": [],
   "source": [
    "def fun(s):\n",
    "    if len(s) ==0 :return 1\n",
    "    r= 0 \n",
    "    r+= fun(s[1:])\n",
    "    if len(s) >1 and int(s[:2])<=26:r+=fun(s[2:])\n",
    "    return r\n"
   ]
  },
  {
   "cell_type": "code",
   "execution_count": 82,
   "metadata": {},
   "outputs": [
    {
     "data": {
      "text/plain": [
       "3"
      ]
     },
     "execution_count": 82,
     "metadata": {},
     "output_type": "execute_result"
    }
   ],
   "source": [
    "fun('111')"
   ]
  },
  {
   "cell_type": "code",
   "execution_count": 100,
   "metadata": {},
   "outputs": [],
   "source": [
    "def fun(s):\n",
    "    length = len(s)\n",
    "    if not s or s[0] == '0':\n",
    "        return 0 \n",
    "    dp = [0]*(length+1)\n",
    "    dp[0] = 1\n",
    "    dp[1] = 1\n",
    "    for i in range(2,length+1):\n",
    "        if int(s[i-1]) >=1 and int(s[i-1])<=9:\n",
    "            dp[i] += dp[i-1]\n",
    "        if int(s[i-2]) ==1 or (int(s[i-2])==2 and int(s[i-1])>=0 and\\\n",
    "                               int(s[i-1])<=6):\n",
    "            dp[i] += dp[i-2]\n",
    "    return dp[length]"
   ]
  },
  {
   "cell_type": "code",
   "execution_count": 101,
   "metadata": {},
   "outputs": [
    {
     "data": {
      "text/plain": [
       "3"
      ]
     },
     "execution_count": 101,
     "metadata": {},
     "output_type": "execute_result"
    }
   ],
   "source": [
    "fun('111')"
   ]
  },
  {
   "cell_type": "code",
   "execution_count": 92,
   "metadata": {},
   "outputs": [
    {
     "ename": "NameError",
     "evalue": "name 'h' is not defined",
     "output_type": "error",
     "traceback": [
      "\u001b[0;31m---------------------------------------------------------------------------\u001b[0m",
      "\u001b[0;31mNameError\u001b[0m                                 Traceback (most recent call last)",
      "\u001b[0;32m<ipython-input-92-e3d7bf85a771>\u001b[0m in \u001b[0;36m<module>\u001b[0;34m\u001b[0m\n\u001b[1;32m      1\u001b[0m \u001b[0mf_map\u001b[0m \u001b[0;34m=\u001b[0m \u001b[0;34m[\u001b[0m\u001b[0;34m]\u001b[0m\u001b[0;34m\u001b[0m\u001b[0;34m\u001b[0m\u001b[0m\n\u001b[0;32m----> 2\u001b[0;31m \u001b[0;32mfor\u001b[0m \u001b[0mi\u001b[0m \u001b[0;32min\u001b[0m \u001b[0mrange\u001b[0m\u001b[0;34m(\u001b[0m\u001b[0mh\u001b[0m\u001b[0;34m-\u001b[0m\u001b[0mk_size\u001b[0m\u001b[0;34m+\u001b[0m\u001b[0;36m1\u001b[0m\u001b[0;34m)\u001b[0m\u001b[0;34m:\u001b[0m\u001b[0;34m\u001b[0m\u001b[0;34m\u001b[0m\u001b[0m\n\u001b[0m\u001b[1;32m      3\u001b[0m     \u001b[0mf\u001b[0m \u001b[0;34m=\u001b[0m \u001b[0;34m[\u001b[0m\u001b[0;34m]\u001b[0m\u001b[0;34m\u001b[0m\u001b[0;34m\u001b[0m\u001b[0m\n\u001b[1;32m      4\u001b[0m     \u001b[0;32mfor\u001b[0m \u001b[0mj\u001b[0m \u001b[0;32min\u001b[0m \u001b[0mrange\u001b[0m\u001b[0;34m(\u001b[0m\u001b[0mw\u001b[0m\u001b[0;34m-\u001b[0m\u001b[0mk_size\u001b[0m\u001b[0;34m+\u001b[0m\u001b[0;36m1\u001b[0m\u001b[0;34m)\u001b[0m\u001b[0;34m:\u001b[0m\u001b[0;34m\u001b[0m\u001b[0;34m\u001b[0m\u001b[0m\n\u001b[1;32m      5\u001b[0m         \u001b[0mv\u001b[0m \u001b[0;34m=\u001b[0m \u001b[0;36m0\u001b[0m\u001b[0;34m\u001b[0m\u001b[0;34m\u001b[0m\u001b[0m\n",
      "\u001b[0;31mNameError\u001b[0m: name 'h' is not defined"
     ]
    }
   ],
   "source": [
    "f_map = []\n",
    "for i in range(h-k_size+1):\n",
    "    f = []\n",
    "    for j in range(w-k_size+1):\n",
    "        v = 0 \n",
    "        for z in range(k_size):\n",
    "            for c in range(k_size):\n",
    "                v += img[i+z][j+c] * k[z][c]\n",
    "        f.append(min(int(v),255))\n",
    "    f_map.append(f)"
   ]
  },
  {
   "cell_type": "code",
   "execution_count": null,
   "metadata": {},
   "outputs": [],
   "source": [
    "f_map = []\n",
    "for i in range(h-k_size+1):\n",
    "    f = []\n",
    "    for j in range(w-k_size+1):\n",
    "        v = 0 \n",
    "        for z in range(k_size):\n",
    "            for c in range(k_size):\n",
    "                v += img[i+z][j+c] * k[z][c]\n",
    "        f.append(min(int(v),255))\n",
    "    f_map.append(f)"
   ]
  },
  {
   "cell_type": "code",
   "execution_count": null,
   "metadata": {},
   "outputs": [],
   "source": [
    "h , w = 3,3\n",
    "\n",
    "[40 24 135] \n",
    "[200 239 238]\n",
    "[90 34 94]\n",
    "2\n",
    "0.0 0.6\n",
    "0.1 0.3"
   ]
  },
  {
   "cell_type": "code",
   "execution_count": 103,
   "metadata": {},
   "outputs": [
    {
     "name": "stdout",
     "output_type": "stream",
     "text": [
      "3 3\n",
      "40 24 135\n",
      "200 239 238\n",
      "90 34 94\n",
      "2\n",
      "0.0 0.6\n",
      "0.1 0.3\n"
     ]
    }
   ],
   "source": [
    "h,w = map(int,input().split())\n",
    "img = []\n",
    "for i in range(h):\n",
    "    im = list(map(int, input().split()))\n",
    "    img.append(im)\n",
    "k_size = int(input())\n",
    "k =[]\n",
    "for i in range(k_size):\n",
    "    k = list(map(float,input().split()))"
   ]
  },
  {
   "cell_type": "code",
   "execution_count": 104,
   "metadata": {},
   "outputs": [
    {
     "data": {
      "text/plain": [
       "(3, 3)"
      ]
     },
     "execution_count": 104,
     "metadata": {},
     "output_type": "execute_result"
    }
   ],
   "source": [
    "h,w"
   ]
  },
  {
   "cell_type": "code",
   "execution_count": 105,
   "metadata": {},
   "outputs": [
    {
     "data": {
      "text/plain": [
       "[[40, 24, 135], [200, 239, 238], [90, 34, 94]]"
      ]
     },
     "execution_count": 105,
     "metadata": {},
     "output_type": "execute_result"
    }
   ],
   "source": [
    "img"
   ]
  },
  {
   "cell_type": "code",
   "execution_count": 106,
   "metadata": {},
   "outputs": [
    {
     "data": {
      "text/plain": [
       "2"
      ]
     },
     "execution_count": 106,
     "metadata": {},
     "output_type": "execute_result"
    }
   ],
   "source": [
    "k_size"
   ]
  },
  {
   "cell_type": "code",
   "execution_count": 107,
   "metadata": {},
   "outputs": [
    {
     "data": {
      "text/plain": [
       "[0.1, 0.3]"
      ]
     },
     "execution_count": 107,
     "metadata": {},
     "output_type": "execute_result"
    }
   ],
   "source": [
    "k"
   ]
  },
  {
   "cell_type": "code",
   "execution_count": 102,
   "metadata": {},
   "outputs": [],
   "source": [
    "def fun(h,w, img,m , k):\n",
    "    if not img or not k or h<m or w<m:\n",
    "        return 0\n",
    "    row = h-m+1\n",
    "    col = w-m+1\n",
    "    res = [[0 for i in range(col)]for j in range(col)]\n",
    "    for i in range(row):\n",
    "        for j in range(col):\n",
    "            temp =0 \n",
    "            for x in range(m):\n",
    "                for y in range(m):\n",
    "                    temp = temp + img[i+x][j+y]*k[x][y]\n",
    "                res[i][j] = min(int(temp),255)\n",
    "    return row, col,res "
   ]
  },
  {
   "cell_type": "code",
   "execution_count": null,
   "metadata": {},
   "outputs": [],
   "source": [
    "for i in range(row):\n",
    "    s=''\n",
    "    for j in range(col):\n",
    "        s += str(res[i][j]) + str('')\n",
    "    print(s.strip())"
   ]
  }
 ],
 "metadata": {
  "kernelspec": {
   "display_name": "Python 3",
   "language": "python",
   "name": "python3"
  },
  "language_info": {
   "codemirror_mode": {
    "name": "ipython",
    "version": 3
   },
   "file_extension": ".py",
   "mimetype": "text/x-python",
   "name": "python",
   "nbconvert_exporter": "python",
   "pygments_lexer": "ipython3",
   "version": "3.7.3"
  }
 },
 "nbformat": 4,
 "nbformat_minor": 2
}
