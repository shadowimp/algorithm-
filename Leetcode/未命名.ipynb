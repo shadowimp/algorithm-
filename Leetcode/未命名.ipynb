{
 "cells": [
  {
   "cell_type": "code",
   "execution_count": 1,
   "metadata": {},
   "outputs": [],
   "source": [
    "from itertools import combinations"
   ]
  },
  {
   "cell_type": "code",
   "execution_count": 32,
   "metadata": {},
   "outputs": [],
   "source": [
    "l = combinations([1,2,3,4],3)\n"
   ]
  },
  {
   "cell_type": "code",
   "execution_count": 33,
   "metadata": {},
   "outputs": [
    {
     "name": "stdout",
     "output_type": "stream",
     "text": [
      "6\n",
      "7\n",
      "8\n",
      "9\n"
     ]
    }
   ],
   "source": [
    "for i in l :\n",
    "    print(sum(i))"
   ]
  },
  {
   "cell_type": "code",
   "execution_count": 4,
   "metadata": {},
   "outputs": [],
   "source": [
    "import numpy as np "
   ]
  },
  {
   "cell_type": "code",
   "execution_count": 5,
   "metadata": {},
   "outputs": [],
   "source": [
    "def variance(nums):\n",
    "    return np.var(nums)"
   ]
  },
  {
   "cell_type": "code",
   "execution_count": 14,
   "metadata": {},
   "outputs": [
    {
     "data": {
      "text/plain": [
       "0.6666666666666666"
      ]
     },
     "execution_count": 14,
     "metadata": {},
     "output_type": "execute_result"
    }
   ],
   "source": [
    "b = variance(l[0])\n",
    "b"
   ]
  },
  {
   "cell_type": "code",
   "execution_count": 15,
   "metadata": {},
   "outputs": [
    {
     "name": "stdout",
     "output_type": "stream",
     "text": [
      "0.67\n"
     ]
    }
   ],
   "source": [
    "print ('%.2f' %b) "
   ]
  },
  {
   "cell_type": "code",
   "execution_count": null,
   "metadata": {},
   "outputs": [],
   "source": [
    "for c in a :\n",
    "    min_var = min( min_var , variance(c))"
   ]
  },
  {
   "cell_type": "code",
   "execution_count": 24,
   "metadata": {},
   "outputs": [],
   "source": [
    "nums =[10, 17 ,17 ,3]"
   ]
  },
  {
   "cell_type": "code",
   "execution_count": 26,
   "metadata": {},
   "outputs": [
    {
     "name": "stdout",
     "output_type": "stream",
     "text": [
      "0.50\n"
     ]
    }
   ],
   "source": [
    "import statistics \n",
    "a = list(combinations(nums,3)) \n",
    "\n",
    "def variance(nums):\n",
    "    return statistics.stdev([1,2])**2\n",
    "\n",
    "min_var = variance(a[0])\n",
    "for c in a :\n",
    "    min_var = min( min_var , variance(c))\n",
    "    \n",
    "print ('%.2f' %min_var) "
   ]
  },
  {
   "cell_type": "code",
   "execution_count": null,
   "metadata": {},
   "outputs": [],
   "source": [
    "def variance(nums):\n",
    "    v = map(lambad )\n",
    "    return map"
   ]
  },
  {
   "cell_type": "code",
   "execution_count": 18,
   "metadata": {},
   "outputs": [],
   "source": []
  },
  {
   "cell_type": "code",
   "execution_count": 19,
   "metadata": {},
   "outputs": [
    {
     "data": {
      "text/plain": [
       "0.7071067811865476"
      ]
     },
     "execution_count": 19,
     "metadata": {},
     "output_type": "execute_result"
    }
   ],
   "source": [
    "statistics.stdev([1,2])"
   ]
  },
  {
   "cell_type": "code",
   "execution_count": 38,
   "metadata": {},
   "outputs": [
    {
     "name": "stdout",
     "output_type": "stream",
     "text": [
      "4\n"
     ]
    }
   ],
   "source": [
    "s= 10\n",
    "n =3\n",
    "nums = [i for i in range(1, s+1)]\n",
    "\n",
    "l = combinations(nums,n)\n",
    "\n",
    "res = 0\n",
    "for c in l :\n",
    "    if sum(c) == s:\n",
    "        res += 1\n",
    "        \n",
    "print(res)"
   ]
  },
  {
   "cell_type": "code",
   "execution_count": 66,
   "metadata": {},
   "outputs": [],
   "source": [
    "l =10\n",
    "n = 5\n",
    "nums = [1,3,5,7,9]\n",
    "m = []\n",
    "for num in nums:\n",
    "    if num<l //2:\n",
    "        m.append(num)\n",
    "    else:\n",
    "        m.append(-(l-num))"
   ]
  },
  {
   "cell_type": "code",
   "execution_count": 67,
   "metadata": {},
   "outputs": [],
   "source": [
    "m =sorted(m)\n",
    "p = m[n//2]"
   ]
  },
  {
   "cell_type": "code",
   "execution_count": 68,
   "metadata": {},
   "outputs": [
    {
     "name": "stdout",
     "output_type": "stream",
     "text": [
      "6\n"
     ]
    }
   ],
   "source": [
    "left, right = 0, 0\n",
    "for i in range(n//2):\n",
    "    left += p - m[i] -1 - i\n",
    "for i in range(n//2+ 1 ,n):\n",
    "    right += m[i] - p -1 - (i- n//2 -1)\n",
    "\n",
    "print(left + right)"
   ]
  },
  {
   "cell_type": "code",
   "execution_count": 73,
   "metadata": {},
   "outputs": [
    {
     "name": "stdout",
     "output_type": "stream",
     "text": [
      "6\n"
     ]
    }
   ],
   "source": [
    "l =10\n",
    "n = 5\n",
    "nums = [1,3,5,7,9]\n",
    "m = []\n",
    "for num in nums:\n",
    "    if num<l //2:\n",
    "        m.append(num)\n",
    "    else:\n",
    "        m.append(-(l-num))\n",
    "        \n",
    "m =sorted(m)\n",
    "p = m[n//2]\n",
    "\n",
    "left, right = 0, 0\n",
    "for i in range(n//2):\n",
    "    left += p - m[i] -1 - i\n",
    "for i in range(n//2+ 1 ,n):\n",
    "    right += m[i] - p -1 - (i- n//2 -1)\n",
    "\n",
    "print(left + right)"
   ]
  },
  {
   "cell_type": "code",
   "execution_count": null,
   "metadata": {},
   "outputs": [],
   "source": []
  }
 ],
 "metadata": {
  "kernelspec": {
   "display_name": "Python 3",
   "language": "python",
   "name": "python3"
  },
  "language_info": {
   "codemirror_mode": {
    "name": "ipython",
    "version": 3
   },
   "file_extension": ".py",
   "mimetype": "text/x-python",
   "name": "python",
   "nbconvert_exporter": "python",
   "pygments_lexer": "ipython3",
   "version": "3.7.3"
  }
 },
 "nbformat": 4,
 "nbformat_minor": 2
}
