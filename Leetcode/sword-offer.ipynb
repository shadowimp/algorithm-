{
 "cells": [
  {
   "cell_type": "markdown",
   "metadata": {},
   "source": [
    "### 使数组的奇数在前，偶数在后。"
   ]
  },
  {
   "cell_type": "code",
   "execution_count": 20,
   "metadata": {
    "collapsed": true
   },
   "outputs": [],
   "source": [
    "def odd_even(nums):\n",
    "    i , j = 0 , len(nums)-1\n",
    "    while i < j : \n",
    "        if nums[i] % 2 == 0 and nums[j] % 2 == 1:\n",
    "            nums[i] , nums[j] = nums[j] , nums[i]\n",
    "            i = i + 1 \n",
    "            j = j - 1 \n",
    "        elif nums[i] % 2 == 0 :\n",
    "            j = j - 1 \n",
    "        elif nums[j] % 2 == 1 :\n",
    "            i = i+1 \n",
    "        else:\n",
    "            i = i+1\n",
    "            j = j -1 \n",
    "    \n",
    "    return nums "
   ]
  },
  {
   "cell_type": "code",
   "execution_count": 21,
   "metadata": {},
   "outputs": [
    {
     "name": "stdout",
     "output_type": "stream",
     "text": [
      "[3, 3, 1, 5, 7, 4, 2, 4, 8, 2, 4, 6]\n"
     ]
    }
   ],
   "source": [
    "A = [4,3,1,2,4,7,5,3,8,2,4,6]\n",
    "print(odd_even(A))"
   ]
  },
  {
   "cell_type": "markdown",
   "metadata": {},
   "source": [
    "### 统计一个数组中各个元素的个数。\n",
    "- 输入： 一个数组\n",
    "- 输出： 一个字典"
   ]
  },
  {
   "cell_type": "code",
   "execution_count": 6,
   "metadata": {
    "collapsed": true
   },
   "outputs": [],
   "source": [
    "def get_counts(nums):\n",
    "    nums_dict = {}  #创建一个空字典用来存放数组中的元素及其个数。\n",
    "    for num in nums:\n",
    "        if num not in nums_dict:\n",
    "            nums_dict[num] = 1\n",
    "        else :   #遍历字典的key，看其中是否有x元素，如果有给x对应的value加一。否则创建一个value值为一。\n",
    "            nums_dict[num] += 1  \n",
    "    return nums_dict"
   ]
  },
  {
   "cell_type": "code",
   "execution_count": 7,
   "metadata": {},
   "outputs": [
    {
     "name": "stdout",
     "output_type": "stream",
     "text": [
      "{4: 2, 3: 1, 2: 1, 5: 2, 56: 1}\n"
     ]
    }
   ],
   "source": [
    "nums = [4,4,3,2,5,56,5]\n",
    "print(get_counts(nums))"
   ]
  },
  {
   "cell_type": "code",
   "execution_count": null,
   "metadata": {
    "collapsed": true
   },
   "outputs": [],
   "source": []
  }
 ],
 "metadata": {
  "kernelspec": {
   "display_name": "Python 3",
   "language": "python",
   "name": "python3"
  },
  "language_info": {
   "codemirror_mode": {
    "name": "ipython",
    "version": 3
   },
   "file_extension": ".py",
   "mimetype": "text/x-python",
   "name": "python",
   "nbconvert_exporter": "python",
   "pygments_lexer": "ipython3",
   "version": "3.6.8"
  }
 },
 "nbformat": 4,
 "nbformat_minor": 2
}
