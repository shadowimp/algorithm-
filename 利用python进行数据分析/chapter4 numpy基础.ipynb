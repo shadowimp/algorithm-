{
 "cells": [
  {
   "cell_type": "markdown",
   "metadata": {},
   "source": [
    "### numpy基础数据类型"
   ]
  },
  {
   "cell_type": "code",
   "execution_count": 1,
   "metadata": {},
   "outputs": [
    {
     "data": {
      "text/plain": [
       "array([ 0,  1,  2,  3,  4,  5,  6,  7,  8,  9, 10, 11])"
      ]
     },
     "execution_count": 1,
     "metadata": {},
     "output_type": "execute_result"
    }
   ],
   "source": [
    "import numpy as np \n",
    "np.arange(12)"
   ]
  },
  {
   "cell_type": "code",
   "execution_count": 65,
   "metadata": {
    "scrolled": true
   },
   "outputs": [
    {
     "name": "stdout",
     "output_type": "stream",
     "text": [
      "<class 'numpy.ndarray'> , int64\n",
      "2\n"
     ]
    },
    {
     "data": {
      "text/plain": [
       "array([['0', '1', '2', '3'],\n",
       "       ['4', '5', '6', '7'],\n",
       "       ['8', '9', '1', '1']],\n",
       "      dtype='<U1')"
      ]
     },
     "execution_count": 65,
     "metadata": {},
     "output_type": "execute_result"
    }
   ],
   "source": [
    "b = np.arange(12).reshape(3,4)\n",
    "print(type(b),\",\",b.dtype)\n",
    "print(b.ndim)\n",
    "a = np.array(['a','b'])\n",
    "b = b.astype(a.dtype)\n",
    "b"
   ]
  },
  {
   "cell_type": "markdown",
   "metadata": {},
   "source": [
    "astype 将数组中的所有元素都转换类型\n"
   ]
  },
  {
   "cell_type": "code",
   "execution_count": 29,
   "metadata": {},
   "outputs": [
    {
     "data": {
      "text/plain": [
       "array([[-0.04597381,  0.32242662, -0.57614437,  0.17627013],\n",
       "       [-0.97451579,  0.13959943, -0.39028816,  0.24453139],\n",
       "       [-1.75923284,  0.74801131,  1.65071624, -1.02967444]])"
      ]
     },
     "execution_count": 29,
     "metadata": {},
     "output_type": "execute_result"
    }
   ],
   "source": [
    "n = np.random.randn(3,4)\n",
    "n"
   ]
  },
  {
   "cell_type": "code",
   "execution_count": 20,
   "metadata": {},
   "outputs": [
    {
     "data": {
      "text/plain": [
       "(array([[ 0.45487349,  0.0554693 , -0.39843609],\n",
       "        [-0.66038429,  1.66715374,  0.02092748],\n",
       "        [-0.99903326, -0.35461257, -1.40561493],\n",
       "        [-0.96890781, -1.45143509,  0.19172215]]),\n",
       " array([[ 0.45487349,  0.0554693 , -0.39843609],\n",
       "        [-0.66038429,  1.66715374,  0.02092748],\n",
       "        [-0.99903326, -0.35461257, -1.40561493],\n",
       "        [-0.96890781, -1.45143509,  0.19172215]]))"
      ]
     },
     "execution_count": 20,
     "metadata": {},
     "output_type": "execute_result"
    }
   ],
   "source": [
    "n.transpose(), n.T"
   ]
  },
  {
   "cell_type": "code",
   "execution_count": 19,
   "metadata": {},
   "outputs": [
    {
     "data": {
      "text/plain": [
       "array([[1, 2, 3, 1, 2, 3, 1, 2, 3],\n",
       "       [1, 2, 3, 1, 2, 3, 1, 2, 3]])"
      ]
     },
     "execution_count": 19,
     "metadata": {},
     "output_type": "execute_result"
    }
   ],
   "source": [
    "b = np.array([1,2,3])\n",
    "np.tile(b,(2,3))"
   ]
  },
  {
   "cell_type": "code",
   "execution_count": 25,
   "metadata": {},
   "outputs": [
    {
     "data": {
      "text/plain": [
       "matrix([[1, 2, 3]])"
      ]
     },
     "execution_count": 25,
     "metadata": {},
     "output_type": "execute_result"
    }
   ],
   "source": [
    "a = np.array([1,2,3])\n",
    "np.mat(a)"
   ]
  },
  {
   "cell_type": "code",
   "execution_count": 112,
   "metadata": {},
   "outputs": [
    {
     "data": {
      "text/plain": [
       "array([[[[ 0.,  0.,  0.,  0.,  0.],\n",
       "         [ 0.,  0.,  0.,  0.,  0.],\n",
       "         [ 0.,  0.,  0.,  0.,  0.],\n",
       "         [ 0.,  0.,  0.,  0.,  0.]],\n",
       "\n",
       "        [[ 0.,  0.,  0.,  0.,  0.],\n",
       "         [ 0.,  0.,  0.,  0.,  0.],\n",
       "         [ 0.,  0.,  0.,  0.,  0.],\n",
       "         [ 0.,  0.,  0.,  0.,  0.]],\n",
       "\n",
       "        [[ 0.,  0.,  0.,  0.,  0.],\n",
       "         [ 0.,  0.,  0.,  0.,  0.],\n",
       "         [ 0.,  0.,  0.,  0.,  0.],\n",
       "         [ 0.,  0.,  0.,  0.,  0.]]],\n",
       "\n",
       "\n",
       "       [[[ 0.,  0.,  0.,  0.,  0.],\n",
       "         [ 0.,  0.,  0.,  0.,  0.],\n",
       "         [ 0.,  0.,  0.,  0.,  0.],\n",
       "         [ 0.,  0.,  0.,  0.,  0.]],\n",
       "\n",
       "        [[ 0.,  0.,  0.,  0.,  0.],\n",
       "         [ 0.,  0.,  0.,  0.,  0.],\n",
       "         [ 0.,  0.,  0.,  0.,  0.],\n",
       "         [ 0.,  0.,  0.,  0.,  0.]],\n",
       "\n",
       "        [[ 0.,  0.,  0.,  0.,  0.],\n",
       "         [ 0.,  0.,  0.,  0.,  0.],\n",
       "         [ 0.,  0.,  0.,  0.,  0.],\n",
       "         [ 0.,  0.,  0.,  0.,  0.]]]])"
      ]
     },
     "execution_count": 112,
     "metadata": {},
     "output_type": "execute_result"
    }
   ],
   "source": [
    "a = np.zeros((2,3,4,5))\n",
    "a"
   ]
  },
  {
   "cell_type": "markdown",
   "metadata": {},
   "source": [
    "- 四维数组（2*3*4*5）由2个三维数组（3*4*5）组成\n",
    "- 每个三维数组由三个两维数组构成。\n",
    "- 每个两维数组由4个一维数组构成\n",
    "- 每个一维数组由5个数构成"
   ]
  },
  {
   "cell_type": "code",
   "execution_count": 119,
   "metadata": {},
   "outputs": [
    {
     "data": {
      "text/plain": [
       "array([[  99.70796109,  101.39024909,   99.95765084,  100.45697645],\n",
       "       [ 101.72367725,   99.35734083,  100.67197091,  101.63844955],\n",
       "       [  99.49723991,   99.50202434,  100.38868166,   99.70815517],\n",
       "       [  99.71561743,   99.58210338,   98.96371773,   98.95346093]])"
      ]
     },
     "execution_count": 119,
     "metadata": {},
     "output_type": "execute_result"
    }
   ],
   "source": [
    "np.random.normal(100,size=(4,4)) #正太分布"
   ]
  },
  {
   "cell_type": "code",
   "execution_count": 131,
   "metadata": {
    "scrolled": true
   },
   "outputs": [
    {
     "data": {
      "text/plain": [
       "array([1, 2, 3, 4])"
      ]
     },
     "execution_count": 131,
     "metadata": {},
     "output_type": "execute_result"
    }
   ],
   "source": [
    "a = np.array([2,3,4,3,3,2,1])\n",
    "np.unique(a)"
   ]
  },
  {
   "cell_type": "markdown",
   "metadata": {},
   "source": [
    "相当于set并排序"
   ]
  },
  {
   "cell_type": "markdown",
   "metadata": {},
   "source": [
    "###  运算"
   ]
  },
  {
   "cell_type": "code",
   "execution_count": 142,
   "metadata": {},
   "outputs": [
    {
     "data": {
      "text/plain": [
       "21"
      ]
     },
     "execution_count": 142,
     "metadata": {},
     "output_type": "execute_result"
    }
   ],
   "source": [
    "arr = np.array([[1,2,3],[4,5,6]])\n",
    "arr.sum()"
   ]
  },
  {
   "cell_type": "code",
   "execution_count": 140,
   "metadata": {
    "scrolled": true
   },
   "outputs": [
    {
     "data": {
      "text/plain": [
       "array([[ 1,  4,  9],\n",
       "       [16, 25, 36]])"
      ]
     },
     "execution_count": 140,
     "metadata": {},
     "output_type": "execute_result"
    }
   ],
   "source": [
    "arr*arr"
   ]
  },
  {
   "cell_type": "code",
   "execution_count": 116,
   "metadata": {},
   "outputs": [
    {
     "data": {
      "text/plain": [
       "array([[ 1.        ,  1.41421356,  1.73205081],\n",
       "       [ 2.        ,  2.23606798,  2.44948974]])"
      ]
     },
     "execution_count": 116,
     "metadata": {},
     "output_type": "execute_result"
    }
   ],
   "source": [
    "np.sqrt(arr)"
   ]
  },
  {
   "cell_type": "markdown",
   "metadata": {},
   "source": [
    "- array 数组使你不用进行循环就能进行批量运算。\n",
    "- 对 array数组直接使用运算符，相当于所有元素对应进行运算。"
   ]
  },
  {
   "cell_type": "code",
   "execution_count": 134,
   "metadata": {},
   "outputs": [
    {
     "data": {
      "text/plain": [
       "array([[10, 13],\n",
       "       [22, 29]])"
      ]
     },
     "execution_count": 134,
     "metadata": {},
     "output_type": "execute_result"
    }
   ],
   "source": [
    "arr_1 = np.array([[1,2],[3,4]])\n",
    "arr_2 = np.array([[2,3],[4,5]])\n",
    "np.dot(arr_1,arr_2)"
   ]
  },
  {
   "cell_type": "markdown",
   "metadata": {},
   "source": [
    "### 切片"
   ]
  },
  {
   "cell_type": "code",
   "execution_count": 78,
   "metadata": {},
   "outputs": [
    {
     "data": {
      "text/plain": [
       "array([  0,   1,   2,   3,   4, 666, 666, 666,   8,   9])"
      ]
     },
     "execution_count": 78,
     "metadata": {},
     "output_type": "execute_result"
    }
   ],
   "source": [
    "arr = np.arange(10)\n",
    "arr[5:8] = 666\n",
    "arr"
   ]
  },
  {
   "cell_type": "markdown",
   "metadata": {},
   "source": [
    "将一个标量赋值给一个数组切片时，该值会自动广播到整个选区。\n"
   ]
  },
  {
   "cell_type": "code",
   "execution_count": 81,
   "metadata": {},
   "outputs": [
    {
     "data": {
      "text/plain": [
       "array([ 0,  1,  2,  3,  4, 64, 64, 64,  8,  9])"
      ]
     },
     "execution_count": 81,
     "metadata": {},
     "output_type": "execute_result"
    }
   ],
   "source": [
    "arr_slice = arr[5:8]\n",
    "arr_slice[:] = 64\n",
    "arr"
   ]
  },
  {
   "cell_type": "markdown",
   "metadata": {},
   "source": [
    "array类型被切片后不会赋值，只保留一份数据。"
   ]
  },
  {
   "cell_type": "code",
   "execution_count": 90,
   "metadata": {},
   "outputs": [
    {
     "name": "stdout",
     "output_type": "stream",
     "text": [
      "3 3\n",
      "[[2 3]\n",
      " [5 6]]\n"
     ]
    }
   ],
   "source": [
    "arr_2 = np.array([[1,2,3],[4,5,6],[7,8,9]])\n",
    "print(arr_2[0][2],arr_2[0,2])\n",
    "print(arr_2[:2,1:])\n"
   ]
  },
  {
   "cell_type": "code",
   "execution_count": 100,
   "metadata": {},
   "outputs": [
    {
     "name": "stdout",
     "output_type": "stream",
     "text": [
      "[[ 0.56323997  0.31354     0.45216106  0.58065841]\n",
      " [ 0.95175952  0.08728083  0.39392828  0.7460041 ]\n",
      " [ 0.72294529  0.48654886  0.0719934   0.9817884 ]]\n"
     ]
    },
    {
     "data": {
      "text/plain": [
       "array([[ 0.56323997,  0.31354   ,  0.45216106,  0.58065841],\n",
       "       [ 0.72294529,  0.48654886,  0.0719934 ,  0.9817884 ]])"
      ]
     },
     "execution_count": 100,
     "metadata": {},
     "output_type": "execute_result"
    }
   ],
   "source": [
    "arr = np.random.rand(3,4)\n",
    "print(arr)\n",
    "print arr[[True,False,True]]"
   ]
  },
  {
   "cell_type": "markdown",
   "metadata": {},
   "source": [
    "用布尔型列表切片数组"
   ]
  },
  {
   "cell_type": "code",
   "execution_count": 103,
   "metadata": {},
   "outputs": [
    {
     "data": {
      "text/plain": [
       "array([[ 0.56323997,  0.        ,  0.        ,  0.58065841],\n",
       "       [ 0.95175952,  0.        ,  0.        ,  0.7460041 ],\n",
       "       [ 0.72294529,  0.        ,  0.        ,  0.9817884 ]])"
      ]
     },
     "execution_count": 103,
     "metadata": {},
     "output_type": "execute_result"
    }
   ],
   "source": [
    "arr[arr<0.5] =  0\n",
    "arr"
   ]
  },
  {
   "cell_type": "markdown",
   "metadata": {},
   "source": [
    "按条件批量改变数组的值"
   ]
  },
  {
   "cell_type": "code",
   "execution_count": 128,
   "metadata": {},
   "outputs": [
    {
     "name": "stdout",
     "output_type": "stream",
     "text": [
      "[[ 0.35161293  0.66494179  0.41155585  0.85757453]\n",
      " [ 0.30659718  0.0624959   0.4411294   0.03837504]\n",
      " [ 0.95619742  0.61148262  0.53340008  0.33620816]\n",
      " [ 0.7072329   0.97455356  0.65200832  0.23953566]]\n"
     ]
    },
    {
     "data": {
      "text/plain": [
       "array([['<0.5', '>0.5', '<0.5', '>0.5'],\n",
       "       ['<0.5', '<0.5', '<0.5', '<0.5'],\n",
       "       ['>0.5', '>0.5', '>0.5', '<0.5'],\n",
       "       ['>0.5', '>0.5', '>0.5', '<0.5']],\n",
       "      dtype='<U4')"
      ]
     },
     "execution_count": 128,
     "metadata": {},
     "output_type": "execute_result"
    }
   ],
   "source": [
    "arr = np.random.rand(4,4)\n",
    "print(arr)\n",
    "np.where(arr>0.5,'>0.5','<0.5')"
   ]
  },
  {
   "cell_type": "code",
   "execution_count": 129,
   "metadata": {},
   "outputs": [
    {
     "data": {
      "text/plain": [
       "array([['0.35161292818193013', '>0.5', '0.4115558545973588', '>0.5'],\n",
       "       ['0.30659718035525596', '0.06249589688319568',\n",
       "        '0.44112939891558245', '0.03837503995453129'],\n",
       "       ['>0.5', '>0.5', '>0.5', '0.3362081630954874'],\n",
       "       ['>0.5', '>0.5', '>0.5', '0.23953565562509838']],\n",
       "      dtype='<U32')"
      ]
     },
     "execution_count": 129,
     "metadata": {},
     "output_type": "execute_result"
    }
   ],
   "source": [
    "np.where(arr>0.5, '>0.5' ,arr)"
   ]
  },
  {
   "cell_type": "code",
   "execution_count": 147,
   "metadata": {},
   "outputs": [
    {
     "data": {
      "text/plain": [
       "array(['5.1,3.5,1.4,0.2,Iris-setosa', '4.9,3.0,1.4,0.2,Iris-setosa',\n",
       "       '4.7,3.2,1.3,0.2,Iris-setosa', '4.6,3.1,1.5,0.2,Iris-setosa',\n",
       "       '5.0,3.6,1.4,0.2,Iris-setosa', '5.4,3.9,1.7,0.4,Iris-setosa',\n",
       "       '4.6,3.4,1.4,0.3,Iris-setosa', '5.0,3.4,1.5,0.2,Iris-setosa',\n",
       "       '4.4,2.9,1.4,0.2,Iris-setosa', '4.9,3.1,1.5,0.1,Iris-setosa',\n",
       "       '5.4,3.7,1.5,0.2,Iris-setosa', '4.8,3.4,1.6,0.2,Iris-setosa',\n",
       "       '4.8,3.0,1.4,0.1,Iris-setosa', '4.3,3.0,1.1,0.1,Iris-setosa',\n",
       "       '5.8,4.0,1.2,0.2,Iris-setosa', '5.7,4.4,1.5,0.4,Iris-setosa',\n",
       "       '5.4,3.9,1.3,0.4,Iris-setosa', '5.1,3.5,1.4,0.3,Iris-setosa',\n",
       "       '5.7,3.8,1.7,0.3,Iris-setosa', '5.1,3.8,1.5,0.3,Iris-setosa',\n",
       "       '5.4,3.4,1.7,0.2,Iris-setosa', '5.1,3.7,1.5,0.4,Iris-setosa',\n",
       "       '4.6,3.6,1.0,0.2,Iris-setosa', '5.1,3.3,1.7,0.5,Iris-setosa',\n",
       "       '4.8,3.4,1.9,0.2,Iris-setosa', '5.0,3.0,1.6,0.2,Iris-setosa',\n",
       "       '5.0,3.4,1.6,0.4,Iris-setosa', '5.2,3.5,1.5,0.2,Iris-setosa',\n",
       "       '5.2,3.4,1.4,0.2,Iris-setosa', '4.7,3.2,1.6,0.2,Iris-setosa',\n",
       "       '4.8,3.1,1.6,0.2,Iris-setosa', '5.4,3.4,1.5,0.4,Iris-setosa',\n",
       "       '5.2,4.1,1.5,0.1,Iris-setosa', '5.5,4.2,1.4,0.2,Iris-setosa',\n",
       "       '4.9,3.1,1.5,0.1,Iris-setosa', '5.0,3.2,1.2,0.2,Iris-setosa',\n",
       "       '5.5,3.5,1.3,0.2,Iris-setosa', '4.9,3.1,1.5,0.1,Iris-setosa',\n",
       "       '4.4,3.0,1.3,0.2,Iris-setosa', '5.1,3.4,1.5,0.2,Iris-setosa',\n",
       "       '5.0,3.5,1.3,0.3,Iris-setosa', '4.5,2.3,1.3,0.3,Iris-setosa',\n",
       "       '4.4,3.2,1.3,0.2,Iris-setosa', '5.0,3.5,1.6,0.6,Iris-setosa',\n",
       "       '5.1,3.8,1.9,0.4,Iris-setosa', '4.8,3.0,1.4,0.3,Iris-setosa',\n",
       "       '5.1,3.8,1.6,0.2,Iris-setosa', '4.6,3.2,1.4,0.2,Iris-setosa',\n",
       "       '5.3,3.7,1.5,0.2,Iris-setosa', '5.0,3.3,1.4,0.2,Iris-setosa',\n",
       "       '7.0,3.2,4.7,1.4,Iris-versicolor',\n",
       "       '6.4,3.2,4.5,1.5,Iris-versicolor',\n",
       "       '6.9,3.1,4.9,1.5,Iris-versicolor',\n",
       "       '5.5,2.3,4.0,1.3,Iris-versicolor',\n",
       "       '6.5,2.8,4.6,1.5,Iris-versicolor',\n",
       "       '5.7,2.8,4.5,1.3,Iris-versicolor',\n",
       "       '6.3,3.3,4.7,1.6,Iris-versicolor',\n",
       "       '4.9,2.4,3.3,1.0,Iris-versicolor',\n",
       "       '6.6,2.9,4.6,1.3,Iris-versicolor',\n",
       "       '5.2,2.7,3.9,1.4,Iris-versicolor',\n",
       "       '5.0,2.0,3.5,1.0,Iris-versicolor',\n",
       "       '5.9,3.0,4.2,1.5,Iris-versicolor',\n",
       "       '6.0,2.2,4.0,1.0,Iris-versicolor',\n",
       "       '6.1,2.9,4.7,1.4,Iris-versicolor',\n",
       "       '5.6,2.9,3.6,1.3,Iris-versicolor',\n",
       "       '6.7,3.1,4.4,1.4,Iris-versicolor',\n",
       "       '5.6,3.0,4.5,1.5,Iris-versicolor',\n",
       "       '5.8,2.7,4.1,1.0,Iris-versicolor',\n",
       "       '6.2,2.2,4.5,1.5,Iris-versicolor',\n",
       "       '5.6,2.5,3.9,1.1,Iris-versicolor',\n",
       "       '5.9,3.2,4.8,1.8,Iris-versicolor',\n",
       "       '6.1,2.8,4.0,1.3,Iris-versicolor',\n",
       "       '6.3,2.5,4.9,1.5,Iris-versicolor',\n",
       "       '6.1,2.8,4.7,1.2,Iris-versicolor',\n",
       "       '6.4,2.9,4.3,1.3,Iris-versicolor',\n",
       "       '6.6,3.0,4.4,1.4,Iris-versicolor',\n",
       "       '6.8,2.8,4.8,1.4,Iris-versicolor',\n",
       "       '6.7,3.0,5.0,1.7,Iris-versicolor',\n",
       "       '6.0,2.9,4.5,1.5,Iris-versicolor',\n",
       "       '5.7,2.6,3.5,1.0,Iris-versicolor',\n",
       "       '5.5,2.4,3.8,1.1,Iris-versicolor',\n",
       "       '5.5,2.4,3.7,1.0,Iris-versicolor',\n",
       "       '5.8,2.7,3.9,1.2,Iris-versicolor',\n",
       "       '6.0,2.7,5.1,1.6,Iris-versicolor',\n",
       "       '5.4,3.0,4.5,1.5,Iris-versicolor',\n",
       "       '6.0,3.4,4.5,1.6,Iris-versicolor',\n",
       "       '6.7,3.1,4.7,1.5,Iris-versicolor',\n",
       "       '6.3,2.3,4.4,1.3,Iris-versicolor',\n",
       "       '5.6,3.0,4.1,1.3,Iris-versicolor',\n",
       "       '5.5,2.5,4.0,1.3,Iris-versicolor',\n",
       "       '5.5,2.6,4.4,1.2,Iris-versicolor',\n",
       "       '6.1,3.0,4.6,1.4,Iris-versicolor',\n",
       "       '5.8,2.6,4.0,1.2,Iris-versicolor',\n",
       "       '5.0,2.3,3.3,1.0,Iris-versicolor',\n",
       "       '5.6,2.7,4.2,1.3,Iris-versicolor',\n",
       "       '5.7,3.0,4.2,1.2,Iris-versicolor',\n",
       "       '5.7,2.9,4.2,1.3,Iris-versicolor',\n",
       "       '6.2,2.9,4.3,1.3,Iris-versicolor',\n",
       "       '5.1,2.5,3.0,1.1,Iris-versicolor',\n",
       "       '5.7,2.8,4.1,1.3,Iris-versicolor', '6.3,3.3,6.0,2.5,Iris-virginica',\n",
       "       '5.8,2.7,5.1,1.9,Iris-virginica', '7.1,3.0,5.9,2.1,Iris-virginica',\n",
       "       '6.3,2.9,5.6,1.8,Iris-virginica', '6.5,3.0,5.8,2.2,Iris-virginica',\n",
       "       '7.6,3.0,6.6,2.1,Iris-virginica', '4.9,2.5,4.5,1.7,Iris-virginica',\n",
       "       '7.3,2.9,6.3,1.8,Iris-virginica', '6.7,2.5,5.8,1.8,Iris-virginica',\n",
       "       '7.2,3.6,6.1,2.5,Iris-virginica', '6.5,3.2,5.1,2.0,Iris-virginica',\n",
       "       '6.4,2.7,5.3,1.9,Iris-virginica', '6.8,3.0,5.5,2.1,Iris-virginica',\n",
       "       '5.7,2.5,5.0,2.0,Iris-virginica', '5.8,2.8,5.1,2.4,Iris-virginica',\n",
       "       '6.4,3.2,5.3,2.3,Iris-virginica', '6.5,3.0,5.5,1.8,Iris-virginica',\n",
       "       '7.7,3.8,6.7,2.2,Iris-virginica', '7.7,2.6,6.9,2.3,Iris-virginica',\n",
       "       '6.0,2.2,5.0,1.5,Iris-virginica', '6.9,3.2,5.7,2.3,Iris-virginica',\n",
       "       '5.6,2.8,4.9,2.0,Iris-virginica', '7.7,2.8,6.7,2.0,Iris-virginica',\n",
       "       '6.3,2.7,4.9,1.8,Iris-virginica', '6.7,3.3,5.7,2.1,Iris-virginica',\n",
       "       '7.2,3.2,6.0,1.8,Iris-virginica', '6.2,2.8,4.8,1.8,Iris-virginica',\n",
       "       '6.1,3.0,4.9,1.8,Iris-virginica', '6.4,2.8,5.6,2.1,Iris-virginica',\n",
       "       '7.2,3.0,5.8,1.6,Iris-virginica', '7.4,2.8,6.1,1.9,Iris-virginica',\n",
       "       '7.9,3.8,6.4,2.0,Iris-virginica', '6.4,2.8,5.6,2.2,Iris-virginica',\n",
       "       '6.3,2.8,5.1,1.5,Iris-virginica', '6.1,2.6,5.6,1.4,Iris-virginica',\n",
       "       '7.7,3.0,6.1,2.3,Iris-virginica', '6.3,3.4,5.6,2.4,Iris-virginica',\n",
       "       '6.4,3.1,5.5,1.8,Iris-virginica', '6.0,3.0,4.8,1.8,Iris-virginica',\n",
       "       '6.9,3.1,5.4,2.1,Iris-virginica', '6.7,3.1,5.6,2.4,Iris-virginica',\n",
       "       '6.9,3.1,5.1,2.3,Iris-virginica', '5.8,2.7,5.1,1.9,Iris-virginica',\n",
       "       '6.8,3.2,5.9,2.3,Iris-virginica', '6.7,3.3,5.7,2.5,Iris-virginica',\n",
       "       '6.7,3.0,5.2,2.3,Iris-virginica', '6.3,2.5,5.0,1.9,Iris-virginica',\n",
       "       '6.5,3.0,5.2,2.0,Iris-virginica', '6.2,3.4,5.4,2.3,Iris-virginica',\n",
       "       '5.9,3.0,5.1,1.8,Iris-virginica'],\n",
       "      dtype='<U31')"
      ]
     },
     "execution_count": 147,
     "metadata": {},
     "output_type": "execute_result"
    }
   ],
   "source": [
    "arr_file = np.loadtxt('Iris.txt',dtype= str)\n",
    "arr_file\n"
   ]
  }
 ],
 "metadata": {
  "kernelspec": {
   "display_name": "Python 3",
   "language": "python",
   "name": "python3"
  },
  "language_info": {
   "codemirror_mode": {
    "name": "ipython",
    "version": 3
   },
   "file_extension": ".py",
   "mimetype": "text/x-python",
   "name": "python",
   "nbconvert_exporter": "python",
   "pygments_lexer": "ipython3",
   "version": "3.6.3"
  }
 },
 "nbformat": 4,
 "nbformat_minor": 2
}
