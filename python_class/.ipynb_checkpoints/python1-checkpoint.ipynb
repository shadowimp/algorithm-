{
 "cells": [
  {
   "cell_type": "markdown",
   "metadata": {},
   "source": [
    "### 变量\n",
    "命名规则：字母数字下划线，数字不能在首位"
   ]
  },
  {
   "cell_type": "code",
   "execution_count": 20,
   "metadata": {},
   "outputs": [],
   "source": [
    "num = 1   \n",
    "# 定义一个变量num\n",
    "# 给num 赋值1"
   ]
  },
  {
   "cell_type": "markdown",
   "metadata": {},
   "source": [
    "整数 ： int\n",
    "\n",
    "小数 ： float\n",
    "\n",
    "字符串 ： string"
   ]
  },
  {
   "cell_type": "code",
   "execution_count": 4,
   "metadata": {},
   "outputs": [],
   "source": [
    "name = \"布尔玛\"\n",
    "brand = \"apple\""
   ]
  },
  {
   "cell_type": "markdown",
   "metadata": {},
   "source": [
    "### print\n",
    "函数"
   ]
  },
  {
   "cell_type": "code",
   "execution_count": 5,
   "metadata": {},
   "outputs": [
    {
     "name": "stdout",
     "output_type": "stream",
     "text": [
      "布尔玛\n"
     ]
    }
   ],
   "source": [
    "print(name)"
   ]
  },
  {
   "cell_type": "markdown",
   "metadata": {},
   "source": [
    "### 函数 function\n",
    "defination-定义"
   ]
  },
  {
   "cell_type": "code",
   "execution_count": 14,
   "metadata": {},
   "outputs": [],
   "source": [
    "# 加法函数   \n",
    "def fun(x,y):\n",
    "    z = x + y \n",
    "    return z"
   ]
  },
  {
   "cell_type": "code",
   "execution_count": 9,
   "metadata": {},
   "outputs": [],
   "source": [
    "a = 1\n",
    "b = 2"
   ]
  },
  {
   "cell_type": "code",
   "execution_count": 16,
   "metadata": {
    "scrolled": true
   },
   "outputs": [
    {
     "data": {
      "text/plain": [
       "3"
      ]
     },
     "execution_count": 16,
     "metadata": {},
     "output_type": "execute_result"
    }
   ],
   "source": [
    "fun(a,b)"
   ]
  },
  {
   "cell_type": "code",
   "execution_count": 9,
   "metadata": {},
   "outputs": [],
   "source": [
    "# 练习: 写一个乘法函数\n",
    "# 乘 : *\n",
    "# 除 : /\n",
    "# 平方 : ** 或 ^"
   ]
  },
  {
   "cell_type": "markdown",
   "metadata": {},
   "source": [
    "### 数组/列表  list\n",
    "有一串元素的集合"
   ]
  },
  {
   "cell_type": "code",
   "execution_count": 14,
   "metadata": {},
   "outputs": [
    {
     "name": "stdout",
     "output_type": "stream",
     "text": [
      "paula\n"
     ]
    }
   ],
   "source": [
    "name_list = [\"paula\",\"belen\"]\n",
    "num_list = [3,44]\n",
    "\n",
    "len(name_list)\n",
    "print(name_list[0])"
   ]
  },
  {
   "cell_type": "markdown",
   "metadata": {},
   "source": [
    "### if  条件判断语句"
   ]
  },
  {
   "cell_type": "code",
   "execution_count": 31,
   "metadata": {},
   "outputs": [
    {
     "name": "stdout",
     "output_type": "stream",
     "text": [
      "no\n"
     ]
    }
   ],
   "source": [
    "name = \"paula\"\n",
    "if len(name) == 3:\n",
    "    print('3')\n",
    "else:\n",
    "    print('no')"
   ]
  },
  {
   "cell_type": "markdown",
   "metadata": {},
   "source": [
    "### 循环"
   ]
  },
  {
   "cell_type": "code",
   "execution_count": 21,
   "metadata": {},
   "outputs": [
    {
     "name": "stdout",
     "output_type": "stream",
     "text": [
      "paula\n",
      "belen\n"
     ]
    }
   ],
   "source": [
    "# 遍历数组\n",
    "for name in name_list:\n",
    "    print(name)"
   ]
  },
  {
   "cell_type": "markdown",
   "metadata": {},
   "source": [
    "### 读文件\n",
    "r : read \n",
    "\n",
    "w : write"
   ]
  },
  {
   "cell_type": "code",
   "execution_count": 33,
   "metadata": {},
   "outputs": [
    {
     "name": "stdout",
     "output_type": "stream",
     "text": [
      "paula\n",
      "belen\n",
      "yuanbo\n"
     ]
    }
   ],
   "source": [
    "with open('name.txt','r') as f:  #把文件的内容给f\n",
    "    for line in f:  \n",
    "        name = line.strip() # 去掉这一行前后的空白字符\n",
    "        print(name)    "
   ]
  },
  {
   "cell_type": "code",
   "execution_count": 36,
   "metadata": {},
   "outputs": [
    {
     "name": "stdout",
     "output_type": "stream",
     "text": [
      "yuanbo \n"
     ]
    }
   ],
   "source": [
    "with open('name.txt','r') as f:  #把文件的内容给f\n",
    "    for line in f:  \n",
    "        name = line.strip() # 去掉这一行前后的空白字符\n",
    "        if len(name) > 5:\n",
    "            print(line)    "
   ]
  },
  {
   "cell_type": "code",
   "execution_count": 46,
   "metadata": {},
   "outputs": [
    {
     "name": "stdout",
     "output_type": "stream",
     "text": [
      "['5.1', '3.5', '1.4', '0.2', 'Iris-setosa']\n",
      "['5.1', '3.5', '1.4', '0.3', 'Iris-setosa']\n",
      "['5.1', '3.8', '1.5', '0.3', 'Iris-setosa']\n",
      "['5.1', '3.7', '1.5', '0.4', 'Iris-setosa']\n",
      "['5.1', '3.3', '1.7', '0.5', 'Iris-setosa']\n",
      "['5.1', '3.4', '1.5', '0.2', 'Iris-setosa']\n",
      "['5.1', '3.8', '1.9', '0.4', 'Iris-setosa']\n",
      "['5.1', '3.8', '1.6', '0.2', 'Iris-setosa']\n"
     ]
    }
   ],
   "source": [
    "with open('iris.txt','r') as f:  #把文件的内容给f\n",
    "    for line in f:  \n",
    "        line = line.strip() # 去掉这一行前后的空白字符\n",
    "        line = line.split(',') # 将字符串分割开\n",
    "        if line[4]  == 'Iris-setosa' and line[0] == '5.1':  # 同时满足两个条件\n",
    "            print(line)    "
   ]
  },
  {
   "cell_type": "markdown",
   "metadata": {},
   "source": [
    "and 且\n",
    "\n",
    "or 或"
   ]
  },
  {
   "cell_type": "code",
   "execution_count": 47,
   "metadata": {},
   "outputs": [],
   "source": [
    "# 练习 \n",
    "# 第一列是 5.0 并且第二列是 3.5的"
   ]
  },
  {
   "cell_type": "markdown",
   "metadata": {},
   "source": [
    "### 处理 excel"
   ]
  },
  {
   "cell_type": "code",
   "execution_count": 63,
   "metadata": {},
   "outputs": [
    {
     "name": "stdout",
     "output_type": "stream",
     "text": [
      "['新加坡', '新加坡15店（Marina Bay Sands）', '\"2 Bayfront Avenue The Shoppes at Marina Bay Sands', ' #B2-01A/D', '018972\"', '700(B2)', '8', '6', '296', '合同已签订', '', '2020/8/12', '2021/11/18(预计11月底进场)', '', '新加坡15店', '', '']\n",
      "['新加坡', '新加坡16店 (Wisma Atria)', '\"#03-15 to 23', ' #03-41(pt) to 49', 'Wisma Atria', '435 Orchard Rd', ' Singapore\"', '958（3F）', '5', '5', '473', '合同已签订', '', '2020/10/29', '2020/12/30', '', '新加坡16店', '新加坡4店', '']\n",
      "['新加坡 ', ' Jurong East Jcube', '', '', '', '', '', '商务定稿', '', '', '', '', '', '', '']\n",
      "['新加坡 ', 'Woodleigh 在建中位置居中（小店）', '', '', '', '', '', '谈商务条件中', '', '', '', '', '', '', '']\n",
      "['新加坡 ', 'Bugis', '', '', '', '', '', '谈商务条件中', '', '', '', '', '', '', '']\n",
      "['新加坡 ', ' 新加坡Jurong point ', '', '', '', '', '', '商务阶段-谈判中', '', '', '', '', '', '', '']\n"
     ]
    }
   ],
   "source": [
    "with open('hdl.csv','r') as f:  #把文件的内容给f\n",
    "    for line in f:  \n",
    "        line = line.strip() # 去掉这一行前后的空白字符\n",
    "        line = line.split(',') # 将字符串分割开\n",
    "        city = line[0].strip()\n",
    "        if city == '新加坡':   \n",
    "            print(line)  "
   ]
  },
  {
   "cell_type": "markdown",
   "metadata": {},
   "source": [
    "### 字典\n",
    "dictionary\n",
    "\n",
    "key : value "
   ]
  },
  {
   "cell_type": "code",
   "execution_count": 99,
   "metadata": {},
   "outputs": [],
   "source": [
    "name_dic = {}  # 字典必须首先定义\n",
    "name_dic['paula'] = 18\n",
    "name_dic['belen'] = 20\n",
    "name_dic['zyb'] = 16"
   ]
  },
  {
   "cell_type": "code",
   "execution_count": 85,
   "metadata": {},
   "outputs": [
    {
     "data": {
      "text/plain": [
       "{'paula': 18, 'belen': 20, 'zyb': 16}"
      ]
     },
     "execution_count": 85,
     "metadata": {},
     "output_type": "execute_result"
    }
   ],
   "source": [
    "name_dic"
   ]
  },
  {
   "cell_type": "code",
   "execution_count": 87,
   "metadata": {},
   "outputs": [
    {
     "data": {
      "text/plain": [
       "16"
      ]
     },
     "execution_count": 87,
     "metadata": {},
     "output_type": "execute_result"
    }
   ],
   "source": [
    "name_dic['zyb']"
   ]
  },
  {
   "cell_type": "code",
   "execution_count": 89,
   "metadata": {},
   "outputs": [
    {
     "data": {
      "text/plain": [
       "16"
      ]
     },
     "execution_count": 89,
     "metadata": {},
     "output_type": "execute_result"
    }
   ],
   "source": [
    "name_dic.get('zyb',0)"
   ]
  },
  {
   "cell_type": "code",
   "execution_count": 104,
   "metadata": {},
   "outputs": [
    {
     "data": {
      "text/plain": [
       "0"
      ]
     },
     "execution_count": 104,
     "metadata": {},
     "output_type": "execute_result"
    }
   ],
   "source": [
    "name_dic.get('kkj',0)"
   ]
  },
  {
   "cell_type": "code",
   "execution_count": 171,
   "metadata": {},
   "outputs": [],
   "source": [
    "city_dic =  {}\n",
    "\n",
    "with open('hdl.csv','r') as f:  #把文件的内容给f\n",
    "    for line in f:  \n",
    "        line = line.strip() # 去掉这一行前后的空白字符\n",
    "        city = line.split(',')[0] # 将字符串分割开\n",
    "        city_num = city_dic.get(city,0)\n",
    "        city_dic[city] =  city_num + 1"
   ]
  },
  {
   "cell_type": "code",
   "execution_count": 172,
   "metadata": {},
   "outputs": [
    {
     "data": {
      "text/plain": [
       "{'\\ufeff城市': 1,\n",
       " '': 8,\n",
       " '印尼': 3,\n",
       " 'Jl. Pantai Indah Kapuk No.6': 1,\n",
       " '新加坡': 2,\n",
       " '新加坡 ': 4,\n",
       " '柬埔寨 ': 3,\n",
       " '韩国': 1,\n",
       " '부산시 동구 중앙대로 175\"': 1,\n",
       " '香港': 2,\n",
       " '澳门': 1,\n",
       " '英国': 2,\n",
       " '西班牙': 1,\n",
       " '瑞士': 1}"
      ]
     },
     "execution_count": 172,
     "metadata": {},
     "output_type": "execute_result"
    }
   ],
   "source": [
    "city_dic"
   ]
  },
  {
   "cell_type": "code",
   "execution_count": null,
   "metadata": {},
   "outputs": [],
   "source": []
  }
 ],
 "metadata": {
  "kernelspec": {
   "display_name": "Python 3",
   "language": "python",
   "name": "python3"
  },
  "language_info": {
   "codemirror_mode": {
    "name": "ipython",
    "version": 3
   },
   "file_extension": ".py",
   "mimetype": "text/x-python",
   "name": "python",
   "nbconvert_exporter": "python",
   "pygments_lexer": "ipython3",
   "version": "3.8.5"
  }
 },
 "nbformat": 4,
 "nbformat_minor": 4
}
