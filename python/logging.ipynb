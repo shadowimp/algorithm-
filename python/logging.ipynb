{
 "cells": [
  {
   "cell_type": "code",
   "execution_count": 1,
   "metadata": {},
   "outputs": [],
   "source": [
    "import logging"
   ]
  },
  {
   "cell_type": "code",
   "execution_count": 24,
   "metadata": {},
   "outputs": [
    {
     "name": "stderr",
     "output_type": "stream",
     "text": [
      "INFO:__main__:start\n"
     ]
    }
   ],
   "source": [
    "logging.basicConfig(level=logging.INFO)\n",
    "logger = logging.getLogger(__name__)\n",
    "logger.info('start')  # 相当于print"
   ]
  },
  {
   "cell_type": "code",
   "execution_count": 26,
   "metadata": {},
   "outputs": [
    {
     "name": "stderr",
     "output_type": "stream",
     "text": [
      "INFO:__main__:Updating records ...\n",
      "INFO:__main__:Finish updating records\n"
     ]
    }
   ],
   "source": [
    "records = {'john': 55, 'tom': 66}\n",
    "logger.debug('Records: %s', records)\n",
    "logger.info('Updating records ...')\n",
    "# update records here\n",
    "logger.info('Finish updating records')"
   ]
  },
  {
   "cell_type": "code",
   "execution_count": 30,
   "metadata": {},
   "outputs": [
    {
     "name": "stderr",
     "output_type": "stream",
     "text": [
      "WARNING:root:Admin logged out\n"
     ]
    }
   ],
   "source": [
    "# format 中设置时间\n",
    "logging.basicConfig(format='%(asctime)s - %(message)s', datefmt='%d-%b-%y %H:%M:%S')\n",
    "logging.warning('Admin logged out')"
   ]
  },
  {
   "cell_type": "code",
   "execution_count": 37,
   "metadata": {},
   "outputs": [
    {
     "name": "stdout",
     "output_type": "stream",
     "text": [
      "b'gA=='\n"
     ]
    }
   ],
   "source": [
    "import base64\n",
    "\n",
    "mystr = b\"\\x80\"  # \\x80 换成十进制为 128，超越了 ascii 范围，为不可见字符\n",
    "strb64 = base64.b64encode(mystr)  # 编码为 base64 的可见字符\n",
    "print(strb64)"
   ]
  },
  {
   "cell_type": "code",
   "execution_count": 34,
   "metadata": {},
   "outputs": [
    {
     "name": "stdout",
     "output_type": "stream",
     "text": [
      "b'\\x80'\n"
     ]
    }
   ],
   "source": [
    "mystr = base64.b64decode(strb64)\n",
    "print(mystr)  # 解码为不可见字符 \\x80"
   ]
  },
  {
   "cell_type": "code",
   "execution_count": null,
   "metadata": {},
   "outputs": [],
   "source": []
  }
 ],
 "metadata": {
  "kernelspec": {
   "display_name": "Python 3",
   "language": "python",
   "name": "python3"
  },
  "language_info": {
   "codemirror_mode": {
    "name": "ipython",
    "version": 3
   },
   "file_extension": ".py",
   "mimetype": "text/x-python",
   "name": "python",
   "nbconvert_exporter": "python",
   "pygments_lexer": "ipython3",
   "version": "3.7.4"
  }
 },
 "nbformat": 4,
 "nbformat_minor": 4
}
