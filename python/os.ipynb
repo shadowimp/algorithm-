{
 "cells": [
  {
   "cell_type": "markdown",
   "metadata": {},
   "source": [
    "# os\n",
    "- os.listdir() 可以列出当前目录下所有的文件名\n",
    "- 可以用endswith()来筛选出某种类型的所有文件"
   ]
  },
  {
   "cell_type": "code",
   "execution_count": 9,
   "metadata": {},
   "outputs": [
    {
     "data": {
      "text/plain": [
       "['dog.jpg',\n",
       " 'iris.txt',\n",
       " 'map.ipynb',\n",
       " 'list.ipynb',\n",
       " 'os.ipynb',\n",
       " 'collections.ipynb',\n",
       " 'opp.ipynb',\n",
       " 'Python_point.ipynb',\n",
       " '.ipynb_checkpoints']"
      ]
     },
     "execution_count": 9,
     "metadata": {},
     "output_type": "execute_result"
    }
   ],
   "source": [
    "import os \n",
    "os.listdir() "
   ]
  },
  {
   "cell_type": "code",
   "execution_count": 13,
   "metadata": {},
   "outputs": [
    {
     "data": {
      "text/plain": [
       "['map.ipynb',\n",
       " 'list.ipynb',\n",
       " 'os.ipynb',\n",
       " 'collections.ipynb',\n",
       " 'opp.ipynb',\n",
       " 'Python_point.ipynb']"
      ]
     },
     "execution_count": 13,
     "metadata": {},
     "output_type": "execute_result"
    }
   ],
   "source": [
    "filenames = os.listdir()\n",
    "files = [file for file in filenames if file.endswith('ipynb')]  #找出所有notebook类型的文件\n",
    "files "
   ]
  },
  {
   "cell_type": "code",
   "execution_count": 11,
   "metadata": {},
   "outputs": [
    {
     "data": {
      "text/plain": [
       "'data/1.csv'"
      ]
     },
     "execution_count": 11,
     "metadata": {},
     "output_type": "execute_result"
    }
   ],
   "source": [
    "#路径拼接\n",
    "data_path = 'data'\n",
    "data_filename = ['1.csv' , '2.csv']\n",
    "data_real_path = os.path.join(data_path,data_filename[0])\n",
    "data_real_path"
   ]
  },
  {
   "cell_type": "code",
   "execution_count": 12,
   "metadata": {},
   "outputs": [
    {
     "data": {
      "text/plain": [
       "'5.1,3.5,1.4,0.2,Iris-setosa\\n'"
      ]
     },
     "execution_count": 12,
     "metadata": {},
     "output_type": "execute_result"
    }
   ],
   "source": [
    "filename = 'iris.txt'\n",
    "f = open(filename)\n",
    "f.readline() \n",
    "# f_data = f.read() \n",
    "# f_data\n",
    "# f1.readline() \n",
    "# f1.readlines() "
   ]
  },
  {
   "cell_type": "markdown",
   "metadata": {},
   "source": [
    "读取文件 \n",
    "- read() 读取所有文件， type：str\n",
    "- readlines() 读取所有文件， 类型是一个列表，每个元素都是文件的一行\n",
    "- readline（）， 读取文件的第一行, type:str\n",
    "                    \n",
    "      写文件：  \n",
    "      filename_2 = 'test.txt'\n",
    "      f2 = open(filename,'w')\n",
    "      f2.write('Hello world')\n",
    "      写文件，文件存在时写入元素，文件不存在时先创建文件"
   ]
  },
  {
   "cell_type": "code",
   "execution_count": 15,
   "metadata": {},
   "outputs": [
    {
     "data": {
      "text/plain": [
       "['dog.jpg',\n",
       " 'iris.txt',\n",
       " 'map.ipynb',\n",
       " 'list.ipynb',\n",
       " 'os.ipynb',\n",
       " 'collections.ipynb',\n",
       " 'opp.ipynb',\n",
       " 'Python_point.ipynb',\n",
       " '.ipynb_checkpoints']"
      ]
     },
     "execution_count": 15,
     "metadata": {},
     "output_type": "execute_result"
    }
   ],
   "source": [
    "files = os.listdir('.') # '.' 为当前的目录 \n",
    "files "
   ]
  },
  {
   "cell_type": "code",
   "execution_count": null,
   "metadata": {
    "collapsed": true
   },
   "outputs": [],
   "source": []
  },
  {
   "cell_type": "markdown",
   "metadata": {},
   "source": [
    "### shutil\n",
    "shutil模块提供了许多关于文件和文件集合的高级操作，特别提供了支持文件复制和删除的功能。"
   ]
  },
  {
   "cell_type": "code",
   "execution_count": null,
   "metadata": {
    "collapsed": true
   },
   "outputs": [],
   "source": []
  }
 ],
 "metadata": {
  "kernelspec": {
   "display_name": "Python 3",
   "language": "python",
   "name": "python3"
  },
  "language_info": {
   "codemirror_mode": {
    "name": "ipython",
    "version": 3
   },
   "file_extension": ".py",
   "mimetype": "text/x-python",
   "name": "python",
   "nbconvert_exporter": "python",
   "pygments_lexer": "ipython3",
   "version": "3.6.8"
  }
 },
 "nbformat": 4,
 "nbformat_minor": 2
}
