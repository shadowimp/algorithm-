{
 "cells": [
  {
   "cell_type": "markdown",
   "metadata": {},
   "source": [
    "### lambda 匿名函数\n",
    "- lambda 参数1，参数2：表达式 ，用来定义简单的函数。匿名函数经常和map，filter连用"
   ]
  },
  {
   "cell_type": "code",
   "execution_count": 12,
   "metadata": {},
   "outputs": [
    {
     "data": {
      "text/plain": [
       "5"
      ]
     },
     "execution_count": 12,
     "metadata": {},
     "output_type": "execute_result"
    }
   ],
   "source": [
    "fun = lambda x,y : x+y \n",
    "fun(2,3)"
   ]
  },
  {
   "cell_type": "code",
   "execution_count": 1,
   "metadata": {
    "collapsed": true,
    "jupyter": {
     "outputs_hidden": true
    }
   },
   "outputs": [],
   "source": [
    "fun = lambda x : 1 if x >3 else 0"
   ]
  },
  {
   "cell_type": "code",
   "execution_count": 47,
   "metadata": {},
   "outputs": [
    {
     "data": {
      "text/plain": [
       "[2, 3, 4, 3]"
      ]
     },
     "execution_count": 47,
     "metadata": {},
     "output_type": "execute_result"
    }
   ],
   "source": [
    "flatten = lambda x: [y for l in x for y in flatten(l)] if isinstance(x, list) else [x]\n",
    "flatten([[2,3],[4,3]])"
   ]
  },
  {
   "cell_type": "markdown",
   "metadata": {},
   "source": [
    "### filter \n",
    "- filter(函数名，列表名） ， 生成的是一个filter对象， 需要用list() 方法将其变成列表形式,或set()方法将其变成集合形式"
   ]
  },
  {
   "cell_type": "code",
   "execution_count": 41,
   "metadata": {
    "scrolled": true
   },
   "outputs": [
    {
     "data": {
      "text/plain": [
       "[1, 3, 5, 7, 9, 11, 13, 15, 17, 19]"
      ]
     },
     "execution_count": 41,
     "metadata": {},
     "output_type": "execute_result"
    }
   ],
   "source": [
    "a = [x for x in range(20) if x%2==1]\n",
    "b = filter(lambda x:x>10 , a)\n",
    "list(b)"
   ]
  },
  {
   "cell_type": "code",
   "execution_count": 48,
   "metadata": {},
   "outputs": [
    {
     "data": {
      "text/plain": [
       "[6, 7]"
      ]
     },
     "execution_count": 48,
     "metadata": {},
     "output_type": "execute_result"
    }
   ],
   "source": [
    "l = [3,4,6,7]\n",
    "f = lambda x : x >4 \n",
    "list(filter(f,l))"
   ]
  },
  {
   "cell_type": "markdown",
   "metadata": {},
   "source": [
    "### map\n",
    "- 同filter，map(函数名，列表名) \n"
   ]
  },
  {
   "cell_type": "code",
   "execution_count": 44,
   "metadata": {},
   "outputs": [
    {
     "data": {
      "text/plain": [
       "[10, 11, 12, 13, 14, 15, 16, 17, 18, 19]"
      ]
     },
     "execution_count": 44,
     "metadata": {},
     "output_type": "execute_result"
    }
   ],
   "source": [
    "def fun(n):\n",
    "    return n+10\n",
    "\n",
    "nums = [i for i in range(10)]\n",
    "res = map(fun , nums )\n",
    "list(res)"
   ]
  },
  {
   "cell_type": "code",
   "execution_count": 5,
   "metadata": {},
   "outputs": [
    {
     "data": {
      "text/plain": [
       "(2018, 4, 1)"
      ]
     },
     "execution_count": 5,
     "metadata": {},
     "output_type": "execute_result"
    }
   ],
   "source": [
    "#处理日期数据\n",
    "date = '2018-4-1'\n",
    "year , month , day = map(int , date.split('-'))\n",
    "date_t = (year,month ,day)\n",
    "date_t"
   ]
  },
  {
   "cell_type": "code",
   "execution_count": 29,
   "metadata": {},
   "outputs": [
    {
     "name": "stdout",
     "output_type": "stream",
     "text": [
      "{(-1, -1, 2), (-1, 0, 1)}\n"
     ]
    }
   ],
   "source": [
    "b = map(lambda a : tuple(a) ,[[-1,-1,2],[-1,0,1],[-1,0,1]])\n",
    "print(set(b))"
   ]
  },
  {
   "cell_type": "code",
   "execution_count": 28,
   "metadata": {},
   "outputs": [
    {
     "data": {
      "text/plain": [
       "{(-1, -1, 2), (-1, 0, 1)}"
      ]
     },
     "execution_count": 28,
     "metadata": {},
     "output_type": "execute_result"
    }
   ],
   "source": [
    "b = map(tuple ,[[-1,-1,2],[-1,0,1],[-1,0,1]])\n",
    "set(b)"
   ]
  },
  {
   "cell_type": "markdown",
   "metadata": {},
   "source": [
    "### reduce\n",
    "可以将一个列表中的数进行累乘或累加 "
   ]
  },
  {
   "cell_type": "code",
   "execution_count": 8,
   "metadata": {},
   "outputs": [
    {
     "data": {
      "text/plain": [
       "120"
      ]
     },
     "execution_count": 8,
     "metadata": {},
     "output_type": "execute_result"
    }
   ],
   "source": [
    "from functools import reduce \n",
    "l = [1,2,3,4,5]\n",
    "product = reduce(lambda x, y :x*y ,l ) \n",
    "product "
   ]
  },
  {
   "cell_type": "markdown",
   "metadata": {},
   "source": [
    "## sort "
   ]
  },
  {
   "cell_type": "code",
   "execution_count": 1,
   "metadata": {},
   "outputs": [
    {
     "name": "stdout",
     "output_type": "stream",
     "text": [
      "[1, 2, 7, 12, 23, 46]\n"
     ]
    }
   ],
   "source": [
    "point = [1,7,2,46,23,12]\n",
    "print (sorted(point))"
   ]
  },
  {
   "cell_type": "code",
   "execution_count": 2,
   "metadata": {},
   "outputs": [
    {
     "name": "stdout",
     "output_type": "stream",
     "text": [
      "['bitch', 'jinda', 'lerry', 'sue']\n"
     ]
    }
   ],
   "source": [
    "children = [\"sue\",\"lerry\",'jinda',\"bitch\"]\n",
    "print (sorted(children))"
   ]
  },
  {
   "cell_type": "code",
   "execution_count": 3,
   "metadata": {},
   "outputs": [
    {
     "data": {
      "text/plain": [
       "['favorite', 'girl', 'is', 'my', 'Paula']"
      ]
     },
     "execution_count": 3,
     "metadata": {},
     "output_type": "execute_result"
    }
   ],
   "source": [
    "sorted(\"my favorite girl is Paula\".split(),key=str.upper)"
   ]
  },
  {
   "cell_type": "code",
   "execution_count": 6,
   "metadata": {},
   "outputs": [
    {
     "data": {
      "text/plain": [
       "[432, 231, 123]"
      ]
     },
     "execution_count": 6,
     "metadata": {},
     "output_type": "execute_result"
    }
   ],
   "source": [
    "leaderBoard = {231:'ckl',123:'abc',432:'daf'}\n",
    "sorted(leaderBoard,reverse=True)"
   ]
  },
  {
   "cell_type": "code",
   "execution_count": 5,
   "metadata": {},
   "outputs": [
    {
     "data": {
      "text/plain": [
       "[('tae', 'C', 15), ('alice', 'B', 12), ('eliza', 'A', 16)]"
      ]
     },
     "execution_count": 5,
     "metadata": {},
     "output_type": "execute_result"
    }
   ],
   "source": [
    "students = [('alice','B',12),('eliza','A',16),('tae','C',15)]\n",
    "sorted(students,key=lambda student:student[1],reverse=True)"
   ]
  },
  {
   "cell_type": "code",
   "execution_count": 48,
   "metadata": {},
   "outputs": [
    {
     "data": {
      "text/plain": [
       "[3, 4, 2, -1]"
      ]
     },
     "execution_count": 48,
     "metadata": {},
     "output_type": "execute_result"
    }
   ],
   "source": [
    "nums = [3,4,-1,2]\n",
    "nums.sort(key = lambda x: x<0)\n",
    "nums"
   ]
  },
  {
   "cell_type": "markdown",
   "metadata": {},
   "source": [
    "满足x小于0的条件的都是负数， 所以 正数的判断结果都是False ， 负数的判断结果都是True ，  false对应0，排在前面，True对应1 ，排在后面。"
   ]
  },
  {
   "cell_type": "code",
   "execution_count": 51,
   "metadata": {},
   "outputs": [
    {
     "data": {
      "text/plain": [
       "[False, True, True]"
      ]
     },
     "execution_count": 51,
     "metadata": {},
     "output_type": "execute_result"
    }
   ],
   "source": [
    "nums = [True ,False,True ]\n",
    "nums.sort()\n",
    "nums"
   ]
  },
  {
   "cell_type": "code",
   "execution_count": 56,
   "metadata": {
    "scrolled": true
   },
   "outputs": [
    {
     "data": {
      "text/plain": [
       "[0, 1, 3, 4, 23, 34, -2, -3, -9, -32]"
      ]
     },
     "execution_count": 56,
     "metadata": {},
     "output_type": "execute_result"
    }
   ],
   "source": [
    "nums = [4, -3, 1, 3, -9, 23, 34, 0, -2, -32]\n",
    "nums.sort(key=lambda x: (x < 0, abs(x))) #先根据前面的条件进行排序，再根据后面的条件排序\n",
    "nums"
   ]
  },
  {
   "cell_type": "code",
   "execution_count": 4,
   "metadata": {},
   "outputs": [
    {
     "data": {
      "text/plain": [
       "[(3, 'x'), (2, 'y'), (1, 'z')]"
      ]
     },
     "execution_count": 4,
     "metadata": {},
     "output_type": "execute_result"
    }
   ],
   "source": [
    "d = {1:'z',2:'y',3:'x'}\n",
    "sorted(d.items(),key = lambda x:x[1]) #用items中的第二个元素进行排序"
   ]
  },
  {
   "cell_type": "code",
   "execution_count": null,
   "metadata": {
    "collapsed": true,
    "jupyter": {
     "outputs_hidden": true
    }
   },
   "outputs": [],
   "source": []
  }
 ],
 "metadata": {
  "kernelspec": {
   "display_name": "Python 3",
   "language": "python",
   "name": "python3"
  },
  "language_info": {
   "codemirror_mode": {
    "name": "ipython",
    "version": 3
   },
   "file_extension": ".py",
   "mimetype": "text/x-python",
   "name": "python",
   "nbconvert_exporter": "python",
   "pygments_lexer": "ipython3",
   "version": "3.7.4"
  }
 },
 "nbformat": 4,
 "nbformat_minor": 4
}
