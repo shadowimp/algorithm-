{
 "cells": [
  {
   "cell_type": "markdown",
   "metadata": {},
   "source": [
    "# os\n",
    "- os.listdir() 可以列出当前目录下所有的文件名\n",
    "- 可以用endswith()来筛选出某种类型的所有文件"
   ]
  },
  {
   "cell_type": "code",
   "execution_count": 3,
   "metadata": {},
   "outputs": [
    {
     "data": {
      "text/plain": [
       "['dog.jpg',\n",
       " 'iris.txt',\n",
       " 'result_with_hp.csv',\n",
       " 'map.ipynb',\n",
       " 'excel.ipynb',\n",
       " 'iris.xls',\n",
       " 'buaa-python-course.ipynb',\n",
       " 'web.ipynb',\n",
       " 'list.ipynb',\n",
       " 'sort.ipynb',\n",
       " 'tqdm.ipynb',\n",
       " 'string.ipynb',\n",
       " 'os.ipynb',\n",
       " 'collections.ipynb',\n",
       " 'opp.ipynb',\n",
       " 'Python_point.ipynb',\n",
       " '.ipynb_checkpoints']"
      ]
     },
     "execution_count": 3,
     "metadata": {},
     "output_type": "execute_result"
    }
   ],
   "source": [
    "import os \n",
    "os.listdir() "
   ]
  },
  {
   "cell_type": "code",
   "execution_count": 4,
   "metadata": {},
   "outputs": [
    {
     "data": {
      "text/plain": [
       "['map.ipynb',\n",
       " 'excel.ipynb',\n",
       " 'buaa-python-course.ipynb',\n",
       " 'web.ipynb',\n",
       " 'list.ipynb',\n",
       " 'sort.ipynb',\n",
       " 'tqdm.ipynb',\n",
       " 'string.ipynb',\n",
       " 'os.ipynb',\n",
       " 'collections.ipynb',\n",
       " 'opp.ipynb',\n",
       " 'Python_point.ipynb']"
      ]
     },
     "execution_count": 4,
     "metadata": {},
     "output_type": "execute_result"
    }
   ],
   "source": [
    "filenames = os.listdir()\n",
    "files = [file for file in filenames if file.endswith('ipynb')]  #找出所有notebook类型的文件\n",
    "files "
   ]
  },
  {
   "cell_type": "code",
   "execution_count": null,
   "metadata": {},
   "outputs": [],
   "source": [
    "'''\n",
    "python脚本 模糊查询文件名。\n",
    "输入： 文件的关键字 文件的类型\n",
    "输出： 文件的完整路径\n",
    "\n",
    "'''\n",
    "import os  # os模块（operation system)与系统相关的库函数\n",
    "def find_path(path,name,type):\n",
    "\tfiles = os.listdir(path)\n",
    "\tfor f in files:\n",
    "\t\tif name in f and f.endswith(type):\n",
    "\t\t\tprint(f)\n",
    "\n",
    "path = \"/Users/mac/Desktop/git/algorithm/python\"\n",
    "find_path(path,'l','.ipynb')"
   ]
  },
  {
   "cell_type": "code",
   "execution_count": 11,
   "metadata": {},
   "outputs": [
    {
     "data": {
      "text/plain": [
       "'data/1.csv'"
      ]
     },
     "execution_count": 11,
     "metadata": {},
     "output_type": "execute_result"
    }
   ],
   "source": [
    "#路径拼接\n",
    "data_path = 'data'\n",
    "data_filename = ['1.csv' , '2.csv']\n",
    "data_real_path = os.path.join(data_path,data_filename[0])\n",
    "data_real_path"
   ]
  },
  {
   "cell_type": "markdown",
   "metadata": {},
   "source": [
    "### 读取文件 \n",
    "- read() 读取所有文件， 返回一整个字符串\n",
    "- readline（）， 读取文件的第一行, type:str\n",
    "- readlines() 读取所有文件， 返回类型是一个列表，每个元素都是文件的一行\n",
    "- 读大文件, for line in f会自动使用缓存和内存管理"
   ]
  },
  {
   "cell_type": "code",
   "execution_count": 32,
   "metadata": {},
   "outputs": [
    {
     "data": {
      "text/plain": [
       "4522"
      ]
     },
     "execution_count": 32,
     "metadata": {},
     "output_type": "execute_result"
    }
   ],
   "source": [
    "filename = 'iris.txt'\n",
    "f = open(filename,'r')\n",
    "f.readline()\n",
    "len(f.read())\n",
    "# f.readlines() "
   ]
  },
  {
   "cell_type": "code",
   "execution_count": null,
   "metadata": {},
   "outputs": [],
   "source": [
    "files = os.listdir('.') # '.' 为当前的目录 \n",
    "files "
   ]
  },
  {
   "cell_type": "code",
   "execution_count": 2,
   "metadata": {},
   "outputs": [],
   "source": [
    "with open(filename , 'rb') as f:\n",
    "    for line in f:\n",
    "        pass"
   ]
  },
  {
   "cell_type": "markdown",
   "metadata": {},
   "source": [
    "### 写文件\n",
    "写文件，文件存在时写入元素，文件不存在时先创建文件"
   ]
  },
  {
   "cell_type": "code",
   "execution_count": 36,
   "metadata": {},
   "outputs": [
    {
     "data": {
      "text/plain": [
       "11"
      ]
     },
     "execution_count": 36,
     "metadata": {},
     "output_type": "execute_result"
    }
   ],
   "source": [
    "filename = 'test_write.txt'\n",
    "fw = open(filename,'w')\n",
    "fw.write('Hello world')"
   ]
  },
  {
   "cell_type": "code",
   "execution_count": 16,
   "metadata": {},
   "outputs": [],
   "source": [
    "words = ['apple','huawei']\n",
    "with open(\"brand.txt\",'w') as fw:\n",
    "    for word in words:\n",
    "        fw.write(\"%s\\n\" % word) #每写一个单词换行"
   ]
  },
  {
   "cell_type": "markdown",
   "metadata": {},
   "source": [
    "### 删除文件的某行\n",
    "通过先读取文件，在写入除此行外的其他行"
   ]
  },
  {
   "cell_type": "code",
   "execution_count": 11,
   "metadata": {},
   "outputs": [],
   "source": [
    "with open(\"iris.txt\", \"r\") as f:\n",
    "    lines = f.readlines()"
   ]
  },
  {
   "cell_type": "code",
   "execution_count": 13,
   "metadata": {},
   "outputs": [],
   "source": [
    "with open(\"iris.txt\", \"w\") as fw:\n",
    "    for line in lines:\n",
    "        if \"5.1,3.5,1.4,0.2,Iris-setosa\" in line:\n",
    "            continue\n",
    "        fw.write(line)"
   ]
  },
  {
   "cell_type": "markdown",
   "metadata": {},
   "source": [
    "### shutil\n",
    "shutil模块提供了许多关于文件和文件集合的高级操作，特别提供了支持文件复制和删除的功能。"
   ]
  },
  {
   "cell_type": "code",
   "execution_count": null,
   "metadata": {
    "collapsed": true,
    "jupyter": {
     "outputs_hidden": true
    }
   },
   "outputs": [],
   "source": []
  },
  {
   "cell_type": "markdown",
   "metadata": {},
   "source": [
    "### 处理 json\n"
   ]
  },
  {
   "cell_type": "code",
   "execution_count": 37,
   "metadata": {},
   "outputs": [
    {
     "name": "stdout",
     "output_type": "stream",
     "text": [
      "<class 'str'> {\"1\": \"a\", \"2\": \"b\"}\n"
     ]
    }
   ],
   "source": [
    "import json \n",
    "\n",
    "dic = {1:'a',2:'b'}\n",
    "dump_data = json.dumps(dic) # Python数据结构转换为JSON\n",
    "print(type(dump_data),dump_data)"
   ]
  },
  {
   "cell_type": "code",
   "execution_count": 3,
   "metadata": {},
   "outputs": [
    {
     "data": {
      "text/plain": [
       "{'1': 'a', '2': 'b'}"
      ]
     },
     "execution_count": 3,
     "metadata": {},
     "output_type": "execute_result"
    }
   ],
   "source": [
    "data = json.loads(dump_data) # 将一个JSON编码的字符串转换回一个Python数据结构\n",
    "data"
   ]
  },
  {
   "cell_type": "code",
   "execution_count": null,
   "metadata": {},
   "outputs": [],
   "source": [
    "#读 json 文件\n",
    "with open('test.json','r') as f:\n",
    "    data = json.load(f)\n",
    "\n",
    "# 写 json数据data 到 test.json 文件中\n",
    "with open('test.json', 'w') as f:\n",
    "    json.dump(data, f)"
   ]
  },
  {
   "cell_type": "markdown",
   "metadata": {},
   "source": [
    "### 判断关键词是否包含一个字的"
   ]
  },
  {
   "cell_type": "code",
   "execution_count": 39,
   "metadata": {},
   "outputs": [
    {
     "name": "stdout",
     "output_type": "stream",
     "text": [
      "['文化娱乐', '102', '男艺人', '许志安']\n",
      "['文化娱乐', '102', '男艺人', '韦礼安']\n"
     ]
    }
   ],
   "source": [
    "num = 0 \n",
    "with open('/Users/yuanbo6/Downloads/keywords.txt') as f:\n",
    "    for line in f:\n",
    "        num += 1 \n",
    "        line = line.strip()\n",
    "        line = line.split('\\t')\n",
    "        try :\n",
    "            if len(line[4]) == 1 :\n",
    "                print(line[4])\n",
    "                print(num)\n",
    "        except:\n",
    "            print(line)"
   ]
  },
  {
   "cell_type": "code",
   "execution_count": null,
   "metadata": {},
   "outputs": [],
   "source": []
  }
 ],
 "metadata": {
  "kernelspec": {
   "display_name": "Python 3",
   "language": "python",
   "name": "python3"
  },
  "language_info": {
   "codemirror_mode": {
    "name": "ipython",
    "version": 3
   },
   "file_extension": ".py",
   "mimetype": "text/x-python",
   "name": "python",
   "nbconvert_exporter": "python",
   "pygments_lexer": "ipython3",
   "version": "3.7.4"
  }
 },
 "nbformat": 4,
 "nbformat_minor": 4
}
