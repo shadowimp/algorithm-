{
 "cells": [
  {
   "cell_type": "code",
   "execution_count": 7,
   "metadata": {},
   "outputs": [
    {
     "data": {
      "text/plain": [
       "(1.52, -4)"
      ]
     },
     "execution_count": 7,
     "metadata": {},
     "output_type": "execute_result"
    }
   ],
   "source": [
    "round(1.5244,2) , round(-3.50 )"
   ]
  },
  {
   "cell_type": "code",
   "execution_count": 25,
   "metadata": {},
   "outputs": [
    {
     "name": "stdout",
     "output_type": "stream",
     "text": [
      "[1, 2, 7, 12, 23, 46]\n"
     ]
    }
   ],
   "source": [
    "point = [1,7,2,46,23,12]\n",
    "print (sorted(point))"
   ]
  },
  {
   "cell_type": "code",
   "execution_count": 26,
   "metadata": {},
   "outputs": [
    {
     "name": "stdout",
     "output_type": "stream",
     "text": [
      "['bitch', 'jinda', 'lerry', 'sue']\n"
     ]
    }
   ],
   "source": [
    "children = [\"sue\",\"lerry\",'jinda',\"bitch\"]\n",
    "print (sorted(children))"
   ]
  },
  {
   "cell_type": "code",
   "execution_count": 28,
   "metadata": {},
   "outputs": [
    {
     "name": "stdout",
     "output_type": "stream",
     "text": [
      "['favorite', 'girl', 'is', 'my', 'Paula']\n",
      "[432, 231, 123]\n"
     ]
    }
   ],
   "source": [
    "print (sorted(\"my favorite girl is Paula\".split(),key=str.upper))\n",
    "leaderBoard = {231:'ckl',123:'abc',432:'daf'}\n",
    "print(sorted(leaderBoard,reverse=True))"
   ]
  },
  {
   "cell_type": "code",
   "execution_count": 30,
   "metadata": {},
   "outputs": [
    {
     "data": {
      "text/plain": [
       "[('tae', 'C', 15), ('alice', 'B', 12), ('eliza', 'A', 16)]"
      ]
     },
     "execution_count": 30,
     "metadata": {},
     "output_type": "execute_result"
    }
   ],
   "source": [
    "students = [('alice','B',12),('eliza','A',16),('tae','C',15)]\n",
    "sorted(students,key=lambda student:student[1],reverse=True)"
   ]
  },
  {
   "cell_type": "code",
   "execution_count": null,
   "metadata": {},
   "outputs": [],
   "source": []
  }
 ],
 "metadata": {
  "kernelspec": {
   "display_name": "Python 3",
   "language": "python",
   "name": "python3"
  },
  "language_info": {
   "codemirror_mode": {
    "name": "ipython",
    "version": 3
   },
   "file_extension": ".py",
   "mimetype": "text/x-python",
   "name": "python",
   "nbconvert_exporter": "python",
   "pygments_lexer": "ipython3",
   "version": "3.7.4"
  }
 },
 "nbformat": 4,
 "nbformat_minor": 2
}
