{
 "cells": [
  {
   "cell_type": "code",
   "execution_count": 2,
   "metadata": {},
   "outputs": [],
   "source": [
    "import torch \n",
    "import torch.nn as nn\n",
    "import numpy as np "
   ]
  },
  {
   "cell_type": "code",
   "execution_count": 25,
   "metadata": {},
   "outputs": [],
   "source": [
    "class GraphConvolution(nn.Module):\n",
    "    def __init__(self,f1,f2,bias=True):\n",
    "        super(GraphConvolution, self).__init__()\n",
    "        self.W = nn.Linear(f1,f2)\n",
    "        self.leakyrelu = nn.LeakyReLU(0.2)\n",
    "    \n",
    "        self.f1 = f1 \n",
    "        self.f2 = f2\n",
    "        self.bn = nn.BatchNorm2d(1296)\n",
    "        \n",
    "    def forward(self, input, adj):\n",
    "        # input : b,v,t,f1 \n",
    "        b,v,t, f1 = input.size()\n",
    "        input = input.reshape(b,v,-1)\n",
    "        support = self.W(input)  # ( b,v,t*f1 ),  ( t*f1,  t*f2 )-> (b,v,t*f2)\n",
    "        output = torch.bmm(adj.repeat(b,1,1), support)    # (v,v) * ( b, v,t*f2 ) -> (b , v , t*f2)\n",
    "        output = output.reshape(b,v,t,-1)\n",
    "        output = self.bn(output)\n",
    "        return self.leakyrelu(output)"
   ]
  },
  {
   "cell_type": "code",
   "execution_count": 26,
   "metadata": {},
   "outputs": [],
   "source": [
    "# 三张图加在一起\n",
    "class GCN(torch.nn.Module):   \n",
    "    def __init__(self,f1, f2 ): \n",
    "        super(GCN, self).__init__() \n",
    "        self.cn1 = GraphConvolution(f1,f2)\n",
    "        self.cn2 = GraphConvolution(f1,f2)\n",
    "        self.cn3 = GraphConvolution(f1,f2)\n",
    "        \n",
    "    def forward(self, x, graph):\n",
    "        output = self.cn1(x, graph[0])+self.cn2(x,graph[1])+self.cn3(x,graph[2])\n",
    "        return output"
   ]
  },
  {
   "cell_type": "code",
   "execution_count": 27,
   "metadata": {},
   "outputs": [
    {
     "data": {
      "text/plain": [
       "torch.Size([32, 1296, 6, 2])"
      ]
     },
     "execution_count": 27,
     "metadata": {},
     "output_type": "execute_result"
    }
   ],
   "source": [
    "# test gcn\n",
    "gcn = GCN(1*6,2*6)\n",
    "d = torch.rand(32, 1296, 6, 1)\n",
    "g = torch.rand(3,1296,1296)\n",
    "gcn(d,g).shape "
   ]
  },
  {
   "cell_type": "code",
   "execution_count": 30,
   "metadata": {},
   "outputs": [
    {
     "data": {
      "text/plain": [
       "True"
      ]
     },
     "execution_count": 30,
     "metadata": {},
     "output_type": "execute_result"
    }
   ],
   "source": [
    "'ss'.startswith('s')"
   ]
  },
  {
   "cell_type": "code",
   "execution_count": 31,
   "metadata": {},
   "outputs": [
    {
     "data": {
      "text/plain": [
       "1"
      ]
     },
     "execution_count": 31,
     "metadata": {},
     "output_type": "execute_result"
    }
   ],
   "source": [
    "abs(-1)"
   ]
  },
  {
   "cell_type": "code",
   "execution_count": null,
   "metadata": {},
   "outputs": [],
   "source": []
  }
 ],
 "metadata": {
  "kernelspec": {
   "display_name": "Python 3",
   "language": "python",
   "name": "python3"
  },
  "language_info": {
   "codemirror_mode": {
    "name": "ipython",
    "version": 3
   },
   "file_extension": ".py",
   "mimetype": "text/x-python",
   "name": "python",
   "nbconvert_exporter": "python",
   "pygments_lexer": "ipython3",
   "version": "3.7.3"
  }
 },
 "nbformat": 4,
 "nbformat_minor": 2
}
