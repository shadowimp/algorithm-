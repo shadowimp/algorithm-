{
 "cells": [
  {
   "cell_type": "code",
   "execution_count": 36,
   "metadata": {},
   "outputs": [],
   "source": [
    "import numpy as np \n",
    "import torch \n",
    "import torch.nn as nn"
   ]
  },
  {
   "cell_type": "code",
   "execution_count": 37,
   "metadata": {},
   "outputs": [
    {
     "ename": "IndentationError",
     "evalue": "unexpected indent (<ipython-input-37-c93ca553fa6e>, line 4)",
     "output_type": "error",
     "traceback": [
      "\u001b[0;36m  File \u001b[0;32m\"<ipython-input-37-c93ca553fa6e>\"\u001b[0;36m, line \u001b[0;32m4\u001b[0m\n\u001b[0;31m    self.W1 = nn.Linear(6,1)\u001b[0m\n\u001b[0m    ^\u001b[0m\n\u001b[0;31mIndentationError\u001b[0m\u001b[0;31m:\u001b[0m unexpected indent\n"
     ]
    }
   ],
   "source": [
    "class ChebNet(nn.Module):\n",
    "    def __init__(self):\n",
    "        super(ChebtNet,self).__init__()\n",
    "            self.W1 = nn.Linear(6,1)\n",
    "            self.W2 = nn.Linear(1,6)\n",
    "            self.leakyrelu = nn.LeakReLU(0.2)\n",
    "    def forward(self,x,L):\n",
    "        \"\"\"\n",
    "        input: b,v,t,f (f=1)\n",
    "        l: n,n\n",
    "        output: b,v,t,f        \n",
    "        \"\"\"\n",
    "        output = self.W1(x.squeeze(-1)).squeeze(-1)   # b,v,t,f -> b,v\n",
    "        output = torch.matmul(output,L)  # b,v * v,v -> b,v\n",
    "        output = self.W2(output.unsqueeze(-1))  # b,v -> b,v,t\n",
    "        y = output.unsqueeze(-1)   # b,v,t -> b,v,t,f\n",
    "        return self.leakyrelu(y)"
   ]
  },
  {
   "cell_type": "code",
   "execution_count": 38,
   "metadata": {},
   "outputs": [],
   "source": [
    "class GCN(nn.Module):\n",
    "    def __init__(self):\n",
    "        super(GCN,self).__init__()\n",
    "        self.cn1 = ChebNet()\n",
    "        self.cn2 = ChebNet()\n",
    "        self.cn3 = ChebNet()\n",
    "    def forward(self, x , graph):\n",
    "        output = self.cn1(x,graph[0])+self.cn2(x,graph[1])+ self.cn3(x,graph[2])\n",
    "        return output "
   ]
  },
  {
   "cell_type": "code",
   "execution_count": 39,
   "metadata": {},
   "outputs": [],
   "source": [
    "rnn = torch.nn.GRU(10, 20, 2)\n",
    "input = torch.randn(5, 3, 10)\n",
    "h0 = torch.randn(2, 3, 20)\n",
    "output, hn = rnn(input, h0)"
   ]
  },
  {
   "cell_type": "code",
   "execution_count": 26,
   "metadata": {},
   "outputs": [
    {
     "data": {
      "text/plain": [
       "torch.Size([5, 3, 20])"
      ]
     },
     "execution_count": 26,
     "metadata": {},
     "output_type": "execute_result"
    }
   ],
   "source": [
    "output.shape"
   ]
  }
 ],
 "metadata": {
  "kernelspec": {
   "display_name": "Python 3",
   "language": "python",
   "name": "python3"
  },
  "language_info": {
   "codemirror_mode": {
    "name": "ipython",
    "version": 3
   },
   "file_extension": ".py",
   "mimetype": "text/x-python",
   "name": "python",
   "nbconvert_exporter": "python",
   "pygments_lexer": "ipython3",
   "version": "3.7.3"
  }
 },
 "nbformat": 4,
 "nbformat_minor": 2
}
