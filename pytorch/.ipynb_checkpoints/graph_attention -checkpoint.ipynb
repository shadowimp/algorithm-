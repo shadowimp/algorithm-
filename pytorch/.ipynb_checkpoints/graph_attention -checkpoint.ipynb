{
 "cells": [
  {
   "cell_type": "code",
   "execution_count": 2,
   "metadata": {},
   "outputs": [],
   "source": [
    "import torchvision.models as models\n",
    "from torch import nn\n",
    "import torch as t\n",
    "import torch.nn.functional as f\n",
    "from torch.autograd import Variable\n",
    "import torch.optim as optim\n",
    "from torchvision import datasets, transforms\n",
    "# from torchviz import make_dot, make_dot_from_trace"
   ]
  },
  {
   "cell_type": "code",
   "execution_count": null,
   "metadata": {
    "collapsed": true
   },
   "outputs": [],
   "source": [
    "class GraphAttentionLayer(nn.Module):\n",
    "    def __init__(self , in_features , out_features , dropout = 0.5 , alpha = 0.1 ):\n",
    "        self.dropout = dropout\n",
    "        self.in_features = in_features \n",
    "        self.out_features = out_features \n",
    "        self.alpha = alpha \n",
    "        \n",
    "        self.W = nn.Parameters( torch.zeros(size = ( in_features , out_features)))\n",
    "        nn.init.xavier_uniform_(self.W.data , gain = 1.414)\n",
    "        self.a = nn.Parameters( torch.zeros(size = (2* out_features,1)))\n",
    "        nn.init.xavier_uniform_(self.a.data , gain = 1.414)\n",
    "        \n",
    "        self.leakyrelu = nn.LeakyReLU(self.alpha)\n",
    "    \n",
    "    def forward(self, input , adj):\n",
    "        N = input.size()[-2]\n",
    "        F = input.size()[-1]\n",
    "        TB = input.size()[0]\n",
    "        F2 = self.out_features\n",
    "        assert F == self.in_features\n",
    "        input_tensor = input.view(-1 , V ,F )\n",
    "        \n",
    "        h = torch.matmul(input_tensor , self.W)\n",
    "        \n",
    "        hi = h.view(-1 , N ,1 , F2).repeat(1,1,N,1)\n",
    "        hj = h.view(-1 ,1 N ,F2).repeat(1,N,1,1)\n",
    "        \n",
    "        \n",
    "        \n",
    "        \n",
    "        "
   ]
  }
 ],
 "metadata": {
  "kernelspec": {
   "display_name": "Python 3",
   "language": "python",
   "name": "python3"
  },
  "language_info": {
   "codemirror_mode": {
    "name": "ipython",
    "version": 3
   },
   "file_extension": ".py",
   "mimetype": "text/x-python",
   "name": "python",
   "nbconvert_exporter": "python",
   "pygments_lexer": "ipython3",
   "version": "3.6.8"
  }
 },
 "nbformat": 4,
 "nbformat_minor": 2
}
