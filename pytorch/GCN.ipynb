{
 "cells": [
  {
   "cell_type": "code",
   "execution_count": 2,
   "metadata": {
    "collapsed": true
   },
   "outputs": [],
   "source": [
    "import torch\n",
    "import torch.nn as nn\n",
    "import torch.nn.functional as F\n",
    "import networkx as nx"
   ]
  },
  {
   "cell_type": "code",
   "execution_count": 4,
   "metadata": {
    "collapsed": true
   },
   "outputs": [],
   "source": [
    "def normalize(A , symmetric = True ):\n",
    "    A = A + torch.eye(A.size(0))\n",
    "    d = A.sum(1)\n",
    "    if symmetric :\n",
    "        D = torch.diag(torch.pow(d,-0.5))\n",
    "        return D.mm(A).mm(D)\n",
    "    else:\n",
    "        D = torch.diag(torch.pow(d,-1))\n",
    "        return D.mm(A)"
   ]
  },
  {
   "cell_type": "code",
   "execution_count": 5,
   "metadata": {
    "collapsed": true
   },
   "outputs": [],
   "source": [
    "class GCN(nn.Module):\n",
    "    def __init__(self, A , dim_in , dim_out) :\n",
    "        super(GCN,self).__init__() # super(GCN,self) 代表 所有GCN类继承的父类\n",
    "        self.A = A  \n",
    "        self.fc1 = nn.Linear(dim_in , dim_in , bias = False )\n",
    "        self.fc2 = nn.Linear(dim_in , dim_in//2 , bias = False)\n",
    "        self.fc3 = nn.Linear(dim_in//2 ,dim_out , bias = False)\n",
    "    def forward(self, X):\n",
    "        X = F.relu(self.fc1(self.A.mm(X)))\n",
    "        X = F.relu(self.fc2(self.A.mm(X)))\n",
    "        return self.fc3(self.A.mm(x))\n",
    "G = nx."
   ]
  },
  {
   "cell_type": "code",
   "execution_count": null,
   "metadata": {
    "collapsed": true
   },
   "outputs": [],
   "source": []
  }
 ],
 "metadata": {
  "kernelspec": {
   "display_name": "Python 3",
   "language": "python",
   "name": "python3"
  },
  "language_info": {
   "codemirror_mode": {
    "name": "ipython",
    "version": 3
   },
   "file_extension": ".py",
   "mimetype": "text/x-python",
   "name": "python",
   "nbconvert_exporter": "python",
   "pygments_lexer": "ipython3",
   "version": "3.7.3"
  }
 },
 "nbformat": 4,
 "nbformat_minor": 2
}
