{
 "cells": [
  {
   "cell_type": "code",
   "execution_count": 2,
   "metadata": {
    "collapsed": true
   },
   "outputs": [],
   "source": [
    "import torch\n",
    "import torch.nn as nn\n",
    "import torch.nn.functional as F\n",
    "\n",
    "import networkx as nx"
   ]
  },
  {
   "cell_type": "code",
   "execution_count": 4,
   "metadata": {
    "collapsed": true
   },
   "outputs": [],
   "source": [
    "G = nx.Graph() \n",
    "G.add_edge('A', 'B', weight =4)\n",
    "G.add_edge('B', 'D', weight = 2)\n",
    "G.add_edge('A', 'C', weight = 3) \n",
    "G.add_edge('C', 'D', weight = 4) "
   ]
  },
  {
   "cell_type": "code",
   "execution_count": 12,
   "metadata": {},
   "outputs": [
    {
     "data": {
      "text/plain": [
       "['A', 'B', 'D']"
      ]
     },
     "execution_count": 12,
     "metadata": {},
     "output_type": "execute_result"
    }
   ],
   "source": [
    "nx.shortest_path(G, 'A', 'D', weight='weight')"
   ]
  },
  {
   "cell_type": "code",
   "execution_count": 21,
   "metadata": {},
   "outputs": [
    {
     "data": {
      "text/plain": [
       "tensor([1., 1., 1., 1.])"
      ]
     },
     "execution_count": 21,
     "metadata": {},
     "output_type": "execute_result"
    }
   ],
   "source": [
    "a = torch.eye(4)\n",
    "a.sum(-2)"
   ]
  },
  {
   "cell_type": "code",
   "execution_count": 25,
   "metadata": {},
   "outputs": [
    {
     "data": {
      "text/plain": [
       "tensor([[ 7, 10],\n",
       "        [15, 22]])"
      ]
     },
     "execution_count": 25,
     "metadata": {},
     "output_type": "execute_result"
    }
   ],
   "source": [
    "b = torch.tensor([[1,2],[3,4]])\n",
    "c = torch.tensor([[1,2],[3,4]])\n",
    "b.mm(c) #矩阵相乘"
   ]
  },
  {
   "cell_type": "code",
   "execution_count": 26,
   "metadata": {},
   "outputs": [],
   "source": [
    "def normalize(A , symmetric=True):\n",
    "\t# A = A+I\n",
    "\tA = A + torch.eye(A.size(0))\n",
    "\t# 所有节点的度\n",
    "\td = A.sum(1)\n",
    "\tif symmetric:\n",
    "\t\t#D = D^-1/2\n",
    "\t\tD = torch.diag(torch.pow(d , -0.5))\n",
    "        # D^-1/2 * A  * D^ -1/2\n",
    "\t\treturn D.mm(A).mm(D)\n",
    "\telse :\n",
    "\t\t# D=D^-1\n",
    "\t\tD =torch.diag(torch.pow(d,-1))\n",
    "\t\treturn D.mm(A)"
   ]
  },
  {
   "cell_type": "code",
   "execution_count": 28,
   "metadata": {},
   "outputs": [],
   "source": [
    "class GCN(nn.Module):\n",
    "\t'''\n",
    "\tZ = AXW\n",
    "\t'''\n",
    "\tdef __init__(self , A, dim_in , dim_out):\n",
    "\t\tsuper(GCN,self).__init__()\n",
    "\t\tself.A = A\n",
    "\t\tself.fc1 = nn.Linear(dim_in ,dim_in,bias=False)\n",
    "\t\tself.fc2 = nn.Linear(dim_in,dim_in//2,bias=False)\n",
    "\t\tself.fc3 = nn.Linear(dim_in//2,dim_out,bias=False)\n",
    "\n",
    "\tdef forward(self,X):\n",
    "\t\t'''\n",
    "\t\t计算三层gcn\n",
    "\t\t'''\n",
    "\t\tX = F.relu(self.fc1(self.A.mm(X)))\n",
    "\t\tX = F.relu(self.fc2(self.A.mm(X)))\n",
    "\t\treturn self.fc3(self.A.mm(X))"
   ]
  },
  {
   "cell_type": "code",
   "execution_count": null,
   "metadata": {
    "collapsed": true
   },
   "outputs": [],
   "source": []
  },
  {
   "cell_type": "code",
   "execution_count": null,
   "metadata": {
    "collapsed": true
   },
   "outputs": [],
   "source": [
    "\n",
    "#获得空手道俱乐部数据\n",
    "G = nx.karate_club_graph()\n",
    "A = nx.adjacency_matrix(G).todense()\n",
    "#A需要正规化\n",
    "A_normed = normalize(torch.FloatTensor(A),True)\n",
    "\n",
    "N = len(A)\n",
    "X_dim = N\n",
    "\n",
    "# 没有节点的特征，简单用一个单位矩阵表示所有节点\n",
    "X = torch.eye(N,X_dim)\n",
    "# 正确结果\n",
    "Y = torch.zeros(N,1).long()\n",
    "# 计算loss的时候要去掉没有标记的样本\n",
    "Y_mask = torch.zeros(N,1,dtype=torch.uint8)\n",
    "# 一个分类给一个样本\n",
    "Y[0][0]=0\n",
    "Y[N-1][0]=1\n",
    "#有样本的地方设置为1\n",
    "Y_mask[0][0]=1\n",
    "Y_mask[N-1][0]=1\n",
    "\n",
    "#真实的空手道俱乐部的分类数据\n",
    "Real = torch.zeros(34 , dtype=torch.long)\n",
    "for i in [1,2,3,4,5,6,7,8,11,12,13,14,17,18,20,22] :\n",
    "\tReal[i-1] = 0\n",
    "for i in [9,10,15,16,19,21,23,24,25,26,27,28,29,30,31,32,33,34] :\n",
    "\tReal[i-1] = 1\n",
    "\n",
    "# 我们的GCN模型\n",
    "gcn = GCN(A_normed ,X_dim,2)\n",
    "#选择adam优化器\n",
    "gd = torch.optim.Adam(gcn.parameters())\n",
    "\n",
    "for i in range(300):\n",
    "\t#转换到概率空间\n",
    "\ty_pred =F.softmax(gcn(X),dim=1)\n",
    "\t#下面两行计算cross entropy\n",
    "\tloss = (-y_pred.log().gather(1,Y.view(-1,1)))\n",
    "\t#仅保留有标记的样本\n",
    "\tloss = loss.masked_select(Y_mask).mean()\n",
    "\n",
    "\t#梯度下降\n",
    "\t#清空前面的导数缓存\n",
    "\tgd.zero_grad()\n",
    "\t#求导\n",
    "\tloss.backward()\n",
    "\t#一步更新\n",
    "\tgd.step()\n",
    "\n",
    "\tif i%20==0 :\n",
    "\t\t_,mi = y_pred.max(1)\n",
    "\t\tprint(mi)\n",
    "\t\t#计算精确度\n",
    "\t\tprint((mi == Real).float().mean())"
   ]
  },
  {
   "cell_type": "code",
   "execution_count": null,
   "metadata": {
    "collapsed": true
   },
   "outputs": [],
   "source": []
  }
 ],
 "metadata": {
  "kernelspec": {
   "display_name": "Python 3",
   "language": "python",
   "name": "python3"
  },
  "language_info": {
   "codemirror_mode": {
    "name": "ipython",
    "version": 3
   },
   "file_extension": ".py",
   "mimetype": "text/x-python",
   "name": "python",
   "nbconvert_exporter": "python",
   "pygments_lexer": "ipython3",
   "version": "3.6.8"
  }
 },
 "nbformat": 4,
 "nbformat_minor": 2
}
