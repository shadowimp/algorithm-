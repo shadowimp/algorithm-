{
 "cells": [
  {
   "cell_type": "code",
   "execution_count": 6,
   "metadata": {},
   "outputs": [],
   "source": [
    "import jieba \n",
    "import jieba.analyse"
   ]
  },
  {
   "cell_type": "code",
   "execution_count": 10,
   "metadata": {},
   "outputs": [],
   "source": [
    "#关键词提取\n",
    "content = u'#瑞幸咖啡伪造交易22亿#【否认业绩造假两个月之后 瑞幸承认虚假交易22亿元】继此前否认浑水的造假指控之后，瑞幸官方今日发布公告，承认虚假交易22亿元。\\n\\n\\u3000\\u3000公告中称，瑞幸内部调查显示，从2019年第二季度到2019年第四季度与虚假交易相关的总销售金额约为22亿元。\\n\\n\\u3000\\u3000今年1月底，浑水公司发布沽空 \\u200b'"
   ]
  },
  {
   "cell_type": "code",
   "execution_count": 11,
   "metadata": {},
   "outputs": [
    {
     "name": "stdout",
     "output_type": "stream",
     "text": [
      "瑞幸 2.812886471270588\n",
      "浑水 1.2566825678941176\n",
      "交易 1.1557310941647059\n",
      "咖啡 0.4576694254717647\n",
      "发布公告 0.43806192076941175\n"
     ]
    }
   ],
   "source": [
    "#基于TF-IDF\n",
    "keywords = jieba.analyse.extract_tags(content,topK = 5,withWeight = True,allowPOS = ('n','nr','ns'))\n",
    "for item in keywords:    \n",
    "    print(item[0],item[1])"
   ]
  },
  {
   "cell_type": "code",
   "execution_count": 9,
   "metadata": {},
   "outputs": [
    {
     "name": "stdout",
     "output_type": "stream",
     "text": [
      "饮用水 1.0\n",
      "美国 0.5705647859730464\n",
      "奚传武 0.5107384245087675\n",
      "单位 0.4728418893343898\n",
      "讲座 0.4437707320528082\n"
     ]
    }
   ],
   "source": [
    "#基于TextRank\n",
    "keywords = jieba.analyse.textrank(content,topK = 5,withWeight = True,allowPOS = ('n','nr','ns'))\n",
    "for item in keywords:    \n",
    "    print(item[0],item[1])   #基于TextRank结果："
   ]
  },
  {
   "cell_type": "code",
   "execution_count": null,
   "metadata": {},
   "outputs": [],
   "source": []
  }
 ],
 "metadata": {
  "kernelspec": {
   "display_name": "Python 3",
   "language": "python",
   "name": "python3"
  },
  "language_info": {
   "codemirror_mode": {
    "name": "ipython",
    "version": 3
   },
   "file_extension": ".py",
   "mimetype": "text/x-python",
   "name": "python",
   "nbconvert_exporter": "python",
   "pygments_lexer": "ipython3",
   "version": "3.7.4"
  }
 },
 "nbformat": 4,
 "nbformat_minor": 2
}
