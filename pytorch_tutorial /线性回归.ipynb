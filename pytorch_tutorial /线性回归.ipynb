{
 "cells": [
  {
   "cell_type": "code",
   "execution_count": 27,
   "metadata": {
    "collapsed": true
   },
   "outputs": [],
   "source": [
    "import torch \n",
    "import torch.nn as nn \n",
    "import numpy as np \n",
    "import matplotlib.pyplot as plt "
   ]
  },
  {
   "cell_type": "code",
   "execution_count": 28,
   "metadata": {
    "collapsed": true
   },
   "outputs": [],
   "source": [
    "x_train = np.array( [[3.3] , [4.4] , [5.5] ],dtype = np.float32)\n",
    "y_train = np.array( [[1.7], [2.76], [2.09]],dtype = np.float32)\n"
   ]
  },
  {
   "cell_type": "code",
   "execution_count": 29,
   "metadata": {},
   "outputs": [],
   "source": [
    "input_size , output_size = 1,1 \n",
    "model = nn.Linear(input_size,output_size)"
   ]
  },
  {
   "cell_type": "code",
   "execution_count": 30,
   "metadata": {},
   "outputs": [],
   "source": [
    "learning_rate = 0.001 \n",
    "criterion  = nn.MSELoss()\n",
    "optimizer = torch.optim.SGD(model.parameters(), lr = learning_rate)"
   ]
  },
  {
   "cell_type": "code",
   "execution_count": 35,
   "metadata": {},
   "outputs": [
    {
     "name": "stdout",
     "output_type": "stream",
     "text": [
      "Epoch :5/100,  Loss : 0.3018\n",
      "Epoch :10/100,  Loss : 0.3017\n",
      "Epoch :15/100,  Loss : 0.3016\n",
      "Epoch :20/100,  Loss : 0.3015\n",
      "Epoch :25/100,  Loss : 0.3014\n",
      "Epoch :30/100,  Loss : 0.3013\n",
      "Epoch :35/100,  Loss : 0.3012\n",
      "Epoch :40/100,  Loss : 0.3011\n",
      "Epoch :45/100,  Loss : 0.301\n",
      "Epoch :50/100,  Loss : 0.3008\n",
      "Epoch :55/100,  Loss : 0.3007\n",
      "Epoch :60/100,  Loss : 0.3006\n",
      "Epoch :65/100,  Loss : 0.3005\n",
      "Epoch :70/100,  Loss : 0.3004\n",
      "Epoch :75/100,  Loss : 0.3003\n",
      "Epoch :80/100,  Loss : 0.3002\n",
      "Epoch :85/100,  Loss : 0.3001\n",
      "Epoch :90/100,  Loss : 0.3\n",
      "Epoch :95/100,  Loss : 0.2999\n",
      "Epoch :100/100,  Loss : 0.2998\n"
     ]
    }
   ],
   "source": [
    "num_epochs = 100 \n",
    "for epoch in range(num_epochs):\n",
    "    inputs = torch.from_numpy(x_train)\n",
    "    targets = torch.from_numpy(y_train)\n",
    "    outputs = model(inputs)\n",
    "    loss = criterion(outputs,targets)\n",
    "    optimizer.zero_grad()\n",
    "    loss.backward()\n",
    "    optimizer.step()\n",
    "    if (epoch+1) %5 ==0:\n",
    "        print('Epoch :{}/{},  Loss : {:.4}'.format(epoch+1,num_epochs,loss.item()))"
   ]
  },
  {
   "cell_type": "code",
   "execution_count": 37,
   "metadata": {},
   "outputs": [
    {
     "data": {
      "image/png": "[encoded data removed]",
      "text/plain": [
       "<matplotlib.figure.Figure at 0x116ca76d8>"
      ]
     },
     "metadata": {},
     "output_type": "display_data"
    }
   ],
   "source": [
    "predicted = model(torch.from_numpy(x_train)).detach().numpy()\n",
    "plt.plot(x_train,y_train,'ro',label = 'original data')\n",
    "plt.plot(x_train,predicted,label = 'fitted line')\n",
    "plt.legend()\n",
    "plt.show()"
   ]
  },
  {
   "cell_type": "code",
   "execution_count": 38,
   "metadata": {
    "collapsed": true
   },
   "outputs": [],
   "source": [
    "torch.save(model.state_dict(),'model.ckpt')"
   ]
  },
  {
   "cell_type": "code",
   "execution_count": null,
   "metadata": {
    "collapsed": true
   },
   "outputs": [],
   "source": []
  }
 ],
 "metadata": {
  "kernelspec": {
   "display_name": "Python 3",
   "language": "python",
   "name": "python3"
  },
  "language_info": {
   "codemirror_mode": {
    "name": "ipython",
    "version": 3
   },
   "file_extension": ".py",
   "mimetype": "text/x-python",
   "name": "python",
   "nbconvert_exporter": "python",
   "pygments_lexer": "ipython3",
   "version": "3.6.8"
  }
 },
 "nbformat": 4,
 "nbformat_minor": 2
}
